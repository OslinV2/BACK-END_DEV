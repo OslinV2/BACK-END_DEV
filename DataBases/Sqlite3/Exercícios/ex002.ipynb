{
 "cells": [
  {
   "cell_type": "code",
   "execution_count": 7,
   "metadata": {},
   "outputs": [],
   "source": [
    "# Importando modulo do sql\n",
    "import sqlite3"
   ]
  },
  {
   "cell_type": "code",
   "execution_count": 8,
   "metadata": {},
   "outputs": [
    {
     "name": "stdout",
     "output_type": "stream",
     "text": [
      "Alterações feitas com sucesso!!!\n"
     ]
    }
   ],
   "source": [
    "# Removendo dados do bdd no ex001\n",
    "try:\n",
    "     bdd = sqlite3.connect(\"ex001.db\")\n",
    "     \n",
    "     cursor = bdd.cursor()\n",
    "     cursor.execute(\"DELETE from pessoa WHERE idade = 22\")\n",
    "     \n",
    "     bdd.commit()\n",
    "     bdd.close()\n",
    "     print(\"Alterações feitas com sucesso!!!\")\n",
    "     \n",
    "except sqlite3.Error as erro:\n",
    "     print(\"Houve um erro ao tentar excluir algo no bdd!!\")"
   ]
  }
 ],
 "metadata": {
  "kernelspec": {
   "display_name": "Python 3.7.9 64-bit",
   "language": "python",
   "name": "python3"
  },
  "language_info": {
   "codemirror_mode": {
    "name": "ipython",
    "version": 3
   },
   "file_extension": ".py",
   "mimetype": "text/x-python",
   "name": "python",
   "nbconvert_exporter": "python",
   "pygments_lexer": "ipython3",
   "version": "3.7.9"
  },
  "orig_nbformat": 4,
  "vscode": {
   "interpreter": {
    "hash": "5109d816b82be14675a6b11f8e0f0d2e80f029176ed3710d54e125caa8520dfd"
   }
  }
 },
 "nbformat": 4,
 "nbformat_minor": 2
}
