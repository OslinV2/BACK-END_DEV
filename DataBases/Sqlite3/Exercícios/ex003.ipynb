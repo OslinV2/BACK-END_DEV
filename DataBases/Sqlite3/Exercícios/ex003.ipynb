{
 "cells": [
  {
   "cell_type": "code",
   "execution_count": 1,
   "metadata": {},
   "outputs": [],
   "source": [
    "import sqlite3"
   ]
  },
  {
   "cell_type": "code",
   "execution_count": 2,
   "metadata": {},
   "outputs": [],
   "source": [
    "nome = \"carlens\"\n",
    "idade = 66\n",
    "email = \"Carlensoslin@gmail.com\"\n",
    "endereco = \"curitiba, PR\""
   ]
  },
  {
   "cell_type": "code",
   "execution_count": 3,
   "metadata": {},
   "outputs": [
    {
     "data": {
      "text/plain": [
       "<sqlite3.Cursor at 0x21aace096c0>"
      ]
     },
     "execution_count": 3,
     "metadata": {},
     "output_type": "execute_result"
    }
   ],
   "source": [
    "bdd = sqlite3.connect(\"ex002.db\")\n",
    "cursor = bdd.cursor()\n",
    "cursor.execute(\"UPDATE clientes SET nome = 'dracula' WHERE idade = 45\")\n",
    "#cursor.execute(\"CREATE Table clientes('nome','idade','email', 'endereco')\")"
   ]
  },
  {
   "cell_type": "code",
   "execution_count": 4,
   "metadata": {},
   "outputs": [],
   "source": [
    "cursor.execute(f\"INSERT INTO clientes VALUES('{nome}','{idade}', '{email}', '{endereco}')\")\n",
    "bdd.commit()"
   ]
  },
  {
   "cell_type": "code",
   "execution_count": 5,
   "metadata": {},
   "outputs": [
    {
     "name": "stdout",
     "output_type": "stream",
     "text": [
      "[('Darley', '45', 'Darleyoslin@.com', 'PR'), ('Darley', '45', 'Darleyoslin@.com', 'PR'), ('Darley', '45', 'Darleyoslin@gmail.com', 'PR'), ('Darley', '45', 'Darleyoslin@gmail.com', 'PR'), ('Darley', '45', 'Darleyoslin@gmail.com', 'PR'), ('carlens', '66', 'Carlensoslin@gmail.com', 'curitiba, PR'), ('carlens', '66', 'Carlensoslin@gmail.com', 'curitiba, PR')]\n"
     ]
    }
   ],
   "source": [
    "cursor.execute(\"SELECT * from clientes\")\n",
    "print(cursor.fetchall())"
   ]
  }
 ],
 "metadata": {
  "kernelspec": {
   "display_name": "Python 3.7.9 64-bit",
   "language": "python",
   "name": "python3"
  },
  "language_info": {
   "codemirror_mode": {
    "name": "ipython",
    "version": 3
   },
   "file_extension": ".py",
   "mimetype": "text/x-python",
   "name": "python",
   "nbconvert_exporter": "python",
   "pygments_lexer": "ipython3",
   "version": "3.7.9"
  },
  "orig_nbformat": 4,
  "vscode": {
   "interpreter": {
    "hash": "5109d816b82be14675a6b11f8e0f0d2e80f029176ed3710d54e125caa8520dfd"
   }
  }
 },
 "nbformat": 4,
 "nbformat_minor": 2
}
