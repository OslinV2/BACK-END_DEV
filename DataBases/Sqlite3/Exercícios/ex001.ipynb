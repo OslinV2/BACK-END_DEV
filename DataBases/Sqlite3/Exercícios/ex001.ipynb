{
 "cells": [
  {
   "cell_type": "code",
   "execution_count": 1,
   "metadata": {},
   "outputs": [],
   "source": [
    "# Importando o módulo sqlite3\n",
    "# Conecta-se ao banco de dados \"Teste01.bd\"\n",
    "\n",
    "import sqlite3\n",
    "bdd = sqlite3.connect(\"ex001.db\")"
   ]
  },
  {
   "cell_type": "code",
   "execution_count": 2,
   "metadata": {},
   "outputs": [],
   "source": [
    "# Criando um cursor para executar operações no banco de dados\n",
    "# Criando uma tabela chamada \"pessoa\"\n",
    "\n",
    "cursor = bdd.cursor()\n",
    "#cursor.execute(\"CREATE Table pessoa('Nome','idade','email')\")"
   ]
  },
  {
   "cell_type": "code",
   "execution_count": 3,
   "metadata": {},
   "outputs": [],
   "source": [
    "# Inserindo um registro na tabela \"pessoa\"\n",
    "# Confirmando as alterações no banco de dados\n",
    "\n",
    "cursor.execute(\"INSERT INTO pessoa VALUES('nana', 22, 'nana@gmail.com')\")\n",
    "bdd.commit()"
   ]
  },
  {
   "cell_type": "code",
   "execution_count": 4,
   "metadata": {},
   "outputs": [
    {
     "name": "stdout",
     "output_type": "stream",
     "text": [
      "[('Carlens', 15, 'carlensoslin@gmail.com'), ('nana', 22, 'nana@gmail.com'), ('nana', 22, 'nana@gmail.com')]\n"
     ]
    }
   ],
   "source": [
    "# Selecionando todos os registros da tabela \"pessoa\"\n",
    "# Exibindo o resultado na tela\n",
    "\n",
    "cursor.execute(\"SELECT * FROM pessoa\")\n",
    "print(cursor.fetchall())"
   ]
  }
 ],
 "metadata": {
  "kernelspec": {
   "display_name": "Python 3.7.9 64-bit",
   "language": "python",
   "name": "python3"
  },
  "language_info": {
   "codemirror_mode": {
    "name": "ipython",
    "version": 3
   },
   "file_extension": ".py",
   "mimetype": "text/x-python",
   "name": "python",
   "nbconvert_exporter": "python",
   "pygments_lexer": "ipython3",
   "version": "3.7.9"
  },
  "orig_nbformat": 4,
  "vscode": {
   "interpreter": {
    "hash": "5109d816b82be14675a6b11f8e0f0d2e80f029176ed3710d54e125caa8520dfd"
   }
  }
 },
 "nbformat": 4,
 "nbformat_minor": 2
}
