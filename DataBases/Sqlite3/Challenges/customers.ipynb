{
 "cells": [
  {
   "cell_type": "code",
   "execution_count": 1,
   "metadata": {},
   "outputs": [],
   "source": [
    "import sqlite3\n",
    "\n",
    "# Conectar-se ao banco de dados SQLite\n",
    "con = sqlite3.connect(\"customers.db\")\n",
    "\n",
    "# Criar um cursor para executar comandos SQL\n",
    "cur = con.cursor()"
   ]
  },
  {
   "cell_type": "code",
   "execution_count": 2,
   "metadata": {},
   "outputs": [],
   "source": [
    "\n",
    "#Criar uma tabela \"customers\" com as colunas corretamente nomeadas\n",
    "# Criar uma tabela \"customers\" com as colunas corretamente nomeadas\n",
    "#cur.execute(\"\"\"CREATE TABLE customers (\n",
    "                #first_name TEXT,\n",
    "                #last_name TEXT,\n",
    "                #email TEXT\n",
    "            #)\"\"\")"
   ]
  },
  {
   "cell_type": "code",
   "execution_count": 3,
   "metadata": {},
   "outputs": [
    {
     "name": "stdout",
     "output_type": "stream",
     "text": [
      "NAME\tEMAIL\n",
      "-------\t------\n",
      "rose\troseoslin@gmail.com\n",
      "schneidine\tschneidineoslin@gmail.com\n",
      "rose\troseoslin@gmail.com\n",
      "schneidine\tschneidineoslin@gmail.com\n",
      "rose\troseoslin@gmail.com\n",
      "schneidine\tschneidineoslin@gmail.com\n"
     ]
    }
   ],
   "source": [
    "# Inserir valores na tabela\n",
    "\n",
    "many = [('Rose', 'oslin', 'roseoslin@gmail.com'),\n",
    "        ('Schneidine', 'Oslin', 'schneidineoslin@gmail.com'),\n",
    "        ('carlens', 'Oslin', 'carlensoslin@gmail.com'),\n",
    "        ('Maria', 'Rosette', 'mariarosette@gmail.com'),\n",
    "        ('André', 'Barros', 'andrébarros@gmail.com'),\n",
    "        ('Dan', 'Souza', 'dansouza@gmail.com'),\n",
    "        ('Mickeal', 'Ferreira', 'mickealferreira@gmail.com'), \n",
    "        ('Marcos', 'Antonio', 'marcosantonio@gmail.com'),\n",
    "        ('João', 'Silva', 'joaosilva@gmail.com'),\n",
    "        ('Ana', 'Martins', 'anamartins@gmail.com'),\n",
    "        ('Pedro', 'Gomes', 'pedrogomes@gmail.com')]\n",
    "\n",
    "# Executar inserção de dados\n",
    "cur.executemany(\"INSERT INTO customers VALUES (?, ?, ?)\", many)\n",
    "\n",
    "# printar na tela todos os dados de costumers\n",
    "# pra ter o numero das linhas\n",
    "# cur.execute(\"SELECT rowid, * FROM customers\")\n",
    "\n",
    "cur.execute(\"SELECT * FROM customers WHERE last_name = 'Rámos' LIMIT 6\")\n",
    "items = cur.fetchall() \n",
    "# other exemples\n",
    "# fetchone\n",
    "# fetchmany(3)\n",
    "# fetchall\n",
    "\n",
    "# Atualizando dados\n",
    "cur.execute(\"UPDATE customers SET first_name = 'Dadinha' WHERE first_name = 'carlens'\")\n",
    "cur.execute(\"UPDATE customers SET email = 'dadinharamos@gmail.com' WHERE email = 'carlensoslin@gmail.com'\")\n",
    "\n",
    "# Removendo dados\n",
    "cur.execute(\"DELETE FROM customers WHERE email = 'dadinharamos@gmail.com'\")\n",
    "\n",
    "\n",
    "print(\"NAME\" + \"\\tEMAIL\")\n",
    "print(\"-------\" + \"\\t------\")\n",
    "for item in items:\n",
    "        print(item[0] + \"\\t\" + item[2])\n",
    "\n",
    "# Commit para salvar as alterações no banco de dados\n",
    "con.commit()\n",
    "\n",
    "# Fechar a conexão com o banco de dados\n",
    "con.close()\n"
   ]
  },
  {
   "cell_type": "code",
   "execution_count": null,
   "metadata": {},
   "outputs": [],
   "source": []
  }
 ],
 "metadata": {
  "kernelspec": {
   "display_name": "Python 3.7.9 64-bit",
   "language": "python",
   "name": "python3"
  },
  "language_info": {
   "codemirror_mode": {
    "name": "ipython",
    "version": 3
   },
   "file_extension": ".py",
   "mimetype": "text/x-python",
   "name": "python",
   "nbconvert_exporter": "python",
   "pygments_lexer": "ipython3",
   "version": "3.7.9"
  },
  "orig_nbformat": 4,
  "vscode": {
   "interpreter": {
    "hash": "5109d816b82be14675a6b11f8e0f0d2e80f029176ed3710d54e125caa8520dfd"
   }
  }
 },
 "nbformat": 4,
 "nbformat_minor": 2
}
