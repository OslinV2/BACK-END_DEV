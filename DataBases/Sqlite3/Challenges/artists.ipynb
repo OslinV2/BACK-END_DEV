{
 "cells": [
  {
   "cell_type": "code",
   "execution_count": 7,
   "metadata": {},
   "outputs": [],
   "source": [
    "import sqlite3\n",
    "\n",
    "con = sqlite3.connect(\"artists.db\")\n",
    "cur = con.cursor()"
   ]
  },
  {
   "cell_type": "code",
   "execution_count": 9,
   "metadata": {},
   "outputs": [
    {
     "data": {
      "text/plain": [
       "('artists',)"
      ]
     },
     "execution_count": 9,
     "metadata": {},
     "output_type": "execute_result"
    }
   ],
   "source": [
    "#Criando a tabela\n",
    "#cur.execute(\"CREATE TABLE artists(nome, idade, estilo)\")\n",
    "\n",
    "# Consultando a criação da tabela\n",
    "res = cur.execute(\"SELECT name FROM sqlite_master\")\n",
    "res.fetchone()"
   ]
  },
  {
   "cell_type": "code",
   "execution_count": 10,
   "metadata": {},
   "outputs": [
    {
     "data": {
      "text/plain": [
       "True"
      ]
     },
     "execution_count": 10,
     "metadata": {},
     "output_type": "execute_result"
    }
   ],
   "source": [
    "# Verificando se tem uma tabela \"spam\"\n",
    "res = cur.execute(\"SELECT name FROM sqlite_master WHERE name='spam'\")\n",
    "res.fetchone() is None"
   ]
  },
  {
   "cell_type": "code",
   "execution_count": 11,
   "metadata": {},
   "outputs": [],
   "source": [
    "cur.execute(\n",
    "     \"\"\"\n",
    "     INSERT INTO artists VALUES\n",
    "     ('Ricardo Yamaguchi', 35, \"Semi-realista\"),\n",
    "     ('Kim Jung Gi', 47, \"Everything\"), \n",
    "     ('Akira Toriyama', 68,'Manga(Mangaka - Dragon-ball)')\n",
    "     \"\"\"\n",
    ")\n",
    "con.commit()"
   ]
  },
  {
   "cell_type": "code",
   "execution_count": 12,
   "metadata": {},
   "outputs": [
    {
     "data": {
      "text/plain": [
       "[('Ricardo Yamaguchi', 35, 'Semi-realista'),\n",
       " ('Kim Jung Gi', 47, 'Everything'),\n",
       " ('Akira Toriyama', 68, 'Manga(Mangaka - Dragon-ball)'),\n",
       " ('Hirohiko Araki', 63, 'Mangaka - Jojo`s B.A'),\n",
       " (' Masashi Kishimoto', 49, 'Mangaka - Naruto'),\n",
       " ('Eiichiro Oda', 49, 'Mangaka - One piece'),\n",
       " (' Yoshihiro Togashi', 57, 'Mangaka - HunterXHunter'),\n",
       " ('Ricardo Yamaguchi', 35, 'Semi-realista'),\n",
       " ('Kim Jung Gi', 47, 'Everything'),\n",
       " ('Akira Toriyama', 68, 'Manga(Mangaka - Dragon-ball)')]"
      ]
     },
     "metadata": {},
     "output_type": "display_data"
    }
   ],
   "source": [
    "res = cur.execute(\"select * from artists\")\n",
    "lst = res.fetchall()\n",
    "display(lst)"
   ]
  },
  {
   "cell_type": "code",
   "execution_count": 13,
   "metadata": {},
   "outputs": [
    {
     "data": {
      "text/plain": [
       "(' Masashi Kishimoto', 49, 'Mangaka - Naruto')"
      ]
     },
     "metadata": {},
     "output_type": "display_data"
    },
    {
     "data": {
      "text/plain": [
       "(' Yoshihiro Togashi', 57, 'Mangaka - HunterXHunter')"
      ]
     },
     "metadata": {},
     "output_type": "display_data"
    },
    {
     "data": {
      "text/plain": [
       "('Akira Toriyama', 68, 'Manga(Mangaka - Dragon-ball)')"
      ]
     },
     "metadata": {},
     "output_type": "display_data"
    },
    {
     "data": {
      "text/plain": [
       "('Akira Toriyama', 68, 'Manga(Mangaka - Dragon-ball)')"
      ]
     },
     "metadata": {},
     "output_type": "display_data"
    },
    {
     "data": {
      "text/plain": [
       "('Eiichiro Oda', 49, 'Mangaka - One piece')"
      ]
     },
     "metadata": {},
     "output_type": "display_data"
    },
    {
     "data": {
      "text/plain": [
       "('Eiichiro Oda', 49, 'Mangaka - One piece')"
      ]
     },
     "metadata": {},
     "output_type": "display_data"
    },
    {
     "data": {
      "text/plain": [
       "('Hirohiko Araki', 63, 'Mangaka - Jojo`s B.A')"
      ]
     },
     "metadata": {},
     "output_type": "display_data"
    },
    {
     "data": {
      "text/plain": [
       "('Hirohiko Araki', 63, 'Mangaka - Jojo`s B.A')"
      ]
     },
     "metadata": {},
     "output_type": "display_data"
    },
    {
     "data": {
      "text/plain": [
       "('Kim Jung Gi', 47, 'Everything')"
      ]
     },
     "metadata": {},
     "output_type": "display_data"
    },
    {
     "data": {
      "text/plain": [
       "('Kim Jung Gi', 47, 'Everything')"
      ]
     },
     "metadata": {},
     "output_type": "display_data"
    },
    {
     "data": {
      "text/plain": [
       "('Masashi Kishimoto', 49, 'Mangaka - Naruto')"
      ]
     },
     "metadata": {},
     "output_type": "display_data"
    },
    {
     "data": {
      "text/plain": [
       "('Ricardo Yamaguchi', 35, 'Semi-realista')"
      ]
     },
     "metadata": {},
     "output_type": "display_data"
    },
    {
     "data": {
      "text/plain": [
       "('Ricardo Yamaguchi', 35, 'Semi-realista')"
      ]
     },
     "metadata": {},
     "output_type": "display_data"
    },
    {
     "data": {
      "text/plain": [
       "('Yoshihiro Togashi', 57, 'Mangaka - HunterXHunter')"
      ]
     },
     "metadata": {},
     "output_type": "display_data"
    }
   ],
   "source": [
    "data = [\n",
    "     ('Hirohiko Araki', 63, 'Mangaka - Jojo`s B.A'),\n",
    "     ('Masashi Kishimoto', 49, 'Mangaka - Naruto'),\n",
    "     ('Eiichiro Oda', 49, 'Mangaka - One piece'),\n",
    "     ('Yoshihiro Togashi', 57, 'Mangaka - HunterXHunter')\n",
    "     ]\n",
    "\n",
    "cur.executemany(\"INSERT INTO artists VALUES(?, ?, ?)\", data)\n",
    "con.commit()\n",
    "\n",
    "for row in cur.execute(\"SELECT nome, idade, estilo FROM artists ORDER BY nome\"):\n",
    "     display(row)"
   ]
  }
 ],
 "metadata": {
  "kernelspec": {
   "display_name": "Python 3.7.9 64-bit",
   "language": "python",
   "name": "python3"
  },
  "language_info": {
   "codemirror_mode": {
    "name": "ipython",
    "version": 3
   },
   "file_extension": ".py",
   "mimetype": "text/x-python",
   "name": "python",
   "nbconvert_exporter": "python",
   "pygments_lexer": "ipython3",
   "version": "3.7.9"
  },
  "orig_nbformat": 4,
  "vscode": {
   "interpreter": {
    "hash": "5109d816b82be14675a6b11f8e0f0d2e80f029176ed3710d54e125caa8520dfd"
   }
  }
 },
 "nbformat": 4,
 "nbformat_minor": 2
}
