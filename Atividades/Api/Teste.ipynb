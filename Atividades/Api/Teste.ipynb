{
 "cells": [
  {
   "cell_type": "code",
   "execution_count": 1,
   "metadata": {},
   "outputs": [
    {
     "name": "stdout",
     "output_type": "stream",
     "text": [
      "{\n",
      "    \"USDBRL\": {\n",
      "        \"code\": \"USD\",\n",
      "        \"codein\": \"BRL\",\n",
      "        \"name\": \"Dólar Americano/Real Brasileiro\",\n",
      "        \"high\": \"5.8501\",\n",
      "        \"low\": \"5.8496\",\n",
      "        \"varBid\": \"-0.0005\",\n",
      "        \"pctChange\": \"-0.00854686\",\n",
      "        \"bid\": \"5.8496\",\n",
      "        \"ask\": \"5.8516\",\n",
      "        \"timestamp\": \"1741637413\",\n",
      "        \"create_date\": \"2025-03-10 17:10:13\"\n",
      "    },\n",
      "    \"EURBRL\": {\n",
      "        \"code\": \"EUR\",\n",
      "        \"codein\": \"BRL\",\n",
      "        \"name\": \"Euro/Real Brasileiro\",\n",
      "        \"high\": \"6.337136\",\n",
      "        \"low\": \"6.337136\",\n",
      "        \"varBid\": \"0\",\n",
      "        \"pctChange\": \"0\",\n",
      "        \"bid\": \"6.337136\",\n",
      "        \"ask\": \"6.339948\",\n",
      "        \"timestamp\": \"1741637403\",\n",
      "        \"create_date\": \"2025-03-10 17:10:03\"\n",
      "    },\n",
      "    \"BTCBRL\": {\n",
      "        \"code\": \"BTC\",\n",
      "        \"codein\": \"BRL\",\n",
      "        \"name\": \"Bitcoin/Real Brasileiro\",\n",
      "        \"high\": \"491682\",\n",
      "        \"low\": \"456632\",\n",
      "        \"varBid\": \"-20884\",\n",
      "        \"pctChange\": \"-4.304\",\n",
      "        \"bid\": \"464315\",\n",
      "        \"ask\": \"464355\",\n",
      "        \"timestamp\": \"1741637405\",\n",
      "        \"create_date\": \"2025-03-10 17:10:05\"\n",
      "    }\n",
      "}\n"
     ]
    }
   ],
   "source": [
    "# API -> Application Programming Interface\n",
    "# Exemplo: A API do Facebook ou Instagram permite que outras aplicações interajam com os dados dessas plataformas.\n",
    "# Tipos de API: Públicas (ou abertas) e privadas (ou configuradas).\n",
    "\n",
    "import requests\n",
    "from bs4 import BeautifulSoup as bs4\n",
    "import json\n",
    "\n",
    "requisição = requests.get('https://economia.awesomeapi.com.br/last/USD-BRL,EUR-BRL,BTC-BRL')\n",
    "cotacoes = requisição.json()\n",
    "print(json.dumps(cotacoes, indent=4, ensure_ascii=False))"
   ]
  },
  {
   "cell_type": "code",
   "execution_count": 2,
   "metadata": {},
   "outputs": [
    {
     "name": "stdout",
     "output_type": "stream",
     "text": [
      "5.8496\n"
     ]
    }
   ],
   "source": [
    "\n",
    "import requests\n",
    "from bs4 import BeautifulSoup as bs4\n",
    "import json\n",
    "\n",
    "requisição = requests.get('https://economia.awesomeapi.com.br/last/USD-BRL,EUR-BRL,BTC-BRL')\n",
    "cotacoes = requisição.json()\n",
    "# if cotacoes.status_code == 200:\n",
    "#     dados = cotacoes.json()\n",
    "#     print(json.dumps(dados, indent=4, ensure_ascii=False))\n",
    "# else:\n",
    "#     print(f'Erro na requisição: {cotacoes.status_code}')\n",
    "\n",
    "# print(cotacoes.json())\n",
    "cotacao_dolar = cotacoes['USDBRL'][\"bid\"]\n",
    "print(cotacao_dolar)"
   ]
  },
  {
   "cell_type": "code",
   "execution_count": 3,
   "metadata": {},
   "outputs": [
    {
     "name": "stdout",
     "output_type": "stream",
     "text": [
      "Dirham dos Emirados\n",
      "Afghani do Afeganistão\n",
      "Lek Albanês\n",
      "Dram Armênio\n",
      "Guilder das Antilhas\n",
      "Kwanza Angolano\n",
      "Peso Argentino\n",
      "Dólar Australiano\n",
      "Manat Azeri\n",
      "Marco Conversível\n",
      "Dólar de Barbados\n",
      "Taka de Bangladesh\n",
      "Lev Búlgaro\n",
      "Dinar do Bahrein\n",
      "Franco Burundinense\n",
      "Dólar de Brunei\n",
      "Boliviano\n",
      "Real Brasileiro\n",
      "Real Brasileiro Turismo\n",
      "Dólar das Bahamas\n",
      "Bitcoin\n",
      "Pula de Botswana\n",
      "Rublo Bielorrusso\n",
      "Dólar de Belize\n",
      "Dólar Canadense\n",
      "Franco Suíço\n",
      "Franco Suíço\n",
      "Peso Chileno\n",
      "Yuan chinês offshore\n",
      "Yuan Chinês\n",
      "Peso Colombiano\n",
      "Colón Costarriquenho\n",
      "Peso Cubano\n",
      "Escudo cabo-verdiano\n",
      "Coroa Checa\n",
      "Franco do Djubouti\n",
      "Coroa Dinamarquesa\n",
      "Dogecoin\n",
      "Peso Dominicano\n",
      "Dinar Argelino\n",
      "Libra Egípcia\n",
      "Birr Etíope\n",
      "Ethereum\n",
      "Euro\n",
      "Dólar de Fiji\n",
      "Libra Esterlina\n",
      "Lari Georgiano\n",
      "Cedi Ganês\n",
      "Dalasi da Gâmbia\n",
      "Franco de Guiné\n",
      "Quetzal Guatemalteco\n",
      "Dólar de Hong Kong\n",
      "Lempira Hondurenha\n",
      "Kuna Croata\n",
      "Gourde Haitiano\n",
      "Florim Húngaro\n",
      "Rupia Indonésia\n",
      "Novo Shekel Israelense\n",
      "Rúpia Indiana\n",
      "Dinar Iraquiano\n",
      "Rial Iraniano\n",
      "Coroa Islandesa\n",
      "Dólar Jamaicano\n",
      "Dinar Jordaniano\n",
      "Iene Japonês\n",
      "Iene Japonês\n",
      "Shilling Queniano\n",
      "Som Quirguistanês\n",
      "Riel Cambojano\n",
      "Franco Comorense\n",
      "Won Sul-Coreano\n",
      "Dinar Kuwaitiano\n",
      "Dólar das Ilhas Cayman\n",
      "Tengue Cazaquistanês\n",
      "Kip Laosiano\n",
      "Libra Libanesa\n",
      "Rúpia de Sri Lanka\n",
      "Loti do Lesoto\n",
      "Litecoin\n",
      "Dinar Líbio\n",
      "Dirham Marroquino\n",
      "Leu Moldavo\n",
      "Ariary Madagascarense\n",
      "Denar Macedônio\n",
      "Kyat de Mianmar\n",
      "Mongolian Tugrik\n",
      "Pataca de Macau\n",
      "Ouguiya Mauritana\n",
      "Rúpia Mauriciana\n",
      "Rufiyaa Maldiva\n",
      "Kwacha Malauiana\n",
      "Peso Mexicano\n",
      "Ringgit Malaio\n",
      "Metical de Moçambique\n",
      "Dólar Namíbio\n",
      "Naira Nigeriana\n",
      "Naira Nigeriana\n",
      "Naira Nigeriana\n",
      "Córdoba Nicaraguense\n",
      "Coroa Norueguesa\n",
      "Rúpia Nepalesa\n",
      "Dólar Neozelandês\n",
      "Rial Omanense\n",
      "Balboa Panamenho\n",
      "Sol do Peru\n",
      "Kina Papua-Nova Guiné\n",
      "Peso Filipino\n",
      "Rúpia Paquistanesa\n",
      "Zlóti Polonês\n",
      "Guarani Paraguaio\n",
      "Rial Catarense\n",
      "Leu Romeno\n",
      "Dinar Sérvio\n",
      "Rublo Russo\n",
      "Rublo Russo\n",
      "Rublo Russo\n",
      "Franco Ruandês\n",
      "Riyal Saudita\n",
      "Rúpias de Seicheles\n",
      "Libra Sudanesa\n",
      "DSE\n",
      "Coroa Sueca\n",
      "Dólar de Cingapura\n",
      "Shilling Somaliano\n",
      "Dobra São Tomé/Príncipe\n",
      "Colon de El Salvador\n",
      "Libra Síria\n",
      "Lilangeni Suazilandês\n",
      "Baht Tailandês\n",
      "Somoni do Tajiquistão\n",
      "TMT\n",
      "Dinar Tunisiano\n",
      "Nova Lira Turca\n",
      "Dólar de Trinidad\n",
      "Dólar Taiuanês\n",
      "Shilling Tanzaniano\n",
      "Hryvinia Ucraniana\n",
      "Shilling Ugandês\n",
      "Dólar Americano\n",
      "Dólar Americano\n",
      "Peso Uruguaio\n",
      "Som Uzbequistanês\n",
      "Bolívar Venezuelano\n",
      "Dong Vietnamita\n",
      "Vatu de Vanuatu\n",
      "Franco CFA Central\n",
      "Prata\n",
      "Brent Spot\n",
      "Dólar do Caribe Oriental\n",
      "Franco CFA Ocidental\n",
      "Franco CFP\n",
      "XRP\n",
      "Riyal Iemenita\n",
      "Rand Sul-Africano\n",
      "Kwacha Zambiana\n",
      "Dólar Zimbabuense\n",
      "Ouro\n",
      "Real Brasileiro\n",
      "Prata Spot\n",
      "Brett\n",
      "Solana\n",
      "Binance Coin\n"
     ]
    }
   ],
   "source": [
    "import requests\n",
    "import xml.etree.ElementTree as ET\n",
    "re = requests.get('https://economia.awesomeapi.com.br/xml/available/uniq/')\n",
    "moedas = ET.fromstring(re.text)\n",
    "for moeda in moedas:\n",
    "        nome = moeda.text\n",
    "        print(nome)"
   ]
  },
  {
   "cell_type": "code",
   "execution_count": 4,
   "metadata": {},
   "outputs": [
    {
     "name": "stdout",
     "output_type": "stream",
     "text": [
      "Dirham dos Emirados\n",
      "Afghani do Afeganistão\n",
      "Lek Albanês\n",
      "Dram Armênio\n",
      "Guilder das Antilhas\n",
      "Kwanza Angolano\n",
      "Peso Argentino\n",
      "Dólar Australiano\n",
      "Manat Azeri\n",
      "Marco Conversível\n",
      "Dólar de Barbados\n",
      "Taka de Bangladesh\n",
      "Lev Búlgaro\n",
      "Dinar do Bahrein\n",
      "Franco Burundinense\n",
      "Dólar de Brunei\n",
      "Boliviano\n",
      "Real Brasileiro\n",
      "Real Brasileiro Turismo\n",
      "Dólar das Bahamas\n",
      "Bitcoin\n",
      "Pula de Botswana\n",
      "Rublo Bielorrusso\n",
      "Dólar de Belize\n",
      "Dólar Canadense\n",
      "Franco Suíço\n",
      "Franco Suíço\n",
      "Peso Chileno\n",
      "Yuan chinês offshore\n",
      "Yuan Chinês\n",
      "Peso Colombiano\n",
      "Colón Costarriquenho\n",
      "Peso Cubano\n",
      "Escudo cabo-verdiano\n",
      "Coroa Checa\n",
      "Franco do Djubouti\n",
      "Coroa Dinamarquesa\n",
      "Dogecoin\n",
      "Peso Dominicano\n",
      "Dinar Argelino\n",
      "Libra Egípcia\n",
      "Birr Etíope\n",
      "Ethereum\n",
      "Euro\n",
      "Dólar de Fiji\n",
      "Libra Esterlina\n",
      "Lari Georgiano\n",
      "Cedi Ganês\n",
      "Dalasi da Gâmbia\n",
      "Franco de Guiné\n",
      "Quetzal Guatemalteco\n",
      "Dólar de Hong Kong\n",
      "Lempira Hondurenha\n",
      "Kuna Croata\n",
      "Gourde Haitiano\n",
      "Florim Húngaro\n",
      "Rupia Indonésia\n",
      "Novo Shekel Israelense\n",
      "Rúpia Indiana\n",
      "Dinar Iraquiano\n",
      "Rial Iraniano\n",
      "Coroa Islandesa\n",
      "Dólar Jamaicano\n",
      "Dinar Jordaniano\n",
      "Iene Japonês\n",
      "Iene Japonês\n",
      "Shilling Queniano\n",
      "Som Quirguistanês\n",
      "Riel Cambojano\n",
      "Franco Comorense\n",
      "Won Sul-Coreano\n",
      "Dinar Kuwaitiano\n",
      "Dólar das Ilhas Cayman\n",
      "Tengue Cazaquistanês\n",
      "Kip Laosiano\n",
      "Libra Libanesa\n",
      "Rúpia de Sri Lanka\n",
      "Loti do Lesoto\n",
      "Litecoin\n",
      "Dinar Líbio\n",
      "Dirham Marroquino\n",
      "Leu Moldavo\n",
      "Ariary Madagascarense\n",
      "Denar Macedônio\n",
      "Kyat de Mianmar\n",
      "Mongolian Tugrik\n",
      "Pataca de Macau\n",
      "Ouguiya Mauritana\n",
      "Rúpia Mauriciana\n",
      "Rufiyaa Maldiva\n",
      "Kwacha Malauiana\n",
      "Peso Mexicano\n",
      "Ringgit Malaio\n",
      "Metical de Moçambique\n",
      "Dólar Namíbio\n",
      "Naira Nigeriana\n",
      "Naira Nigeriana\n",
      "Naira Nigeriana\n",
      "Córdoba Nicaraguense\n",
      "Coroa Norueguesa\n",
      "Rúpia Nepalesa\n",
      "Dólar Neozelandês\n",
      "Rial Omanense\n",
      "Balboa Panamenho\n",
      "Sol do Peru\n",
      "Kina Papua-Nova Guiné\n",
      "Peso Filipino\n",
      "Rúpia Paquistanesa\n",
      "Zlóti Polonês\n",
      "Guarani Paraguaio\n",
      "Rial Catarense\n",
      "Leu Romeno\n",
      "Dinar Sérvio\n",
      "Rublo Russo\n",
      "Rublo Russo\n",
      "Rublo Russo\n",
      "Franco Ruandês\n",
      "Riyal Saudita\n",
      "Rúpias de Seicheles\n",
      "Libra Sudanesa\n",
      "DSE\n",
      "Coroa Sueca\n",
      "Dólar de Cingapura\n",
      "Shilling Somaliano\n",
      "Dobra São Tomé/Príncipe\n",
      "Colon de El Salvador\n",
      "Libra Síria\n",
      "Lilangeni Suazilandês\n",
      "Baht Tailandês\n",
      "Somoni do Tajiquistão\n",
      "TMT\n",
      "Dinar Tunisiano\n",
      "Nova Lira Turca\n",
      "Dólar de Trinidad\n",
      "Dólar Taiuanês\n",
      "Shilling Tanzaniano\n",
      "Hryvinia Ucraniana\n",
      "Shilling Ugandês\n",
      "Dólar Americano\n",
      "Dólar Americano\n",
      "Peso Uruguaio\n",
      "Som Uzbequistanês\n",
      "Bolívar Venezuelano\n",
      "Dong Vietnamita\n",
      "Vatu de Vanuatu\n",
      "Franco CFA Central\n",
      "Prata\n",
      "Brent Spot\n",
      "Dólar do Caribe Oriental\n",
      "Franco CFA Ocidental\n",
      "Franco CFP\n",
      "XRP\n",
      "Riyal Iemenita\n",
      "Rand Sul-Africano\n",
      "Kwacha Zambiana\n",
      "Dólar Zimbabuense\n",
      "Ouro\n",
      "Real Brasileiro\n",
      "Prata Spot\n",
      "Brett\n",
      "Solana\n",
      "Binance Coin\n"
     ]
    }
   ],
   "source": [
    "import requests\n",
    "import xml.etree.ElementTree as ET\n",
    "Lista_de_combinacoes = requests.get('https://economia.awesomeapi.com.br/xml/available')\n",
    "combinacoes = ET.fromstring(re.text)\n",
    "for combinacao in combinacoes:\n",
    "    lista = combinacao.text\n",
    "    print(lista)"
   ]
  },
  {
   "cell_type": "markdown",
   "metadata": {},
   "source": [
    "Exemplos práticos dos \"type hints\" -> \"Anotações de tipos\""
   ]
  },
  {
   "cell_type": "code",
   "execution_count": 1,
   "metadata": {},
   "outputs": [
    {
     "name": "stdout",
     "output_type": "stream",
     "text": [
      "Carlens Oslin\n"
     ]
    }
   ],
   "source": [
    "def get_full_name(first_name, last_name):\n",
    "    full_name = first_name.title() + \" \" + last_name.title()\n",
    "    return full_name\n",
    "\n",
    "print(get_full_name(\"Carlens\", \"Oslin\"))"
   ]
  },
  {
   "cell_type": "code",
   "execution_count": 3,
   "metadata": {},
   "outputs": [
    {
     "name": "stdout",
     "output_type": "stream",
     "text": [
      "Rose Henry\n"
     ]
    }
   ],
   "source": [
    "def get_full_name(first_name: str, last_name: str):\n",
    "    full_name = first_name.title() + \" \" + last_name.title()\n",
    "    return full_name\n",
    "\n",
    "print(get_full_name(\"rose\", \"henry\"))"
   ]
  },
  {
   "cell_type": "code",
   "execution_count": 13,
   "metadata": {},
   "outputs": [
    {
     "name": "stdout",
     "output_type": "stream",
     "text": [
      "Mamadou is this old: 22\n"
     ]
    }
   ],
   "source": [
    "def get_Name_with_age(name: str, age: int):\n",
    "    name_and_age = name.title() + \" is this old: \" + str(age)\n",
    "    return name_and_age\n",
    "\n",
    "print(get_Name_with_age('mamadou', 22))"
   ]
  },
  {
   "cell_type": "code",
   "execution_count": 15,
   "metadata": {},
   "outputs": [
    {
     "name": "stdout",
     "output_type": "stream",
     "text": [
      "('Nilso Snelrac', 15, 18.08, True)\n"
     ]
    }
   ],
   "source": [
    "def get_items(item_a: str, item_b: int, item_c: float, item_d: bool):\n",
    "    return item_a, item_b, item_c, item_d\n",
    "\n",
    "print(get_items('Nilso Snelrac', 15, 18.08, True))"
   ]
  },
  {
   "cell_type": "markdown",
   "metadata": {},
   "source": [
    "Tipos genéricos com parâmetros tipo, list, tuples e dicionários"
   ]
  },
  {
   "cell_type": "code",
   "execution_count": 20,
   "metadata": {},
   "outputs": [
    {
     "name": "stdout",
     "output_type": "stream",
     "text": [
      "Nilso\n",
      "Enidienhcs\n",
      "19\n",
      "False\n",
      "None\n"
     ]
    }
   ],
   "source": [
    "def process_items(items: list[str, str, int, bool]):\n",
    "    for item in items:\n",
    "        print(item)\n",
    "        \n",
    "print(process_items(['Nilso', 'Enidienhcs', 19, False]))\n"
   ]
  },
  {
   "cell_type": "code",
   "execution_count": 28,
   "metadata": {},
   "outputs": [
    {
     "name": "stdout",
     "output_type": "stream",
     "text": [
      "([b'apple'], ['Esilana', 99])\n"
     ]
    }
   ],
   "source": [
    "def process_items(items_t: tuple[str | int], item_s: set[bytes]):\n",
    "    return item_s, items_t\n",
    "\n",
    "print(process_items(['Esilana', 99], [b'apple']))"
   ]
  },
  {
   "cell_type": "code",
   "execution_count": null,
   "metadata": {},
   "outputs": [
    {
     "name": "stdout",
     "output_type": "stream",
     "text": [
      "apple\n",
      "1.5\n",
      "banana\n",
      "0.8\n",
      "cherry\n",
      "2.0\n"
     ]
    }
   ],
   "source": [
    "def process_items(prices: dict[str , float]): \n",
    "    for item_name, item_price in prices.items():\n",
    "        print(item_name)\n",
    "        print(item_price)\n",
    "\n",
    "prices_dict = {\"apple\": 1.5, \"banana\": 0.8, \"cherry\": 2.0}\n",
    "process_items(prices_dict)"
   ]
  },
  {
   "cell_type": "code",
   "execution_count": 39,
   "metadata": {},
   "outputs": [
    {
     "name": "stdout",
     "output_type": "stream",
     "text": [
      "Hello World\n",
      "None\n"
     ]
    }
   ],
   "source": [
    "from typing import Union\n",
    "def say_hi(name: Union[str] = None):\n",
    "    if name is not None:\n",
    "        print(f'Hey {name}')\n",
    "    else:\n",
    "        print('Hello World')\n",
    "        \n",
    "name = 'Oslin'\n",
    "print(say_hi())"
   ]
  },
  {
   "cell_type": "code",
   "execution_count": 33,
   "metadata": {},
   "outputs": [
    {
     "name": "stdout",
     "output_type": "stream",
     "text": [
      "Hello World\n",
      "None\n"
     ]
    }
   ],
   "source": [
    "from typing import Optional\n",
    "\n",
    "def say_hi(name: str | None = None):\n",
    "    if name is not None:\n",
    "        print(f'Hey {name}!')\n",
    "    else:\n",
    "        print('Hello World')\n",
    "        \n",
    "name = 'Oslin'\n",
    "print(say_hi())"
   ]
  },
  {
   "cell_type": "code",
   "execution_count": null,
   "metadata": {},
   "outputs": [],
   "source": []
  }
 ],
 "metadata": {
  "kernelspec": {
   "display_name": ".venv",
   "language": "python",
   "name": "python3"
  },
  "language_info": {
   "codemirror_mode": {
    "name": "ipython",
    "version": 3
   },
   "file_extension": ".py",
   "mimetype": "text/x-python",
   "name": "python",
   "nbconvert_exporter": "python",
   "pygments_lexer": "ipython3",
   "version": "3.10.4"
  }
 },
 "nbformat": 4,
 "nbformat_minor": 2
}
