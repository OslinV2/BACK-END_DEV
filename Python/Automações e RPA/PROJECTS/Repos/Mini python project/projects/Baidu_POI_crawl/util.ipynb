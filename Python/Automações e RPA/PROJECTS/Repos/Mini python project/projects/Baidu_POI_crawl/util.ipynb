{
 "cells": [
  {
   "cell_type": "code",
   "execution_count": 1,
   "metadata": {},
   "outputs": [],
   "source": [
    "import requests\n",
    "import json\n",
    "import time \n",
    "    \n",
    "# call API\n",
    "def get_baidu_poi(roi_key, city_str, baidu_ak, output):\n",
    "    \"\"\"\n",
    "    inputs:\n",
    "        roi_key: poi name\n",
    "        city_str: city name\n",
    "        baidu_ak: baidu web API AK\n",
    "        output: file save path\n",
    "    \"\"\"\n",
    "    now_time = time.strftime(\"%Y-%m-%d\")\n",
    "    page_num = 0\n",
    "    logfile = open(output + \"/\" + now_time + \".log\", \"a+\", encoding=\"utf-8\")\n",
    "    file = open(output + \"/\" + now_time + \".txt\", \"a+\", encoding=\"utf-8\")\n",
    "    while True:\n",
    "        try:\n",
    "            URL = \"http://api.map.baidu.com/place/v2/search?query=\" + roi_key + \\\n",
    "                \"&region=\" + city_str + \\\n",
    "                \"&output=json\" +  \\\n",
    "                \"&ak=\" + baidu_ak + \\\n",
    "                \"&scope=2\" + \\\n",
    "                \"&page_size=20\" + \\\n",
    "                \"&page_num=\" + str(page_num)\n",
    "            resp = requests.get(URL)\n",
    "            res = json.loads(resp.text)\n",
    "            if len(res[\"results\"]) == 0:\n",
    "                logfile.writelines(time.strftime(\"%Y-%m-%d-%H-%M-%S\") + \" \" + city_str + \" \" + str(page_num) + \"\\n\")\n",
    "                break\n",
    "            else:\n",
    "                for r in res[\"results\"]:\n",
    "                    j_name = r[\"name\"]\n",
    "                    j_lat = r[\"location\"][\"lat\"]\n",
    "                    j_lon = r[\"location\"][\"lng\"]\n",
    "                    j_area = r[\"area\"]\n",
    "                    j_add = r[\"address\"]\n",
    "                    j_str = str(j_name) + \",\" + str(j_lon) + \",\" + str(j_lat) + \",\" + str(j_area) + \",\" + str(j_add) + \"\\n\"\n",
    "                    file.writelines(j_str)\n",
    "            page_num += 1\n",
    "            time.sleep(1)\n",
    "        except:\n",
    "            print(\"except\")\n",
    "            logfile.writelines(time.strftime(\"%Y-%m-%d-%H-%M-%S\") + \" \" + city_str + \" \" + str(page_num) + \"\\n\")\n",
    "            break"
   ]
  }
 ],
 "metadata": {
  "kernelspec": {
   "display_name": "Python 3",
   "language": "python",
   "name": "python3"
  },
  "language_info": {
   "codemirror_mode": {
    "name": "ipython",
    "version": 3
   },
   "file_extension": ".py",
   "mimetype": "text/x-python",
   "name": "python",
   "nbconvert_exporter": "python",
   "pygments_lexer": "ipython3",
   "version": "3.10.4"
  }
 },
 "nbformat": 4,
 "nbformat_minor": 2
}
