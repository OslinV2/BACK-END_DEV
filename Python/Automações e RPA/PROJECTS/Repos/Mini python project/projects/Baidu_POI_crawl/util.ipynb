{
 "cells": [
  {
   "cell_type": "code",
   "execution_count": 1,
   "metadata": {},
   "outputs": [
    {
     "ename": "ModuleNotFoundError",
     "evalue": "No module named 'requests'",
     "output_type": "error",
     "traceback": [
      "\u001b[1;31m---------------------------------------------------------------------------\u001b[0m",
      "\u001b[1;31mModuleNotFoundError\u001b[0m                       Traceback (most recent call last)",
      "Cell \u001b[1;32mIn[1], line 1\u001b[0m\n\u001b[1;32m----> 1\u001b[0m \u001b[38;5;28;01mimport\u001b[39;00m \u001b[38;5;21;01mrequests\u001b[39;00m\n\u001b[0;32m      2\u001b[0m \u001b[38;5;28;01mimport\u001b[39;00m \u001b[38;5;21;01mjson\u001b[39;00m\n\u001b[0;32m      3\u001b[0m \u001b[38;5;28;01mimport\u001b[39;00m \u001b[38;5;21;01mtime\u001b[39;00m \n",
      "\u001b[1;31mModuleNotFoundError\u001b[0m: No module named 'requests'"
     ]
    }
   ],
   "source": [
    "import requests\n",
    "import json\n",
    "import time \n",
    "# call API\n",
    "def get_baidu_poi(roi_key, city_str, baidu_ak, output):\n",
    "    \"\"\"\n",
    "    inputs:\n",
    "        roi_key: poi name\n",
    "        city_str: city name\n",
    "        baidu_ak: baidu web API AK\n",
    "        output: file save path\n",
    "    \"\"\"\n",
    "    now_time = time.strftime(\"%Y-%m-%d\")\n",
    "    page_num = 0\n",
    "    logfile = open(output + \"/\" + now_time + \".log\", \"a+\", encoding=\"utf-8\")\n",
    "    file = open(output + \"/\" + now_time + \".txt\", \"a+\", encoding=\"utf-8\")\n",
    "    while True:\n",
    "        try:\n",
    "            URL = \"http://api.map.baidu.com/place/v2/search?query=\" + roi_key + \\\n",
    "                \"&region=\" + city_str + \\\n",
    "                \"&output=json\" +  \\\n",
    "                \"&ak=\" + baidu_ak + \\\n",
    "                \"&scope=2\" + \\\n",
    "                \"&page_size=20\" + \\\n",
    "                \"&page_num=\" + str(page_num)\n",
    "            resp = requests.get(URL)\n",
    "            res = json.loads(resp.text)\n",
    "            if len(res[\"results\"]) == 0:\n",
    "                logfile.writelines(time.strftime(\"%Y-%m-%d-%H-%M-%S\") + \" \" + city_str + \" \" + str(page_num) + \"\\n\")\n",
    "                break\n",
    "            else:\n",
    "                for r in res[\"results\"]:\n",
    "                    j_name = r[\"name\"]\n",
    "                    j_lat = r[\"location\"][\"lat\"]\n",
    "                    j_lon = r[\"location\"][\"lng\"]\n",
    "                    j_area = r[\"area\"]\n",
    "                    j_add = r[\"address\"]\n",
    "                    j_str = str(j_name) + \",\" + str(j_lon) + \",\" + str(j_lat) + \",\" + str(j_area) + \",\" + str(j_add) + \"\\n\"\n",
    "                    file.writelines(j_str)\n",
    "            page_num += 1\n",
    "            time.sleep(1)\n",
    "        except:\n",
    "            print(\"except\")\n",
    "            logfile.writelines(time.strftime(\"%Y-%m-%d-%H-%M-%S\") + \" \" + city_str + \" \" + str(page_num) + \"\\n\")\n",
    "            break"
   ]
  }
 ],
 "metadata": {
  "kernelspec": {
   "display_name": ".venv",
   "language": "python",
   "name": "python3"
  },
  "language_info": {
   "codemirror_mode": {
    "name": "ipython",
    "version": 3
   },
   "file_extension": ".py",
   "mimetype": "text/x-python",
   "name": "python",
   "nbconvert_exporter": "python",
   "pygments_lexer": "ipython3",
   "version": "3.10.4"
  }
 },
 "nbformat": 4,
 "nbformat_minor": 2
}
