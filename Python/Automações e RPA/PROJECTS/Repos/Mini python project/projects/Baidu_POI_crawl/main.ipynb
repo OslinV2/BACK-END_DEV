{
 "cells": [
  {
   "cell_type": "code",
   "execution_count": null,
   "metadata": {},
   "outputs": [
    {
     "ename": "ModuleNotFoundError",
     "evalue": "No module named 'util'",
     "output_type": "error",
     "traceback": [
      "\u001b[1;31m---------------------------------------------------------------------------\u001b[0m",
      "\u001b[1;31mModuleNotFoundError\u001b[0m                       Traceback (most recent call last)",
      "Cell \u001b[1;32mIn[5], line 3\u001b[0m\n\u001b[0;32m      1\u001b[0m \u001b[38;5;28;01mimport\u001b[39;00m \u001b[38;5;21;01mos\u001b[39;00m\n\u001b[0;32m      2\u001b[0m \u001b[38;5;28;01mimport\u001b[39;00m \u001b[38;5;21;01mos\u001b[39;00m\u001b[38;5;21;01m.\u001b[39;00m\u001b[38;5;21;01mpath\u001b[39;00m \u001b[38;5;28;01mas\u001b[39;00m \u001b[38;5;21;01mosp\u001b[39;00m\n\u001b[1;32m----> 3\u001b[0m \u001b[38;5;28;01mfrom\u001b[39;00m \u001b[38;5;21;01mutil\u001b[39;00m \u001b[38;5;28;01mimport\u001b[39;00m get_baidu_poi\n\u001b[0;32m      4\u001b[0m \u001b[38;5;28;01mimport\u001b[39;00m \u001b[38;5;21;01margparse\u001b[39;00m\n\u001b[0;32m      7\u001b[0m \u001b[38;5;28;01mdef\u001b[39;00m \u001b[38;5;21mrun\u001b[39m(args):\n",
      "\u001b[1;31mModuleNotFoundError\u001b[0m: No module named 'util'"
     ]
    }
   ],
   "source": [
    "import os\n",
    "import os.path as osp\n",
    "import util\n",
    "from util import get_baidu_poi\n",
    "import argparse\n",
    "\n",
    "\n",
    "def run(args):\n",
    "    baidu_web_ak = args.ak\n",
    "    city_str = args.city\n",
    "    roi_key = args.poi\n",
    "    output = args.save\n",
    "    if not osp.exists(output):\n",
    "        os.makedirs(output)\n",
    "    get_baidu_poi(roi_key, city_str, baidu_web_ak, output)\n",
    "    print(\"current area completed\")\n",
    "\n",
    "\n",
    "parser = argparse.ArgumentParser(description=\"input parameters\")\n",
    "parser.add_argument(\"--ak\", type=str, required=True, help=\"Baidu web ak\")\n",
    "parser.add_argument(\"--city\", type=str, required=True, help=\"City name\")\n",
    "parser.add_argument(\"--poi\", type=str, required=True, help=\"POI key\")\n",
    "parser.add_argument(\"--save\", type=str, default=\"output\", help=\"Save path\")\n",
    "\n",
    "\n",
    "if __name__ == \"__main__\":\n",
    "    args = parser.parse_args()\n",
    "    run(args)"
   ]
  }
 ],
 "metadata": {
  "kernelspec": {
   "display_name": "Python 3",
   "language": "python",
   "name": "python3"
  },
  "language_info": {
   "codemirror_mode": {
    "name": "ipython",
    "version": 3
   },
   "file_extension": ".py",
   "mimetype": "text/x-python",
   "name": "python",
   "nbconvert_exporter": "python",
   "pygments_lexer": "ipython3",
   "version": "3.10.4"
  }
 },
 "nbformat": 4,
 "nbformat_minor": 2
}
