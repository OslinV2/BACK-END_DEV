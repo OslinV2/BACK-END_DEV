{
 "cells": [
  {
   "cell_type": "markdown",
   "metadata": {},
   "source": [
    "# REQUESTS TIPS\n",
    "    **POST** --> **Enviar/inserir dados em uma api ou formulário**\n",
    "    payload = {'key1': 'value1', 'key2': 'value2'}\n",
    "    r = requests.post('https://httpbin.org/post', data={'key': 'value'})\n",
    "    r = requests.post('https://httpbin.org/post', data=payload)\n",
    "    print(r.text)\n",
    "    **GET** --> **Requisitar por algum tipo de retorno**\n",
    "    r = requests.get('https://api.github.com/events')\n",
    "    **PUT** --> **atualizar dados já existentes**\n",
    "    r = requests.put('https://httpbin.org/put', data={'key': 'value'})\n",
    "    **DELETE** --> **Deletar algum recurso do servidor**\n",
    "    r = requests.delete('https://httpbin.org/delete')\n",
    "    **PATCH** --> atualiza parciamente partes especificos\n",
    "    r = re.patch('https://httpbin.org/patch')\n",
    "\n",
    "\n",
    "# Valores mais usados no headers\n",
    "    headers = {\n",
    "        \"User-Agent\": \"Mozilla/5.0 (Windows NT 10.0; Win64; x64) AppleWebKit/537.36 (KHTML, como Gecko) Chrome/134.0.0.0 Safari/537.36 Edg/134.0.0.0\",\n",
    "        \"Accept\": \"text/html,application/xhtml+xml,application/xml;q=0.9\",\n",
    "        \"Referer\": \"https://en.wikipedia.org/wiki/Hanumankind\",\n",
    "        \"Sec-Ch-Ua\": '\"Chromium\";v=\"134\", \"Not:A-Brand\";v=\"24\", \"Microsoft Edge\";v=\"134\"',\n",
    "        \"Sec-Ch-Ua-Mobile\": \"?0\",\n",
    "        \"Sec-Ch-Ua-Platform\": '\"Windows\"'}\n",
    "\n",
    "\n",
    "# PARÂMETROS MAIS PRESENTES NO CORPO DA REQUISIÇÃO\n",
    "    Tipo de Parâmetro\tComo Usar\t            Exemplo de Uso\tMétodo HTTP\n",
    "    params={}\t    Parâmetros na URL\t            Busca por nome e idade\tGET\n",
    "    data={}\t        Dados no formulário (key-value)\tEnvio de dados em formato de formulário\tPOST, PUT\n",
    "    json={}\t        Dados no formato JSON\t        Envio de dados como JSON\tPOST, PUT\n",
    "    files={}    \tEnvio de arquivos\t            Envio de arquivos (imagens, documentos)\tPOST, PUT\n",
    "    headers={}\t    Cabeçalhos (ex.: autenticação)\tEnvio de tokens e informações de autenticação\tGET, POST, etc.\n",
    "\n",
    "\n",
    "# Tipos de dados que APIs retornam:\n",
    "    JSON (O mais usado e muito comum em APIs RESTful).\n",
    "    XML (usado em APIs mais antigas).\n",
    "    HTML (quando a API retorna uma página ou conteúdo web).\n",
    "    Texto Simples (para mensagens simples).\n",
    "    Arquivos Binários (imagens, vídeos, PDFs).\n",
    "    CSV (dados tabulares).\n",
    "    Dados de Formulários (para interações simples de formulários).\n",
    "    WebSockets (para comunicação em tempo real)."
   ]
  },
  {
   "cell_type": "code",
   "execution_count": 47,
   "metadata": {},
   "outputs": [
    {
     "name": "stdout",
     "output_type": "stream",
     "text": [
      "<html>\n",
      " <body>\n",
      "  <p>\n",
      "   {\n",
      "  \"args\": {}, \n",
      "  \"headers\": {\n",
      "    \"Accept\": \"*/*\", \n",
      "    \"Accept-Encoding\": \"gzip, deflate\", \n",
      "    \"Authorization\": \"Seu c\\u00f3digo de autentica\\u00e7\\u00e3o\", \n",
      "    \"Host\": \"httpbin.org\", \n",
      "    \"User-Agent\": \"Mozilla/5.0 (Windows NT 10.0; Win64; x64) AppleWebKit/537.36 (KHTML, como Gecko) Chrome/134.0.0.0 Safari/537.36 Edg/134.0.0.0\", \n",
      "    \"X-Amzn-Trace-Id\": \"Root=1-67df7dca-2c66f2f156bd8c783a12ea38\"\n",
      "  }, \n",
      "  \"origin\": \"179.130.32.0\", \n",
      "  \"url\": \"https://httpbin.org/get\"\n",
      "}\n",
      "  </p>\n",
      " </body>\n",
      "</html>\n",
      "\n",
      "--------------------------------------------------\n",
      "{'Date': 'Sun, 23 Mar 2025 03:19:38 GMT', 'Content-Type': 'application/json', 'Content-Length': '476', 'Connection': 'keep-alive', 'Server': 'gunicorn/19.9.0', 'Access-Control-Allow-Origin': '*', 'Access-Control-Allow-Credentials': 'true'}\n"
     ]
    },
    {
     "name": "stderr",
     "output_type": "stream",
     "text": [
      "c:\\Users\\carle\\AppData\\Local\\Programs\\Python\\Python313\\Lib\\site-packages\\urllib3\\connectionpool.py:1097: InsecureRequestWarning: Unverified HTTPS request is being made to host 'httpbin.org'. Adding certificate verification is strongly advised. See: https://urllib3.readthedocs.io/en/latest/advanced-usage.html#tls-warnings\n",
      "  warnings.warn(\n"
     ]
    }
   ],
   "source": [
    "# GET\n",
    "from bs4 import BeautifulSoup  as bs4 # manipular e embelezar os retornos html\n",
    "import requests as re # requisicoes, pra webscraping e interações com apis\n",
    "import json # manipular e embelezar os retornos Json\n",
    "\n",
    "# Disfarçando-se so navegador, usado em vezes que uma api, demanda autenthication -> [Usado para APIs protegidas por tokens]\n",
    "headers = {\n",
    "    \"User-Agent\": \"Mozilla/5.0 (Windows NT 10.0; Win64; x64) AppleWebKit/537.36 (KHTML, como Gecko) Chrome/134.0.0.0 Safari/537.36 Edg/134.0.0.0\",\n",
    "    \"Authorization\": \"Seu código de autenticação\"\n",
    "}\n",
    "# Solicitando uma requisição e usando o bs4 pra deixar-lo mais bonitinho\n",
    "response = re.get('https://httpbin.org/get', verify=False, headers=headers)\n",
    "soup = bs4(response.text, 'lxml') # tipos de parsers pra analise do html ou 'xml' lxml ou 'html.parser'\n",
    "print(soup.prettify())\n",
    "print('-' * 50)\n",
    "print(response.headers)\n"
   ]
  },
  {
   "cell_type": "markdown",
   "metadata": {},
   "source": [
    "# Tipos de retorno -> **GET**\n",
    "    # JSON\tapplication/json\n",
    "    # HTML\ttext/html\n",
    "    # Texto puro\ttext/plain\n",
    "    # XML\tapplication/xml\n",
    "    # Arquivo CSV\ttext/csv\n",
    "    # Imagem PNG\timage/png\n",
    "    # Arquivo ZIP\tapplication/zip"
   ]
  },
  {
   "cell_type": "code",
   "execution_count": 48,
   "metadata": {},
   "outputs": [
    {
     "name": "stdout",
     "output_type": "stream",
     "text": [
      "--------------------url--------------------\n",
      "https://httpbin.org/get?nome=Mariana&idade=27\n",
      "--------------------Tipo de retorno--------------------\n",
      "O tipo de retorno é Dicionário/Json\n"
     ]
    },
    {
     "name": "stderr",
     "output_type": "stream",
     "text": [
      "c:\\Users\\carle\\AppData\\Local\\Programs\\Python\\Python313\\Lib\\site-packages\\urllib3\\connectionpool.py:1097: InsecureRequestWarning: Unverified HTTPS request is being made to host 'httpbin.org'. Adding certificate verification is strongly advised. See: https://urllib3.readthedocs.io/en/latest/advanced-usage.html#tls-warnings\n",
      "  warnings.warn(\n"
     ]
    }
   ],
   "source": [
    "# Tipos de retorno\n",
    "response = re.get('https://httpbin.org/get', verify=False, params={'nome': 'Mariana', 'idade': 27}) # parâmetros direto na url do corpo da requisição, usado as vezes pra filtrar e etc..\n",
    "# Veja Os parametros na url\n",
    "print('-'*20+'url'+'-' * 20)\n",
    "print(response.url)\n",
    "print('-'*20+'Tipo de retorno'+'-' * 20)\n",
    "\n",
    "# Tipos de retornos de acordo com a tabelinha em cima\n",
    "if 'application/json' in response.headers['content-type']:\n",
    "    print('O tipo de retorno é Dicionário/Json')\n",
    "elif 'text/html' in response.headers['content-type']:\n",
    "    print('O tipo de retorno é HTML puro!') \n",
    "elif 'text/plain' in response.headers['content-type']:\n",
    "    print('O tipo de retorno é Texto puro!')\n",
    "elif 'application/xml' in response.headers['content-type']:\n",
    "    print('O tipo de retorno é XML')\n",
    "elif 'text/csv' in response.headers['content-type']:\n",
    "    print('O tipo de retorno é CSV!')\n",
    "elif 'image/png' in response.headers['content-type']:\n",
    "    print('O tipo de retorno é PNG')\n",
    "elif 'application/zip' in response.headers['content-type']:\n",
    "    print('O tipo de retorno é ZIP')\n",
    "else:\n",
    "    print(type(response.text)) # type: o tipo de retorno, de acrodo com text,content,json e etc\n"
   ]
  },
  {
   "cell_type": "markdown",
   "metadata": {},
   "source": [
    "# GET - JSON\n",
    "# json.dumps(obj, indent=N, sort_keys=True, ensure_ascii=False) → Converte um dicionário Python em uma string JSON formatada. (embelezamento)\n",
    "# json.loads(json_str) → Converte uma string JSON para um dicionário (dict). (embelezamento, só que faz a mesma coisa que o .json(), só que manualmente)\n",
    "# Manipulação de arquivos json \n",
    "# json.dump(obj, file, indent=N) → Salva um dicionário em um arquivo JSON.\n",
    "# json.load(file) → Lê um JSON de um arquivo e converte para dict."
   ]
  },
  {
   "cell_type": "code",
   "execution_count": 49,
   "metadata": {},
   "outputs": [
    {
     "name": "stderr",
     "output_type": "stream",
     "text": [
      "c:\\Users\\carle\\AppData\\Local\\Programs\\Python\\Python313\\Lib\\site-packages\\urllib3\\connectionpool.py:1097: InsecureRequestWarning: Unverified HTTPS request is being made to host 'httpbin.org'. Adding certificate verification is strongly advised. See: https://urllib3.readthedocs.io/en/latest/advanced-usage.html#tls-warnings\n",
      "  warnings.warn(\n"
     ]
    },
    {
     "name": "stdout",
     "output_type": "stream",
     "text": [
      "{\n",
      "    \"args\": {},\n",
      "    \"headers\": {\n",
      "        \"Accept\": \"*/*\",\n",
      "        \"Accept-Encoding\": \"gzip, deflate\",\n",
      "        \"Host\": \"httpbin.org\",\n",
      "        \"User-Agent\": \"python-requests/2.32.3\",\n",
      "        \"X-Amzn-Trace-Id\": \"Root=1-67df7dcc-3303e6e6412930f34c227cc6\"\n",
      "    },\n",
      "    \"origin\": \"179.130.32.0\",\n",
      "    \"url\": \"https://httpbin.org/get\"\n",
      "}\n"
     ]
    }
   ],
   "source": [
    "response = re.get('https://httpbin.org/get', verify=False)\n",
    "embelezar_json = json.dumps(response.json(), indent=4, sort_keys=True, ensure_ascii=False)\n",
    "print(embelezar_json)\n",
    "# json.loads(response.text) # --> formatar o retorno em dict de python manualmente\n",
    "# response.json() # formato para dict python direto da api\n",
    "# response.json().keys() # --> As chaves do dict/json\n"
   ]
  },
  {
   "cell_type": "code",
   "execution_count": 50,
   "metadata": {},
   "outputs": [
    {
     "name": "stdout",
     "output_type": "stream",
     "text": [
      "{'Date': 'Sun, 23 Mar 2025 03:19:41 GMT', 'Content-Type': 'application/json', 'Content-Length': '567', 'Connection': 'keep-alive', 'Server': 'gunicorn/19.9.0', 'Access-Control-Allow-Origin': '*', 'Access-Control-Allow-Credentials': 'true'}\n",
      "{\n",
      "    \"args\": {},\n",
      "    \"data\": \"\",\n",
      "    \"files\": {},\n",
      "    \"form\": {\n",
      "        \"cidade\": \"Curitiba\",\n",
      "        \"email\": \"carlensoslin@email.com\",\n",
      "        \"idade\": \"16\",\n",
      "        \"nome\": \"Oslin\"\n",
      "    },\n",
      "    \"headers\": {\n",
      "        \"Accept\": \"*/*\",\n",
      "        \"Accept-Encoding\": \"gzip, deflate\",\n",
      "        \"Content-Length\": \"66\",\n",
      "        \"Content-Type\": \"application/x-www-form-urlencoded\",\n",
      "        \"Host\": \"httpbin.org\",\n",
      "        \"User-Agent\": \"python-requests/2.32.3\",\n",
      "        \"X-Amzn-Trace-Id\": \"Root=1-67df7dcd-4ef50a1f7af63a785c592b4f\"\n",
      "    },\n",
      "    \"json\": null,\n",
      "    \"origin\": \"179.130.32.0\",\n",
      "    \"url\": \"https://httpbin.org/post\"\n",
      "}\n"
     ]
    },
    {
     "name": "stderr",
     "output_type": "stream",
     "text": [
      "c:\\Users\\carle\\AppData\\Local\\Programs\\Python\\Python313\\Lib\\site-packages\\urllib3\\connectionpool.py:1097: InsecureRequestWarning: Unverified HTTPS request is being made to host 'httpbin.org'. Adding certificate verification is strongly advised. See: https://urllib3.readthedocs.io/en/latest/advanced-usage.html#tls-warnings\n",
      "  warnings.warn(\n"
     ]
    }
   ],
   "source": [
    "# POST\n",
    "content = {'nome': 'Oslin', 'idade': '16', 'email': 'carlensoslin@email.com', 'cidade': 'Curitiba'}\n",
    "{'nome': 'Mariana', 'idade': '27', 'email': 'mariana27@email.com', 'cidade': 'Rio de Janeiro'}\n",
    "{'nome': 'Carlos', 'idade': '40', 'email': 'carlos40@email.com', 'cidade': 'Belo Horizonte'}\n",
    "{'nome': 'Fernanda', 'idade': '35', 'email': 'fernanda35@email.com', 'cidade': 'Curitiba'}\n",
    "{'nome': 'Juliana', 'idade': '31', 'email': 'juliana31@email.com', 'cidade': 'Porto Alegre'}\n",
    "{'nome': 'Lucas', 'idade': '29', 'email': 'lucas29@email.com', 'cidade': 'Salvador'}\n",
    "{'nome': 'Roberto', 'idade': '45', 'email': 'roberto45@email.com', 'cidade': 'Florianópolis'}\n",
    "{'nome': 'Aline', 'idade': '23', 'email': 'aline23@email.com', 'cidade': 'Recife'}\n",
    "{'nome': 'Eduardo', 'idade': '37', 'email': 'eduardo37@email.com', 'cidade': 'Fortaleza'}\n",
    "{'nome': 'Beatriz', 'idade': '30', 'email': 'beatriz30@email.com', 'cidade': 'Manaus'}\n",
    "{'nome': 'Gustavo', 'idade': '28', 'email': 'gustavo28@email.com', 'cidade': 'Brasília'}\n",
    "{'nome': 'Cláudia', 'idade': '39', 'email': 'claudia39@email.com', 'cidade': 'Natal'}\n",
    "{'nome': 'Fábio', 'idade': '32', 'email': 'fabio32@email.com', 'cidade': 'João Pessoa'}\n",
    "{'nome': 'Patrícia', 'idade': '26', 'email': 'patricia26@email.com', 'cidade': 'Campinas'}\n",
    "{'nome': 'André', 'idade': '34', 'email': 'andre34@email.com', 'cidade': 'São Luís'}\n",
    "{'nome': 'Tatiane', 'idade': '38', 'email': 'tatiane38@email.com', 'cidade': 'Belém'}\n",
    "{'nome': 'Renato', 'idade': '41', 'email': 'renato41@email.com', 'cidade': 'Teresina'}\n",
    "{'nome': 'Vanessa', 'idade': '25', 'email': 'vanessa25@email.com', 'cidade': 'Goiânia'}\n",
    "{'nome': 'Rodrigo', 'idade': '36', 'email': 'rodrigo36@email.com', 'cidade': 'Campo Grande'}\n",
    "{'nome': 'Camila', 'idade': '29', 'email': 'camila29@email.com', 'cidade': 'Vitória'}\n",
    "\n",
    "# post = re.post('https://httpbin.org/post', data={\"Nome\": \"Nilso\"}, verify=False)\n",
    "post = re.post('https://httpbin.org/post', verify=False, data=content)\n",
    "print(post.headers)\n",
    "embelezar_json = json.dumps(post.json(), indent=4, sort_keys=True, ensure_ascii=False)\n",
    "print(embelezar_json)"
   ]
  },
  {
   "cell_type": "code",
   "execution_count": 51,
   "metadata": {},
   "outputs": [
    {
     "name": "stderr",
     "output_type": "stream",
     "text": [
      "c:\\Users\\carle\\AppData\\Local\\Programs\\Python\\Python313\\Lib\\site-packages\\urllib3\\connectionpool.py:1097: InsecureRequestWarning: Unverified HTTPS request is being made to host 'httpbin.org'. Adding certificate verification is strongly advised. See: https://urllib3.readthedocs.io/en/latest/advanced-usage.html#tls-warnings\n",
      "  warnings.warn(\n"
     ]
    },
    {
     "name": "stdout",
     "output_type": "stream",
     "text": [
      "application/json\n",
      "{\n",
      "    \"args\": {},\n",
      "    \"data\": \"\",\n",
      "    \"files\": {},\n",
      "    \"form\": {\n",
      "        \"Key01\": \"Value01\"\n",
      "    },\n",
      "    \"headers\": {\n",
      "        \"Accept\": \"*/*\",\n",
      "        \"Accept-Encoding\": \"gzip, deflate\",\n",
      "        \"Content-Length\": \"13\",\n",
      "        \"Content-Type\": \"application/x-www-form-urlencoded\",\n",
      "        \"Host\": \"httpbin.org\",\n",
      "        \"User-Agent\": \"python-requests/2.32.3\",\n",
      "        \"X-Amzn-Trace-Id\": \"Root=1-67df7dce-2949a3f92644c90c5632cb53\"\n",
      "    },\n",
      "    \"json\": null,\n",
      "    \"origin\": \"179.130.32.0\",\n",
      "    \"url\": \"https://httpbin.org/put\"\n",
      "}\n"
     ]
    }
   ],
   "source": [
    "# PUT\n",
    "putting = re.put('https://httpbin.org/put', data={\"Key01\": \"Value01\"}, verify=False)\n",
    "print(putting.headers['content-type'])\n",
    "print(json.dumps(putting.json(), indent=4, sort_keys=True, ensure_ascii=False))"
   ]
  },
  {
   "cell_type": "code",
   "execution_count": 52,
   "metadata": {},
   "outputs": [
    {
     "name": "stderr",
     "output_type": "stream",
     "text": [
      "c:\\Users\\carle\\AppData\\Local\\Programs\\Python\\Python313\\Lib\\site-packages\\urllib3\\connectionpool.py:1097: InsecureRequestWarning: Unverified HTTPS request is being made to host 'httpbin.org'. Adding certificate verification is strongly advised. See: https://urllib3.readthedocs.io/en/latest/advanced-usage.html#tls-warnings\n",
      "  warnings.warn(\n"
     ]
    },
    {
     "name": "stdout",
     "output_type": "stream",
     "text": [
      "{\n",
      "  \"args\": {}, \n",
      "  \"data\": \"\", \n",
      "  \"files\": {}, \n",
      "  \"form\": {}, \n",
      "  \"headers\": {\n",
      "    \"Accept\": \"*/*\", \n",
      "    \"Accept-Encoding\": \"gzip, deflate\", \n",
      "    \"Content-Length\": \"0\", \n",
      "    \"Host\": \"httpbin.org\", \n",
      "    \"User-Agent\": \"python-requests/2.32.3\", \n",
      "    \"X-Amzn-Trace-Id\": \"Root=1-67df7dcf-6f3603fe2197877759ee8c7e\"\n",
      "  }, \n",
      "  \"json\": null, \n",
      "  \"origin\": \"179.130.32.0\", \n",
      "  \"url\": \"https://httpbin.org/delete\"\n",
      "}\n",
      "\n"
     ]
    }
   ],
   "source": [
    "# DELETE\n",
    "r = re.delete('https://httpbin.org/delete', verify=False)\n",
    "print(r.text)"
   ]
  },
  {
   "cell_type": "code",
   "execution_count": 53,
   "metadata": {},
   "outputs": [
    {
     "name": "stderr",
     "output_type": "stream",
     "text": [
      "c:\\Users\\carle\\AppData\\Local\\Programs\\Python\\Python313\\Lib\\site-packages\\urllib3\\connectionpool.py:1097: InsecureRequestWarning: Unverified HTTPS request is being made to host 'httpbin.org'. Adding certificate verification is strongly advised. See: https://urllib3.readthedocs.io/en/latest/advanced-usage.html#tls-warnings\n",
      "  warnings.warn(\n"
     ]
    },
    {
     "name": "stdout",
     "output_type": "stream",
     "text": [
      "{\n",
      "    \"args\": {},\n",
      "    \"data\": \"\",\n",
      "    \"files\": {},\n",
      "    \"form\": {},\n",
      "    \"headers\": {\n",
      "        \"Accept\": \"*/*\",\n",
      "        \"Accept-Encoding\": \"gzip, deflate\",\n",
      "        \"Content-Length\": \"0\",\n",
      "        \"Host\": \"httpbin.org\",\n",
      "        \"User-Agent\": \"python-requests/2.32.3\",\n",
      "        \"X-Amzn-Trace-Id\": \"Root=1-67df7dd0-02231eb719b2ae2c597677ae\"\n",
      "    },\n",
      "    \"json\": null,\n",
      "    \"origin\": \"179.130.32.0\",\n",
      "    \"url\": \"https://httpbin.org/patch\"\n",
      "}\n"
     ]
    },
    {
     "name": "stderr",
     "output_type": "stream",
     "text": [
      "c:\\Users\\carle\\AppData\\Local\\Programs\\Python\\Python313\\Lib\\site-packages\\urllib3\\connectionpool.py:1097: InsecureRequestWarning: Unverified HTTPS request is being made to host 'jsonplaceholder.typicode.com'. Adding certificate verification is strongly advised. See: https://urllib3.readthedocs.io/en/latest/advanced-usage.html#tls-warnings\n",
      "  warnings.warn(\n",
      "c:\\Users\\carle\\AppData\\Local\\Programs\\Python\\Python313\\Lib\\site-packages\\urllib3\\connectionpool.py:1097: InsecureRequestWarning: Unverified HTTPS request is being made to host 'jsonplaceholder.typicode.com'. Adding certificate verification is strongly advised. See: https://urllib3.readthedocs.io/en/latest/advanced-usage.html#tls-warnings\n",
      "  warnings.warn(\n"
     ]
    },
    {
     "name": "stdout",
     "output_type": "stream",
     "text": [
      "{'userId': 1, 'id': 1, 'title': 'sunt aut facere repellat provident occaecati excepturi optio reprehenderit', 'body': 'quia et suscipit\\nsuscipit recusandae consequuntur expedita et cum\\nreprehenderit molestiae ut ut quas totam\\nnostrum rerum est autem sunt rem eveniet architecto'}\n",
      "{'userId': 1, 'id': 1, 'title': 'Título atualizado com sucesso!!', 'body': 'Conteúdo do corpo atualizado com sucesso!!'}\n"
     ]
    }
   ],
   "source": [
    "# PACTH\n",
    "r = re.patch('https://httpbin.org/patch', verify=False)\n",
    "print(json.dumps(r.json(), indent=4))\n",
    "\n",
    "url = \"https://jsonplaceholder.typicode.com/posts/1\"\n",
    "dados = {\"title\": \"Título atualizado com sucesso!!\", \"body\": \"Conteúdo do corpo atualizado com sucesso!!\"}\n",
    "\n",
    "nome_normal = re.get(url, verify=False)\n",
    "nome_atualizado = re.patch(url, json=dados, verify=False)\n",
    "print(nome_normal.json())\n",
    "print(nome_atualizado.json())"
   ]
  },
  {
   "cell_type": "markdown",
   "metadata": {},
   "source": [
    "# **Testando funcionalidades**"
   ]
  },
  {
   "cell_type": "code",
   "execution_count": 54,
   "metadata": {},
   "outputs": [
    {
     "name": "stdout",
     "output_type": "stream",
     "text": [
      "-------------------- Html bonitinho --------------------\n",
      "\n",
      "<html>\n",
      " <body>\n",
      "  <p>\n",
      "   [{\"id\":\"47858636473\",\"type\":\"CreateEvent\",\"actor\":{\"id\":193172844,\"login\":\"mahendar1333\",\"display_login\":\"mahendar1333\",\"gravatar_id\":\"\",\"url\":\"https://api.github.com/users/mahendar1333\",\"avatar_url\":\"https://avatars.githubusercontent.com/u/193172844?\"},\"repo\":{\"id\":953303177,\"name\":\"mahendar1333/Automatic-Covid-Detection\",\"url\":\"https://api.github.com/repos/mahendar1333/Automatic-Covid-Detection\"},\"payload\":{\"ref\":null,\"ref_type\":\"repository\",\"master_branch\":\"main\",\"description\":null,\"pusher_type\":\"user\"},\"public\":true,\"created_at\":\"2025-03-23T03:14:45Z\"},{\"id\":\"47858636477\",\"type\":\"PushEvent\",\"actor\":{\"id\":193075825,\"login\":\"raiokkj\",\"display_login\":\"raiokkj\",\"gravatar_id\":\"\",\"url\":\"https://api.github.com/users/raiokkj\",\"avatar_url\":\"https://avatars.githubusercontent.com/u/193075825?\"},\"repo\":{\"id\":929710331,\"name\":\"raiokkj/AVS-Audio-Converter-Free\",\"url\":\"https://api.github.com/repos/raiokkj/AVS-Audio-Converter-Free\"},\"payload\":{\"repository_id\":929710331,\"push_id\":23326566648,\"size\":1,\"distinct_size\":1,\"ref\":\"refs/heads/main\",\"head\":\"fa8a57c87a5cfeb66ba942f189979697dcb3c445\",\"before\":\"b4062aee270eab41eaca2056a609ec315564b2cc\",\"commits\":[{\"sha\":\"fa8a57c87a5cfeb66ba942f189979697dcb3c445\",\"author\":{\"email\":\"aleksejromanovta2646@ro.ru\",\"name\":\"raiokkj\"},\"message\":\"Commit\",\"distinct\":true,\"url\":\"https://api.github.com/repos/raiokkj/AVS-Audio-Converter-Free/commits/fa8a57c87a5cfeb66ba942f189979697dcb3c445\"}]},\"public\":true,\"created_at\":\"2025-03-23T03:14:45Z\"},{\"id\":\"47858636476\",\"type\":\"PushEvent\",\"actor\":{\"id\":204529849,\"login\":\"yy7511\",\"display_login\":\"yy7511\",\"gravatar_id\":\"\",\"url\":\"https://api.github.com/users/yy7511\",\"avatar_url\":\"https://avatars.githubusercontent.com/u/204529849?\"},\"repo\":{\"id\":953295248,\"name\":\"yy7511/Geometry-Mind-Maps\",\"url\":\"https://api.github.com/repos/yy7511/Geometry-Mind-Maps\"},\"payload\":{\"repository_id\":953295248,\"push_id\":23326566644,\"size\":1,\"distinct_size\":1,\"ref\":\"refs/heads/main\",\"head\":\"2e324a6e301466f3c1a53deee3ba764892e9ea54\",\"before\":\"4d216296d590977a985d2f67d3c57dae5c280422\",\"commits\":[{\"sha\":\"2e324a6e301466f3c1a53deee3ba764892e9ea54\",\"author\":{\"email\":\"yy20130116@yeah.net\",\"name\":\"yy7511\"},\"message\":\"Add files via upload\",\"distinct\":true,\"url\":\"https://api.github.com/repos/yy7511/Geometry-Mind-Maps/commits/2e324a6e301466f3c1a53deee3ba764892e9ea54\"}]},\"public\":true,\"created_at\":\"2025-03-23T03:14:45Z\"},{\"id\":\"47858636475\",\"type\":\"PullRequestEvent\",\"actor\":{\"id\":87467801,\"login\":\"NamJihyun99\",\"display_login\":\"NamJihyun99\",\"gravatar_id\":\"\",\"url\":\"https://api.github.com/users/NamJihyun99\",\"avatar_url\":\"https://avatars.githubusercontent.com/u/87467801?\"},\"repo\":{\"id\":952537896,\"name\":\"FEteam4/hire-me-\",\"url\":\"https://api.github.com/repos/FEteam4/hire-me-\"},\"payload\":{\"action\":\"opened\",\"number\":11,\"pull_request\":{\"url\":\"https://api.github.com/repos/FEteam4/hire-me-/pulls/11\",\"id\":2411684944,\"node_id\":\"PR_kwDOOMaTKM6Pv2RQ\",\"html_url\":\"https://github.com/FEteam4/hire-me-/pull/11\",\"diff_url\":\"https://github.com/FEteam4/hire-me-/pull/11.diff\",\"patch_url\":\"https://github.com/FEteam4/hire-me-/pull/11.patch\",\"issue_url\":\"https://api.github.com/repos/FEteam4/hire-me-/issues/11\",\"number\":11,\"state\":\"open\",\"locked\":false,\"title\":\"[Fix] 최종 결과 페이지 크기 고정\",\"user\":{\"login\":\"NamJihyun99\",\"id\":87467801,\"node_id\":\"MDQ6VXNlcjg3NDY3ODAx\",\"avatar_url\":\"https://avatars.githubusercontent.com/u/87467801?v=4\",\"gravatar_id\":\"\",\"url\":\"https://api.github.com/users/NamJihyun99\",\"html_url\":\"https://github.com/NamJihyun99\",\"followers_url\":\"https://api.github.com/users/NamJihyun99/followers\",\"following_url\":\"https://api.github.com/users/NamJihyun99/following{/other_user}\",\"gists_url\":\"https://api.github.com/users/NamJihyun99/gists{/gist_id}\",\"starred_url\":\"https://api.github.com/users/NamJihyun99/starred{/owner}{/repo}\",\"subscriptions_url\":\"https://api.github.com/users/NamJihyun99/subscriptions\",\"organizations_url\":\"https://api.github.com/users/NamJihyun99/orgs\",\"repos_url\":\"https://api.github.com/users/NamJihyun99/repos\",\"events_url\":\"https://api.github.com/users/NamJihyun99/events{/privacy}\",\"received_events_url\":\"https://api.github.com/users/NamJihyun99/received_events\",\"type\":\"User\",\"user_view_type\":\"public\",\"site_admin\":false},\"body\":null,\"created_at\":\"2025-03-23T03:14:43Z\",\"updated_at\":\"2025-03-23T03:14:43Z\",\"closed_at\":null,\"merged_at\":null,\"merge_commit_sha\":null,\"assignee\":null,\"assignees\":[],\"requested_reviewers\":[],\"requested_teams\":[],\"labels\":[],\"milestone\":null,\"draft\":false,\"commits_url\":\"https://api.github.com/repos/FEteam4/hire-me-/pulls/11/commits\",\"review_comments_url\":\"https://api.github.com/repos/FEteam4/hire-me-/pulls/11/comments\",\"review_comment_url\":\"https://api.github.com/repos/FEteam4/hire-me-/pulls/comments{/number}\",\"comments_url\":\"https://api.github.com/repos/FEteam4/hire-me-/issues/11/comments\",\"statuses_url\":\"https://api.github.com/repos/FEteam4/hire-me-/statuses/315a30808b5cbe30d48d67d7e086d2ca39b3ac07\",\"head\":{\"label\":\"FEteam4:jihyun\",\"ref\":\"jihyun\",\"sha\":\"315a30808b5cbe30d48d67d7e086d2ca39b3ac07\",\"user\":{\"login\":\"FEteam4\",\"id\":203188714,\"node_id\":\"O_kgDODBxp6g\",\"avatar_url\":\"https://avatars.githubusercontent.com/u/203188714?v=4\",\"gravatar_id\":\"\",\"url\":\"https://api.github.com/users/FEteam4\",\"html_url\":\"https://github.com/FEteam4\",\"followers_url\":\"https://api.github.com/users/FEteam4/followers\",\"following_url\":\"https://api.github.com/users/FEteam4/following{/other_user}\",\"gists_url\":\"https://api.github.com/users/FEteam4/gists{/gist_id}\",\"starred_url\":\"https://api.github.com/users/FEteam4/starred{/owner}{/repo}\",\"subscriptions_url\":\"https://api.github.com/users/FEteam4/subscriptions\",\"organizations_url\":\"https://api.github.com/users/FEteam4/orgs\",\"repos_url\":\"https://api.github.com/users/FEteam4/repos\",\"events_url\":\"https://api.github.com/users/FEteam4/events{/privacy}\",\"received_events_url\":\"https://api.github.com/users/FEteam4/received_events\",\"type\":\"Organization\",\"user_view_type\":\"public\",\"site_admin\":false},\"repo\":{\"id\":952537896,\"node_id\":\"R_kgDOOMaTKA\",\"name\":\"hire-me-\",\"full_name\":\"FEteam4/hire-me-\",\"private\":false,\"owner\":{\"login\":\"FEteam4\",\"id\":203188714,\"node_id\":\"O_kgDODBxp6g\",\"avatar_url\":\"https://avatars.githubusercontent.com/u/203188714?v=4\",\"gravatar_id\":\"\",\"url\":\"https://api.github.com/users/FEteam4\",\"html_url\":\"https://github.com/FEteam4\",\"followers_url\":\"https://api.github.com/users/FEteam4/followers\",\"following_url\":\"https://api.github.com/users/FEteam4/following{/other_user}\",\"gists_url\":\"https://api.github.com/users/FEteam4/gists{/gist_id}\",\"starred_url\":\"https://api.github.com/users/FEteam4/starred{/owner}{/repo}\",\"subscriptions_url\":\"https://api.github.com/users/FEteam4/subscriptions\",\"organizations_url\":\"https://api.github.com/users/FEteam4/orgs\",\"repos_url\":\"https://api.github.com/users/FEteam4/repos\",\"events_url\":\"https://api.github.com/users/FEteam4/events{/privacy}\",\"received_events_url\":\"https://api.github.com/users/FEteam4/received_events\",\"type\":\"Organization\",\"user_view_type\":\"public\",\"site_admin\":false},\"html_url\":\"https://github.com/FEteam4/hire-me-\",\"description\":null,\"fork\":false,\"url\":\"https://api.github.com/repos/FEteam4/hire-me-\",\"forks_url\":\"https://api.github.com/repos/FEteam4/hire-me-/forks\",\"keys_url\":\"https://api.github.com/repos/FEteam4/hire-me-/keys{/key_id}\",\"collaborators_url\":\"https://api.github.com/repos/FEteam4/hire-me-/collaborators{/collaborator}\",\"teams_url\":\"https://api.github.com/repos/FEteam4/hire-me-/teams\",\"hooks_url\":\"https://api.github.com/repos/FEteam4/hire-me-/hooks\",\"issue_events_url\":\"https://api.github.com/repos/FEteam4/hire-me-/issues/events{/number}\",\"events_url\":\"https://api.github.com/repos/FEteam4/hire-me-/events\",\"assignees_url\":\"https://api.github.com/repos/FEteam4/hire-me-/assignees{/user}\",\"branches_url\":\"https://api.github.com/repos/FEteam4/hire-me-/branches{/branch}\",\"tags_url\":\"https://api.github.com/repos/FEteam4/hire-me-/tags\",\"blobs_url\":\"https://api.github.com/repos/FEteam4/hire-me-/git/blobs{/sha}\",\"git_tags_url\":\"https://api.github.com/repos/FEteam4/hire-me-/git/tags{/sha}\",\"git_refs_url\":\"https://api.github.com/repos/FEteam4/hire-me-/git/refs{/sha}\",\"trees_url\":\"https://api.github.com/repos/FEteam4/hire-me-/git/trees{/sha}\",\"statuses_url\":\"https://api.github.com/repos/FEteam4/hire-me-/statuses/{sha}\",\"languages_url\":\"https://api.github.com/repos/FEteam4/hire-me-/languages\",\"stargazers_url\":\"https://api.github.com/repos/FEteam4/hire-me-/stargazers\",\"contributors_url\":\"https://api.github.com/repos/FEteam4/hire-me-/contributors\",\"subscribers_url\":\"https://api.github.com/repos/FEteam4/hire-me-/subscribers\",\"subscription_url\":\"https://api.github.com/repos/FEteam4/hire-me-/subscription\",\"commits_url\":\"https://api.github.com/repos/FEteam4/hire-me-/commits{/sha}\",\"git_commits_url\":\"https://api.github.com/repos/FEteam4/hire-me-/git/commits{/sha}\",\"comments_url\":\"https://api.github.com/repos/FEteam4/hire-me-/comments{/number}\",\"issue_comment_url\":\"https://api.github.com/repos/FEteam4/hire-me-/issues/comments{/number}\",\"contents_url\":\"https://api.github.com/repos/FEteam4/hire-me-/contents/{+path}\",\"compare_url\":\"https://api.github.com/repos/FEteam4/hire-me-/compare/{base}...{head}\",\"merges_url\":\"https://api.github.com/repos/FEteam4/hire-me-/merges\",\"archive_url\":\"https://api.github.com/repos/FEteam4/hire-me-/{archive_format}{/ref}\",\"downloads_url\":\"https://api.github.com/repos/FEteam4/hire-me-/downloads\",\"issues_url\":\"https://api.github.com/repos/FEteam4/hire-me-/issues{/number}\",\"pulls_url\":\"https://api.github.com/repos/FEteam4/hire-me-/pulls{/number}\",\"milestones_url\":\"https://api.github.com/repos/FEteam4/hire-me-/milestones{/number}\",\"notifications_url\":\"https://api.github.com/repos/FEteam4/hire-me-/notifications{?since,all,participating}\",\"labels_url\":\"https://api.github.com/repos/FEteam4/hire-me-/labels{/name}\",\"releases_url\":\"https://api.github.com/repos/FEteam4/hire-me-/releases{/id}\",\"deployments_url\":\"https://api.github.com/repos/FEteam4/hire-me-/deployments\",\"created_at\":\"2025-03-21T12:54:27Z\",\"updated_at\":\"2025-03-23T02:54:01Z\",\"pushed_at\":\"2025-03-23T03:14:15Z\",\"git_url\":\"git://github.com/FEteam4/hire-me-.git\",\"ssh_url\":\"git@github.com:FEteam4/hire-me-.git\",\"clone_url\":\"https://github.com/FEteam4/hire-me-.git\",\"svn_url\":\"https://github.com/FEteam4/hire-me-\",\"homepage\":null,\"size\":189745,\"stargazers_count\":0,\"watchers_count\":0,\"language\":\"HTML\",\"has_issues\":true,\"has_projects\":true,\"has_downloads\":true,\"has_wiki\":true,\"has_pages\":true,\"has_discussions\":false,\"forks_count\":0,\"mirror_url\":null,\"archived\":false,\"disabled\":false,\"open_issues_count\":1,\"license\":null,\"allow_forking\":true,\"is_template\":false,\"web_commit_signoff_required\":false,\"topics\":[],\"visibility\":\"public\",\"forks\":0,\"open_issues\":1,\"watchers\":0,\"default_branch\":\"master\"}},\"base\":{\"label\":\"FEteam4:master\",\"ref\":\"master\",\"sha\":\"46c329e48ba74fc2fa92db47925109e463aad90f\",\"user\":{\"login\":\"FEteam4\",\"id\":203188714,\"node_id\":\"O_kgDODBxp6g\",\"avatar_url\":\"https://avatars.githubusercontent.com/u/203188714?v=4\",\"gravatar_id\":\"\",\"url\":\"https://api.github.com/users/FEteam4\",\"html_url\":\"https://github.com/FEteam4\",\"followers_url\":\"https://api.github.com/users/FEteam4/followers\",\"following_url\":\"https://api.github.com/users/FEteam4/following{/other_user}\",\"gists_url\":\"https://api.github.com/users/FEteam4/gists{/gist_id}\",\"starred_url\":\"https://api.github.com/users/FEteam4/starred{/owner}{/repo}\",\"subscriptions_url\":\"https://api.github.com/users/FEteam4/subscriptions\",\"organizations_url\":\"https://api.github.com/users/FEteam4/orgs\",\"repos_url\":\"https://api.github.com/users/FEteam4/repos\",\"events_url\":\"https://api.github.com/users/FEteam4/events{/privacy}\",\"received_events_url\":\"https://api.github.com/users/FEteam4/received_events\",\"type\":\"Organization\",\"user_view_type\":\"public\",\"site_admin\":false},\"repo\":{\"id\":952537896,\"node_id\":\"R_kgDOOMaTKA\",\"name\":\"hire-me-\",\"full_name\":\"FEteam4/hire-me-\",\"private\":false,\"owner\":{\"login\":\"FEteam4\",\"id\":203188714,\"node_id\":\"O_kgDODBxp6g\",\"avatar_url\":\"https://avatars.githubusercontent.com/u/203188714?v=4\",\"gravatar_id\":\"\",\"url\":\"https://api.github.com/users/FEteam4\",\"html_url\":\"https://github.com/FEteam4\",\"followers_url\":\"https://api.github.com/users/FEteam4/followers\",\"following_url\":\"https://api.github.com/users/FEteam4/following{/other_user}\",\"gists_url\":\"https://api.github.com/users/FEteam4/gists{/gist_id}\",\"starred_url\":\"https://api.github.com/users/FEteam4/starred{/owner}{/repo}\",\"subscriptions_url\":\"https://api.github.com/users/FEteam4/subscriptions\",\"organizations_url\":\"https://api.github.com/users/FEteam4/orgs\",\"repos_url\":\"https://api.github.com/users/FEteam4/repos\",\"events_url\":\"https://api.github.com/users/FEteam4/events{/privacy}\",\"received_events_url\":\"https://api.github.com/users/FEteam4/received_events\",\"type\":\"Organization\",\"user_view_type\":\"public\",\"site_admin\":false},\"html_url\":\"https://github.com/FEteam4/hire-me-\",\"description\":null,\"fork\":false,\"url\":\"https://api.github.com/repos/FEteam4/hire-me-\",\"forks_url\":\"https://api.github.com/repos/FEteam4/hire-me-/forks\",\"keys_url\":\"https://api.github.com/repos/FEteam4/hire-me-/keys{/key_id}\",\"collaborators_url\":\"https://api.github.com/repos/FEteam4/hire-me-/collaborators{/collaborator}\",\"teams_url\":\"https://api.github.com/repos/FEteam4/hire-me-/teams\",\"hooks_url\":\"https://api.github.com/repos/FEteam4/hire-me-/hooks\",\"issue_events_url\":\"https://api.github.com/repos/FEteam4/hire-me-/issues/events{/number}\",\"events_url\":\"https://api.github.com/repos/FEteam4/hire-me-/events\",\"assignees_url\":\"https://api.github.com/repos/FEteam4/hire-me-/assignees{/user}\",\"branches_url\":\"https://api.github.com/repos/FEteam4/hire-me-/branches{/branch}\",\"tags_url\":\"https://api.github.com/repos/FEteam4/hire-me-/tags\",\"blobs_url\":\"https://api.github.com/repos/FEteam4/hire-me-/git/blobs{/sha}\",\"git_tags_url\":\"https://api.github.com/repos/FEteam4/hire-me-/git/tags{/sha}\",\"git_refs_url\":\"https://api.github.com/repos/FEteam4/hire-me-/git/refs{/sha}\",\"trees_url\":\"https://api.github.com/repos/FEteam4/hire-me-/git/trees{/sha}\",\"statuses_url\":\"https://api.github.com/repos/FEteam4/hire-me-/statuses/{sha}\",\"languages_url\":\"https://api.github.com/repos/FEteam4/hire-me-/languages\",\"stargazers_url\":\"https://api.github.com/repos/FEteam4/hire-me-/stargazers\",\"contributors_url\":\"https://api.github.com/repos/FEteam4/hire-me-/contributors\",\"subscribers_url\":\"https://api.github.com/repos/FEteam4/hire-me-/subscribers\",\"subscription_url\":\"https://api.github.com/repos/FEteam4/hire-me-/subscription\",\"commits_url\":\"https://api.github.com/repos/FEteam4/hire-me-/commits{/sha}\",\"git_commits_url\":\"https://api.github.com/repos/FEteam4/hire-me-/git/commits{/sha}\",\"comments_url\":\"https://api.github.com/repos/FEteam4/hire-me-/comments{/number}\",\"issue_comment_url\":\"https://api.github.com/repos/FEteam4/hire-me-/issues/comments{/number}\",\"contents_url\":\"https://api.github.com/repos/FEteam4/hire-me-/contents/{+path}\",\"compare_url\":\"https://api.github.com/repos/FEteam4/hire-me-/compare/{base}...{head}\",\"merges_url\":\"https://api.github.com/repos/FEteam4/hire-me-/merges\",\"archive_url\":\"https://api.github.com/repos/FEteam4/hire-me-/{archive_format}{/ref}\",\"downloads_url\":\"https://api.github.com/repos/FEteam4/hire-me-/downloads\",\"issues_url\":\"https://api.github.com/repos/FEteam4/hire-me-/issues{/number}\",\"pulls_url\":\"https://api.github.com/repos/FEteam4/hire-me-/pulls{/number}\",\"milestones_url\":\"https://api.github.com/repos/FEteam4/hire-me-/milestones{/number}\",\"notifications_url\":\"https://api.github.com/repos/FEteam4/hire-me-/notifications{?since,all,participating}\",\"labels_url\":\"https://api.github.com/repos/FEteam4/hire-me-/labels{/name}\",\"releases_url\":\"https://api.github.com/repos/FEteam4/hire-me-/releases{/id}\",\"deployments_url\":\"https://api.github.com/repos/FEteam4/hire-me-/deployments\",\"created_at\":\"2025-03-21T12:54:27Z\",\"updated_at\":\"2025-03-23T02:54:01Z\",\"pushed_at\":\"2025-03-23T03:14:15Z\",\"git_url\":\"git://github.com/FEteam4/hire-me-.git\",\"ssh_url\":\"git@github.com:FEteam4/hire-me-.git\",\"clone_url\":\"https://github.com/FEteam4/hire-me-.git\",\"svn_url\":\"https://github.com/FEteam4/hire-me-\",\"homepage\":null,\"size\":189745,\"stargazers_count\":0,\"watchers_count\":0,\"language\":\"HTML\",\"has_issues\":true,\"has_projects\":true,\"has_downloads\":true,\"has_wiki\":true,\"has_pages\":true,\"has_discussions\":false,\"forks_count\":0,\"mirror_url\":null,\"archived\":false,\"disabled\":false,\"open_issues_count\":1,\"license\":null,\"allow_forking\":true,\"is_template\":false,\"web_commit_signoff_required\":false,\"topics\":[],\"visibility\":\"public\",\"forks\":0,\"open_issues\":1,\"watchers\":0,\"default_branch\":\"master\"}},\"_links\":{\"self\":{\"href\":\"https://api.github.com/repos/FEteam4/hire-me-/pulls/11\"},\"html\":{\"href\":\"https://github.com/FEteam4/hire-me-/pull/11\"},\"issue\":{\"href\":\"https://api.github.com/repos/FEteam4/hire-me-/issues/11\"},\"comments\":{\"href\":\"https://api.github.com/repos/FEteam4/hire-me-/issues/11/comments\"},\"review_comments\":{\"href\":\"https://api.github.com/repos/FEteam4/hire-me-/pulls/11/comments\"},\"review_comment\":{\"href\":\"https://api.github.com/repos/FEteam4/hire-me-/pulls/comments{/number}\"},\"commits\":{\"href\":\"https://api.github.com/repos/FEteam4/hire-me-/pulls/11/commits\"},\"statuses\":{\"href\":\"https://api.github.com/repos/FEteam4/hire-me-/statuses/315a30808b5cbe30d48d67d7e086d2ca39b3ac07\"}},\"author_association\":\"CONTRIBUTOR\",\"auto_merge\":null,\"active_lock_reason\":null,\"merged\":false,\"mergeable\":null,\"rebaseable\":null,\"mergeable_state\":\"unknown\",\"merged_by\":null,\"comments\":0,\"review_comments\":0,\"maintainer_can_modify\":false,\"commits\":1,\"additions\":22,\"deletions\":2,\"changed_files\":2}},\"public\":true,\"created_at\":\"2025-03-23T03:14:45Z\",\"org\":{\"id\":203188714,\"login\":\"FEteam4\",\"gravatar_id\":\"\",\"url\":\"https://api.github.com/orgs/FEteam4\",\"avatar_url\":\"https://avatars.githubusercontent.com/u/203188714?\"}},{\"id\":\"47858636474\",\"type\":\"DeleteEvent\",\"actor\":{\"id\":65933340,\"login\":\"seanpm2001\",\"display_login\":\"seanpm2001\",\"gravatar_id\":\"\",\"url\":\"https://api.github.com/users/seanpm2001\",\"avatar_url\":\"https://avatars.githubusercontent.com/u/65933340?\"},\"repo\":{\"id\":953299169,\"name\":\"seanpm2001/Android-x32_LiveCD_0.5A\",\"url\":\"https://api.github.com/repos/seanpm2001/Android-x32_LiveCD_0.5A\"},\"payload\":{\"ref\":\"Template-DeGoogle\",\"ref_type\":\"branch\",\"pusher_type\":\"user\"},\"public\":true,\"created_at\":\"2025-03-23T03:14:45Z\"},{\"id\":\"47858636468\",\"type\":\"CreateEvent\",\"actor\":{\"id\":41898282,\"login\":\"github-actions[bot]\",\"display_login\":\"github-actions\",\"gravatar_id\":\"\",\"url\":\"https://api.github.com/users/github-actions[bot]\",\"avatar_url\":\"https://avatars.githubusercontent.com/u/41898282?\"},\"repo\":{\"id\":532680082,\"name\":\"curseforge-mirror/nova-instance-tracker\",\"url\":\"https://api.github.com/repos/curseforge-mirror/nova-instance-tracker\"},\"payload\":{\"ref\":\"v2025.03.23.03.14\",\"ref_type\":\"tag\",\"master_branch\":\"master\",\"description\":\"Mirror of Venomisto's Nova Instance Tracker.\",\"pusher_type\":\"user\"},\"public\":true,\"created_at\":\"2025-03-23T03:14:45Z\",\"org\":{\"id\":110800464,\"login\":\"curseforge-mirror\",\"gravatar_id\":\"\",\"url\":\"https://api.github.com/orgs/curseforge-mirror\",\"avatar_url\":\"https://avatars.githubusercontent.com/u/110800464?\"}},{\"id\":\"47858636466\",\"type\":\"IssueCommentEvent\",\"actor\":{\"id\":56652574,\"login\":\"aws-amplify-gamma-us-east-1[bot]\",\"display_login\":\"aws-amplify-gamma-us-east-1\",\"gravatar_id\":\"\",\"url\":\"https://api.github.com/users/aws-amplify-gamma-us-east-1[bot]\",\"avatar_url\":\"https://avatars.githubusercontent.com/u/56652574?\"},\"repo\":{\"id\":810149743,\"name\":\"aws-aemilia-iad/Github-PR-Commit-Integration-Test-DoNotTouch-GitHubAutoBuildPrPreviewCanaryTest-v1-gamma-us-east-1\",\"url\":\"https://api.github.com/repos/aws-aemilia-iad/Github-PR-Commit-Integration-Test-DoNotTouch-GitHubAutoBuildPrPreviewCanaryTest-v1-gamma-us-east-1\"},\"payload\":{\"action\":\"created\",\"issue\":{\"url\":\"https://api.github.com/repos/aws-aemilia-iad/Github-PR-Commit-Integration-Test-DoNotTouch-GitHubAutoBuildPrPreviewCanaryTest-v1-gamma-us-east-1/issues/27977\",\"repository_url\":\"https://api.github.com/repos/aws-aemilia-iad/Github-PR-Commit-Integration-Test-DoNotTouch-GitHubAutoBuildPrPreviewCanaryTest-v1-gamma-us-east-1\",\"labels_url\":\"https://api.github.com/repos/aws-aemilia-iad/Github-PR-Commit-Integration-Test-DoNotTouch-GitHubAutoBuildPrPreviewCanaryTest-v1-gamma-us-east-1/issues/27977/labels{/name}\",\"comments_url\":\"https://api.github.com/repos/aws-aemilia-iad/Github-PR-Commit-Integration-Test-DoNotTouch-GitHubAutoBuildPrPreviewCanaryTest-v1-gamma-us-east-1/issues/27977/comments\",\"events_url\":\"https://api.github.com/repos/aws-aemilia-iad/Github-PR-Commit-Integration-Test-DoNotTouch-GitHubAutoBuildPrPreviewCanaryTest-v1-gamma-us-east-1/issues/27977/events\",\"html_url\":\"https://github.com/aws-aemilia-iad/Github-PR-Commit-Integration-Test-DoNotTouch-GitHubAutoBuildPrPreviewCanaryTest-v1-gamma-us-east-1/pull/27977\",\"id\":2940881008,\"node_id\":\"PR_kwDOMEnnb86Pv2Mo\",\"number\":27977,\"title\":\"Automated test pull request\",\"user\":{\"login\":\"aws-aemilia-iad\",\"id\":104586662,\"node_id\":\"U_kgDOBjvdpg\",\"avatar_url\":\"https://avatars.githubusercontent.com/u/104586662?v=4\",\"gravatar_id\":\"\",\"url\":\"https://api.github.com/users/aws-aemilia-iad\",\"html_url\":\"https://github.com/aws-aemilia-iad\",\"followers_url\":\"https://api.github.com/users/aws-aemilia-iad/followers\",\"following_url\":\"https://api.github.com/users/aws-aemilia-iad/following{/other_user}\",\"gists_url\":\"https://api.github.com/users/aws-aemilia-iad/gists{/gist_id}\",\"starred_url\":\"https://api.github.com/users/aws-aemilia-iad/starred{/owner}{/repo}\",\"subscriptions_url\":\"https://api.github.com/users/aws-aemilia-iad/subscriptions\",\"organizations_url\":\"https://api.github.com/users/aws-aemilia-iad/orgs\",\"repos_url\":\"https://api.github.com/users/aws-aemilia-iad/repos\",\"events_url\":\"https://api.github.com/users/aws-aemilia-iad/events{/privacy}\",\"received_events_url\":\"https://api.github.com/users/aws-aemilia-iad/received_events\",\"type\":\"User\",\"user_view_type\":\"public\",\"site_admin\":false},\"labels\":[],\"state\":\"open\",\"locked\":false,\"assignee\":null,\"assignees\":[],\"milestone\":null,\"comments\":1,\"created_at\":\"2025-03-23T03:13:36Z\",\"updated_at\":\"2025-03-23T03:14:45Z\",\"closed_at\":null,\"author_association\":\"OWNER\",\"sub_issues_summary\":{\"total\":0,\"completed\":0,\"percent_completed\":0},\"active_lock_reason\":null,\"draft\":false,\"pull_request\":{\"url\":\"https://api.github.com/repos/aws-aemilia-iad/Github-PR-Commit-Integration-Test-DoNotTouch-GitHubAutoBuildPrPreviewCanaryTest-v1-gamma-us-east-1/pulls/27977\",\"html_url\":\"https://github.com/aws-aemilia-iad/Github-PR-Commit-Integration-Test-DoNotTouch-GitHubAutoBuildPrPreviewCanaryTest-v1-gamma-us-east-1/pull/27977\",\"diff_url\":\"https://github.com/aws-aemilia-iad/Github-PR-Commit-Integration-Test-DoNotTouch-GitHubAutoBuildPrPreviewCanaryTest-v1-gamma-us-east-1/pull/27977.diff\",\"patch_url\":\"https://github.com/aws-aemilia-iad/Github-PR-Commit-Integration-Test-DoNotTouch-GitHubAutoBuildPrPreviewCanaryTest-v1-gamma-us-east-1/pull/27977.patch\",\"merged_at\":null},\"body\":\"Automated test pull request\",\"reactions\":{\"url\":\"https://api.github.com/repos/aws-aemilia-iad/Github-PR-Commit-Integration-Test-DoNotTouch-GitHubAutoBuildPrPreviewCanaryTest-v1-gamma-us-east-1/issues/27977/reactions\",\"total_count\":0,\"+1\":0,\"-1\":0,\"laugh\":0,\"hooray\":0,\"confused\":0,\"heart\":0,\"rocket\":0,\"eyes\":0},\"timeline_url\":\"https://api.github.com/repos/aws-aemilia-iad/Github-PR-Commit-Integration-Test-DoNotTouch-GitHubAutoBuildPrPreviewCanaryTest-v1-gamma-us-east-1/issues/27977/timeline\",\"performed_via_github_app\":null,\"state_reason\":null},\"comment\":{\"url\":\"https://api.github.com/repos/aws-aemilia-iad/Github-PR-Commit-Integration-Test-DoNotTouch-GitHubAutoBuildPrPreviewCanaryTest-v1-gamma-us-east-1/issues/comments/2745994207\",\"html_url\":\"https://github.com/aws-aemilia-iad/Github-PR-Commit-Integration-Test-DoNotTouch-GitHubAutoBuildPrPreviewCanaryTest-v1-gamma-us-east-1/pull/27977#issuecomment-2745994207\",\"issue_url\":\"https://api.github.com/repos/aws-aemilia-iad/Github-PR-Commit-Integration-Test-DoNotTouch-GitHubAutoBuildPrPreviewCanaryTest-v1-gamma-us-east-1/issues/27977\",\"id\":2745994207,\"node_id\":\"IC_kwDOMEnnb86jrIvf\",\"user\":{\"login\":\"aws-amplify-gamma-us-east-1[bot]\",\"id\":56652574,\"node_id\":\"MDM6Qm90NTY2NTI1NzQ=\",\"avatar_url\":\"https://avatars.githubusercontent.com/in/43817?v=4\",\"gravatar_id\":\"\",\"url\":\"https://api.github.com/users/aws-amplify-gamma-us-east-1%5Bbot%5D\",\"html_url\":\"https://github.com/apps/aws-amplify-gamma-us-east-1\",\"followers_url\":\"https://api.github.com/users/aws-amplify-gamma-us-east-1%5Bbot%5D/followers\",\"following_url\":\"https://api.github.com/users/aws-amplify-gamma-us-east-1%5Bbot%5D/following{/other_user}\",\"gists_url\":\"https://api.github.com/users/aws-amplify-gamma-us-east-1%5Bbot%5D/gists{/gist_id}\",\"starred_url\":\"https://api.github.com/users/aws-amplify-gamma-us-east-1%5Bbot%5D/starred{/owner}{/repo}\",\"subscriptions_url\":\"https://api.github.com/users/aws-amplify-gamma-us-east-1%5Bbot%5D/subscriptions\",\"organizations_url\":\"https://api.github.com/users/aws-amplify-gamma-us-east-1%5Bbot%5D/orgs\",\"repos_url\":\"https://api.github.com/users/aws-amplify-gamma-us-east-1%5Bbot%5D/repos\",\"events_url\":\"https://api.github.com/users/aws-amplify-gamma-us-east-1%5Bbot%5D/events{/privacy}\",\"received_events_url\":\"https://api.github.com/users/aws-amplify-gamma-us-east-1%5Bbot%5D/received_events\",\"type\":\"Bot\",\"user_view_type\":\"public\",\"site_admin\":false},\"created_at\":\"2025-03-23T03:14:44Z\",\"updated_at\":\"2025-03-23T03:14:44Z\",\"author_association\":\"NONE\",\"body\":\"This pull request is automatically being deployed by Amplify Hosting ([learn more](https://aws.amazon.com/amplify/hosting/)).\n",
      "   <br/>\n",
      "   <br/>\n",
      "   Access this pull request here: https://pr-27977.d1197eccbxlky7.amplifyapp.com\",\"reactions\":{\"url\":\"https://api.github.com/repos/aws-aemilia-iad/Github-PR-Commit-Integration-Test-DoNotTouch-GitHubAutoBuildPrPreviewCanaryTest-v1-gamma-us-east-1/issues/comments/2745994207/reactions\",\"total_count\":0,\"+1\":0,\"-1\":0,\"laugh\":0,\"hooray\":0,\"confused\":0,\"heart\":0,\"rocket\":0,\"eyes\":0},\"performed_via_github_app\":{\"id\":43817,\"client_id\":\"Iv1.cf3e0f84d4a7d1ea\",\"slug\":\"aws-amplify-gamma-us-east-1\",\"node_id\":\"MDM6QXBwNDM4MTc=\",\"owner\":{\"login\":\"aws-amplify-console\",\"id\":45215622,\"node_id\":\"MDQ6VXNlcjQ1MjE1NjIy\",\"avatar_url\":\"https://avatars.githubusercontent.com/u/45215622?v=4\",\"gravatar_id\":\"\",\"url\":\"https://api.github.com/users/aws-amplify-console\",\"html_url\":\"https://github.com/aws-amplify-console\",\"followers_url\":\"https://api.github.com/users/aws-amplify-console/followers\",\"following_url\":\"https://api.github.com/users/aws-amplify-console/following{/other_user}\",\"gists_url\":\"https://api.github.com/users/aws-amplify-console/gists{/gist_id}\",\"starred_url\":\"https://api.github.com/users/aws-amplify-console/starred{/owner}{/repo}\",\"subscriptions_url\":\"https://api.github.com/users/aws-amplify-console/subscriptions\",\"organizations_url\":\"https://api.github.com/users/aws-amplify-console/orgs\",\"repos_url\":\"https://api.github.com/users/aws-amplify-console/repos\",\"events_url\":\"https://api.github.com/users/aws-amplify-console/events{/privacy}\",\"received_events_url\":\"https://api.github.com/users/aws-amplify-console/received_events\",\"type\":\"User\",\"user_view_type\":\"public\",\"site_admin\":false},\"name\":\"AWS Amplify Gamma (us-east-1)\",\"description\":\"Hosting for fullstack serverless web apps with continuous deployment\",\"external_url\":\"https://532897458220-amplify-console.us-east-1.console.aws-dev.amazon.com/amplify/home#/\",\"html_url\":\"https://github.com/apps/aws-amplify-gamma-us-east-1\",\"created_at\":\"2019-10-16T18:42:24Z\",\"updated_at\":\"2024-11-08T19:33:40Z\",\"permissions\":{\"checks\":\"write\",\"contents\":\"read\",\"metadata\":\"read\",\"pull_requests\":\"write\",\"repository_hooks\":\"write\",\"single_file\":\"write\"},\"events\":[\"pull_request\",\"push\"]}}},\"public\":true,\"created_at\":\"2025-03-23T03:14:45Z\"},{\"id\":\"47858636458\",\"type\":\"ReleaseEvent\",\"actor\":{\"id\":41898282,\"login\":\"github-actions[bot]\",\"display_login\":\"github-actions\",\"gravatar_id\":\"\",\"url\":\"https://api.github.com/users/github-actions[bot]\",\"avatar_url\":\"https://avatars.githubusercontent.com/u/41898282?\"},\"repo\":{\"id\":532680082,\"name\":\"curseforge-mirror/nova-instance-tracker\",\"url\":\"https://api.github.com/repos/curseforge-mirror/nova-instance-tracker\"},\"payload\":{\"action\":\"published\",\"release\":{\"url\":\"https://api.github.com/repos/curseforge-mirror/nova-instance-tracker/releases/207656744\",\"assets_url\":\"https://api.github.com/repos/curseforge-mirror/nova-instance-tracker/releases/207656744/assets\",\"upload_url\":\"https://uploads.github.com/repos/curseforge-mirror/nova-instance-tracker/releases/207656744/assets{?name,label}\",\"html_url\":\"https://github.com/curseforge-mirror/nova-instance-tracker/releases/tag/v2025.03.23.03.14\",\"id\":207656744,\"author\":{\"login\":\"github-actions[bot]\",\"id\":41898282,\"node_id\":\"MDM6Qm90NDE4OTgyODI=\",\"avatar_url\":\"https://avatars.githubusercontent.com/in/15368?v=4\",\"gravatar_id\":\"\",\"url\":\"https://api.github.com/users/github-actions%5Bbot%5D\",\"html_url\":\"https://github.com/apps/github-actions\",\"followers_url\":\"https://api.github.com/users/github-actions%5Bbot%5D/followers\",\"following_url\":\"https://api.github.com/users/github-actions%5Bbot%5D/following{/other_user}\",\"gists_url\":\"https://api.github.com/users/github-actions%5Bbot%5D/gists{/gist_id}\",\"starred_url\":\"https://api.github.com/users/github-actions%5Bbot%5D/starred{/owner}{/repo}\",\"subscriptions_url\":\"https://api.github.com/users/github-actions%5Bbot%5D/subscriptions\",\"organizations_url\":\"https://api.github.com/users/github-actions%5Bbot%5D/orgs\",\"repos_url\":\"https://api.github.com/users/github-actions%5Bbot%5D/repos\",\"events_url\":\"https://api.github.com/users/github-actions%5Bbot%5D/events{/privacy}\",\"received_events_url\":\"https://api.github.com/users/github-actions%5Bbot%5D/received_events\",\"type\":\"Bot\",\"user_view_type\":\"public\",\"site_admin\":false},\"node_id\":\"RE_kwDOH8ANks4MYJco\",\"tag_name\":\"v2025.03.23.03.14\",\"target_commitish\":\"master\",\"name\":\"v2025.03.23.03.14\",\"draft\":false,\"prerelease\":false,\"created_at\":\"2023-11-05T00:53:32Z\",\"published_at\":\"2025-03-23T03:14:44Z\",\"assets\":[],\"tarball_url\":\"https://api.github.com/repos/curseforge-mirror/nova-instance-tracker/tarball/v2025.03.23.03.14\",\"zipball_url\":\"https://api.github.com/repos/curseforge-mirror/nova-instance-tracker/zipball/v2025.03.23.03.14\",\"body\":\"# Nova Instance Tracker Mirror\\n\\nThis is a mirror of Venomisto's Nova Instance Tracker\\n\\n- [Curseforge URL](https://www.curseforge.com/wow/addons/nova-instance-tracker)\\n\\n----\\n\\nTo open a ticket related to this repository, please do so on [this repository](https://github.com/curseforge-mirror/.github)\",\"short_description_html\":\"\n",
      "  </p>\n",
      "  <h1>\n",
      "   Nova Instance Tracker Mirror\n",
      "  </h1>\n",
      "  \\n\n",
      "  <p>\n",
      "   This is a mirror of Venomisto's Nova Instance Tracker\n",
      "  </p>\n",
      "  \\n\n",
      "  <ul>\n",
      "   \\n\n",
      "   <li>\n",
      "    <a href='\\\"https://www.curseforge.com/wow/addons/nova-instance-tracker\\\"' rel='\\\"nofollow\\\"'>\n",
      "     Curseforge URL\n",
      "    </a>\n",
      "   </li>\n",
      "   \\n\n",
      "  </ul>\n",
      "  \\n\n",
      "  <hr/>\n",
      "  \\n\n",
      "  <p>\n",
      "   To open a ticket related to this repository, please do so on\n",
      "   <a href='\\\"https://github.com/curseforge-mirror/.github\\\"'>\n",
      "    this repository\n",
      "   </a>\n",
      "  </p>\n",
      "  \",\"is_short_description_html_truncated\":false}},\"public\":true,\"created_at\":\"2025-03-23T03:14:45Z\",\"org\":{\"id\":110800464,\"login\":\"curseforge-mirror\",\"gravatar_id\":\"\",\"url\":\"https://api.github.com/orgs/curseforge-mirror\",\"avatar_url\":\"https://avatars.githubusercontent.com/u/110800464?\"}},{\"id\":\"47858636457\",\"type\":\"PushEvent\",\"actor\":{\"id\":104225186,\"login\":\"bugbounted\",\"display_login\":\"bugbounted\",\"gravatar_id\":\"\",\"url\":\"https://api.github.com/users/bugbounted\",\"avatar_url\":\"https://avatars.githubusercontent.com/u/104225186?\"},\"repo\":{\"id\":668295420,\"name\":\"bugbounted/auto-commit\",\"url\":\"https://api.github.com/repos/bugbounted/auto-commit\"},\"payload\":{\"repository_id\":668295420,\"push_id\":23326566632,\"size\":1,\"distinct_size\":1,\"ref\":\"refs/heads/master\",\"head\":\"a9b7c4fd5008410655b773a76b1e58c9fd687776\",\"before\":\"dea5ab5cf9e8b6a53259765b85cef564dd8834ce\",\"commits\":[{\"sha\":\"a9b7c4fd5008410655b773a76b1e58c9fd687776\",\"author\":{\"email\":\"samardehmohamad@gmail.com\",\"name\":\"bugbounted\"},\"message\":\"chore(bot): 💩 auto commit\",\"distinct\":true,\"url\":\"https://api.github.com/repos/bugbounted/auto-commit/commits/a9b7c4fd5008410655b773a76b1e58c9fd687776\"}]},\"public\":true,\"created_at\":\"2025-03-23T03:14:45Z\"},{\"id\":\"47858636450\",\"type\":\"PushEvent\",\"actor\":{\"id\":61761467,\"login\":\"marcoabrantess\",\"display_login\":\"marcoabrantess\",\"gravatar_id\":\"\",\"url\":\"https://api.github.com/users/marcoabrantess\",\"avatar_url\":\"https://avatars.githubusercontent.com/u/61761467?\"},\"repo\":{\"id\":953276105,\"name\":\"marcoabrantess/EC2-SentimentAnalyzer\",\"url\":\"https://api.github.com/repos/marcoabrantess/EC2-SentimentAnalyzer\"},\"payload\":{\"repository_id\":953276105,\"push_id\":23326566619,\"size\":1,\"distinct_size\":1,\"ref\":\"refs/heads/main\",\"head\":\"801c639ca7b513a2c8b653682b1d726f81f0abec\",\"before\":\"c252aee0f07550c5404426231f283666594945e6\",\"commits\":[{\"sha\":\"801c639ca7b513a2c8b653682b1d726f81f0abec\",\"author\":{\"email\":\"marco.abrantes@ufv.br\",\"name\":\"Marco Aurélio\"},\"message\":\"update the s3 bucket name\",\"distinct\":true,\"url\":\"https://api.github.com/repos/marcoabrantess/EC2-SentimentAnalyzer/commits/801c639ca7b513a2c8b653682b1d726f81f0abec\"}]},\"public\":true,\"created_at\":\"2025-03-23T03:14:45Z\"},{\"id\":\"47858636451\",\"type\":\"PushEvent\",\"actor\":{\"id\":192550736,\"login\":\"Dexstdev\",\"display_login\":\"Dexstdev\",\"gravatar_id\":\"\",\"url\":\"https://api.github.com/users/Dexstdev\",\"avatar_url\":\"https://avatars.githubusercontent.com/u/192550736?\"},\"repo\":{\"id\":933479253,\"name\":\"Dexstdev/Dexstdev\",\"url\":\"https://api.github.com/repos/Dexstdev/Dexstdev\"},\"payload\":{\"repository_id\":933479253,\"push_id\":23326566626,\"size\":1,\"distinct_size\":1,\"ref\":\"refs/heads/main\",\"head\":\"1c7ec4b2f3dc7b8afe78a0f6db041e0bae3e3442\",\"before\":\"07792f0d7524730de6c2b6a17658dba59cf5a8ac\",\"commits\":[{\"sha\":\"1c7ec4b2f3dc7b8afe78a0f6db041e0bae3e3442\",\"author\":{\"email\":\"hernandezcardona35@gmail.com\",\"name\":\"Cristian Daniel\"},\"message\":\"Update README.md\",\"distinct\":true,\"url\":\"https://api.github.com/repos/Dexstdev/Dexstdev/commits/1c7ec4b2f3dc7b8afe78a0f6db041e0bae3e3442\"}]},\"public\":true,\"created_at\":\"2025-03-23T03:14:45Z\"},{\"id\":\"47858636454\",\"type\":\"DeleteEvent\",\"actor\":{\"id\":65933340,\"login\":\"seanpm2001\",\"display_login\":\"seanpm2001\",\"gravatar_id\":\"\",\"url\":\"https://api.github.com/users/seanpm2001\",\"avatar_url\":\"https://avatars.githubusercontent.com/u/65933340?\"},\"repo\":{\"id\":953299169,\"name\":\"seanpm2001/Android-x32_LiveCD_0.5A\",\"url\":\"https://api.github.com/repos/seanpm2001/Android-x32_LiveCD_0.5A\"},\"payload\":{\"ref\":\"Template-Meadows\",\"ref_type\":\"branch\",\"pusher_type\":\"user\"},\"public\":true,\"created_at\":\"2025-03-23T03:14:45Z\"},{\"id\":\"47858636441\",\"type\":\"PushEvent\",\"actor\":{\"id\":193736863,\"login\":\"zein-607\",\"display_login\":\"zein-607\",\"gravatar_id\":\"\",\"url\":\"https://api.github.com/users/zein-607\",\"avatar_url\":\"https://avatars.githubusercontent.com/u/193736863?\"},\"repo\":{\"id\":949670418,\"name\":\"zein-607/backend-GPT\",\"url\":\"https://api.github.com/repos/zein-607/backend-GPT\"},\"payload\":{\"repository_id\":949670418,\"push_id\":23326566621,\"size\":1,\"distinct_size\":1,\"ref\":\"refs/heads/snyk-upgrade-b263bf69cfd436b8a8271e9c6b521789\",\"head\":\"eb94e9d493e0c441f8dcc42938e4f63c41e62c48\",\"before\":\"e1cd4c0cb0b44ac72da9b2a27d879416108c6f12\",\"commits\":[{\"sha\":\"eb94e9d493e0c441f8dcc42938e4f63c41e62c48\",\"author\":{\"email\":\"snyk-bot@snyk.io\",\"name\":\"snyk-bot\"},\"message\":\"fix: upgrade react from 18.2.0 to 18.3.1\\n\\nSnyk has created this PR to upgrade react from 18.2.0 to 18.3.1.\\n\\nSee this package in npm:\\nreact\\n\\nSee this project in Snyk:\\nhttps://app.snyk.io/org/zein-607/project/12034a38-6fad-4520-8bf3-d0231abcd8da?utm_source=github&amp;utm_medium=referral&amp;page=upgrade-pr\",\"distinct\":true,\"url\":\"https://api.github.com/repos/zein-607/backend-GPT/commits/eb94e9d493e0c441f8dcc42938e4f63c41e62c48\"}]},\"public\":true,\"created_at\":\"2025-03-23T03:14:45Z\"},{\"id\":\"47858636447\",\"type\":\"PushEvent\",\"actor\":{\"id\":46503702,\"login\":\"zardoy\",\"display_login\":\"zardoy\",\"gravatar_id\":\"\",\"url\":\"https://api.github.com/users/zardoy\",\"avatar_url\":\"https://avatars.githubusercontent.com/u/46503702?\"},\"repo\":{\"id\":432411890,\"name\":\"zardoy/minecraft-web-client\",\"url\":\"https://api.github.com/repos/zardoy/minecraft-web-client\"},\"payload\":{\"repository_id\":432411890,\"push_id\":23326566633,\"size\":1,\"distinct_size\":1,\"ref\":\"refs/heads/nextgen-physics\",\"head\":\"b501893ab2ae17733afa65d88d7f0fd5f5ff7cb3\",\"before\":\"e2b78333a178cf41a45083b3f316798f641e74aa\",\"commits\":[{\"sha\":\"b501893ab2ae17733afa65d88d7f0fd5f5ff7cb3\",\"author\":{\"email\":\"vital2580@icloud.com\",\"name\":\"Vitaly\"},\"message\":\"ip pkgs\",\"distinct\":true,\"url\":\"https://api.github.com/repos/zardoy/minecraft-web-client/commits/b501893ab2ae17733afa65d88d7f0fd5f5ff7cb3\"}]},\"public\":true,\"created_at\":\"2025-03-23T03:14:45Z\"},{\"id\":\"47858636443\",\"type\":\"WatchEvent\",\"actor\":{\"id\":200406387,\"login\":\"shellnowasklater\",\"display_login\":\"shellnowasklater\",\"gravatar_id\":\"\",\"url\":\"https://api.github.com/users/shellnowasklater\",\"avatar_url\":\"https://avatars.githubusercontent.com/u/200406387?\"},\"repo\":{\"id\":55009841,\"name\":\"cugu/awesome-forensics\",\"url\":\"https://api.github.com/repos/cugu/awesome-forensics\"},\"payload\":{\"action\":\"started\"},\"public\":true,\"created_at\":\"2025-03-23T03:14:45Z\"},{\"id\":\"47858636435\",\"type\":\"PushEvent\",\"actor\":{\"id\":79372949,\"login\":\"udkx\",\"display_login\":\"udkx\",\"gravatar_id\":\"\",\"url\":\"https://api.github.com/users/udkx\",\"avatar_url\":\"https://avatars.githubusercontent.com/u/79372949?\"},\"repo\":{\"id\":739339182,\"name\":\"udkx/udkx\",\"url\":\"https://api.github.com/repos/udkx/udkx\"},\"payload\":{\"repository_id\":739339182,\"push_id\":23326566618,\"size\":1,\"distinct_size\":1,\"ref\":\"refs/heads/main\",\"head\":\"efa98c425f45b092a7f19c01e6e8609c6a6267ff\",\"before\":\"a6cc34b39088da80430dd32f9a0437950fadef96\",\"commits\":[{\"sha\":\"efa98c425f45b092a7f19c01e6e8609c6a6267ff\",\"author\":{\"email\":\"41898282+github-actions[bot]@users.noreply.github.com\",\"name\":\"readme-bot\"},\"message\":\"Updated with Dev Metrics\",\"distinct\":true,\"url\":\"https://api.github.com/repos/udkx/udkx/commits/efa98c425f45b092a7f19c01e6e8609c6a6267ff\"}]},\"public\":true,\"created_at\":\"2025-03-23T03:14:45Z\"},{\"id\":\"47858636433\",\"type\":\"PullRequestEvent\",\"actor\":{\"id\":104544900,\"login\":\"aws-aemilia-bah\",\"display_login\":\"aws-aemilia-bah\",\"gravatar_id\":\"\",\"url\":\"https://api.github.com/users/aws-aemilia-bah\",\"avatar_url\":\"https://avatars.githubusercontent.com/u/104544900?\"},\"repo\":{\"id\":810155523,\"name\":\"aws-aemilia-bah/Github-PR-Commit-Integration-Test-DoNotTouch-GitH-MJCD6L4M-v1-preprod-me-south-1\",\"url\":\"https://api.github.com/repos/aws-aemilia-bah/Github-PR-Commit-Integration-Test-DoNotTouch-GitH-MJCD6L4M-v1-preprod-me-south-1\"},\"payload\":{\"action\":\"opened\",\"number\":27986,\"pull_request\":{\"url\":\"https://api.github.com/repos/aws-aemilia-bah/Github-PR-Commit-Integration-Test-DoNotTouch-GitH-MJCD6L4M-v1-preprod-me-south-1/pulls/27986\",\"id\":2411684940,\"node_id\":\"PR_kwDOMEn-A86Pv2RM\",\"html_url\":\"https://github.com/aws-aemilia-bah/Github-PR-Commit-Integration-Test-DoNotTouch-GitH-MJCD6L4M-v1-preprod-me-south-1/pull/27986\",\"diff_url\":\"https://github.com/aws-aemilia-bah/Github-PR-Commit-Integration-Test-DoNotTouch-GitH-MJCD6L4M-v1-preprod-me-south-1/pull/27986.diff\",\"patch_url\":\"https://github.com/aws-aemilia-bah/Github-PR-Commit-Integration-Test-DoNotTouch-GitH-MJCD6L4M-v1-preprod-me-south-1/pull/27986.patch\",\"issue_url\":\"https://api.github.com/repos/aws-aemilia-bah/Github-PR-Commit-Integration-Test-DoNotTouch-GitH-MJCD6L4M-v1-preprod-me-south-1/issues/27986\",\"number\":27986,\"state\":\"open\",\"locked\":false,\"title\":\"Automated test pull request\",\"user\":{\"login\":\"aws-aemilia-bah\",\"id\":104544900,\"node_id\":\"U_kgDOBjs6hA\",\"avatar_url\":\"https://avatars.githubusercontent.com/u/104544900?v=4\",\"gravatar_id\":\"\",\"url\":\"https://api.github.com/users/aws-aemilia-bah\",\"html_url\":\"https://github.com/aws-aemilia-bah\",\"followers_url\":\"https://api.github.com/users/aws-aemilia-bah/followers\",\"following_url\":\"https://api.github.com/users/aws-aemilia-bah/following{/other_user}\",\"gists_url\":\"https://api.github.com/users/aws-aemilia-bah/gists{/gist_id}\",\"starred_url\":\"https://api.github.com/users/aws-aemilia-bah/starred{/owner}{/repo}\",\"subscriptions_url\":\"https://api.github.com/users/aws-aemilia-bah/subscriptions\",\"organizations_url\":\"https://api.github.com/users/aws-aemilia-bah/orgs\",\"repos_url\":\"https://api.github.com/users/aws-aemilia-bah/repos\",\"events_url\":\"https://api.github.com/users/aws-aemilia-bah/events{/privacy}\",\"received_events_url\":\"https://api.github.com/users/aws-aemilia-bah/received_events\",\"type\":\"User\",\"user_view_type\":\"public\",\"site_admin\":false},\"body\":\"Automated test pull request\",\"created_at\":\"2025-03-23T03:14:43Z\",\"updated_at\":\"2025-03-23T03:14:43Z\",\"closed_at\":null,\"merged_at\":null,\"merge_commit_sha\":\"3bf1cd62517729b97873d15a8c7d77d24758ade6\",\"assignee\":null,\"assignees\":[],\"requested_reviewers\":[],\"requested_teams\":[],\"labels\":[],\"milestone\":null,\"draft\":false,\"commits_url\":\"https://api.github.com/repos/aws-aemilia-bah/Github-PR-Commit-Integration-Test-DoNotTouch-GitH-MJCD6L4M-v1-preprod-me-south-1/pulls/27986/commits\",\"review_comments_url\":\"https://api.github.com/repos/aws-aemilia-bah/Github-PR-Commit-Integration-Test-DoNotTouch-GitH-MJCD6L4M-v1-preprod-me-south-1/pulls/27986/comments\",\"review_comment_url\":\"https://api.github.com/repos/aws-aemilia-bah/Github-PR-Commit-Integration-Test-DoNotTouch-GitH-MJCD6L4M-v1-preprod-me-south-1/pulls/comments{/number}\",\"comments_url\":\"https://api.github.com/repos/aws-aemilia-bah/Github-PR-Commit-Integration-Test-DoNotTouch-GitH-MJCD6L4M-v1-preprod-me-south-1/issues/27986/comments\",\"statuses_url\":\"https://api.github.com/repos/aws-aemilia-bah/Github-PR-Commit-Integration-Test-DoNotTouch-GitH-MJCD6L4M-v1-preprod-me-south-1/statuses/3fa52daf6ddd93941dabdfc8223b85feafe8c976\",\"head\":{\"label\":\"aws-aemilia-bah:GitHubAutoBuildPrPreviewCanaryTestpr-preprod-1742699680851\",\"ref\":\"GitHubAutoBuildPrPreviewCanaryTestpr-preprod-1742699680851\",\"sha\":\"3fa52daf6ddd93941dabdfc8223b85feafe8c976\",\"user\":{\"login\":\"aws-aemilia-bah\",\"id\":104544900,\"node_id\":\"U_kgDOBjs6hA\",\"avatar_url\":\"https://avatars.githubusercontent.com/u/104544900?v=4\",\"gravatar_id\":\"\",\"url\":\"https://api.github.com/users/aws-aemilia-bah\",\"html_url\":\"https://github.com/aws-aemilia-bah\",\"followers_url\":\"https://api.github.com/users/aws-aemilia-bah/followers\",\"following_url\":\"https://api.github.com/users/aws-aemilia-bah/following{/other_user}\",\"gists_url\":\"https://api.github.com/users/aws-aemilia-bah/gists{/gist_id}\",\"starred_url\":\"https://api.github.com/users/aws-aemilia-bah/starred{/owner}{/repo}\",\"subscriptions_url\":\"https://api.github.com/users/aws-aemilia-bah/subscriptions\",\"organizations_url\":\"https://api.github.com/users/aws-aemilia-bah/orgs\",\"repos_url\":\"https://api.github.com/users/aws-aemilia-bah/repos\",\"events_url\":\"https://api.github.com/users/aws-aemilia-bah/events{/privacy}\",\"received_events_url\":\"https://api.github.com/users/aws-aemilia-bah/received_events\",\"type\":\"User\",\"user_view_type\":\"public\",\"site_admin\":false},\"repo\":{\"id\":810155523,\"node_id\":\"R_kgDOMEn-Aw\",\"name\":\"Github-PR-Commit-Integration-Test-DoNotTouch-GitH-MJCD6L4M-v1-preprod-me-south-1\",\"full_name\":\"aws-aemilia-bah/Github-PR-Commit-Integration-Test-DoNotTouch-GitH-MJCD6L4M-v1-preprod-me-south-1\",\"private\":false,\"owner\":{\"login\":\"aws-aemilia-bah\",\"id\":104544900,\"node_id\":\"U_kgDOBjs6hA\",\"avatar_url\":\"https://avatars.githubusercontent.com/u/104544900?v=4\",\"gravatar_id\":\"\",\"url\":\"https://api.github.com/users/aws-aemilia-bah\",\"html_url\":\"https://github.com/aws-aemilia-bah\",\"followers_url\":\"https://api.github.com/users/aws-aemilia-bah/followers\",\"following_url\":\"https://api.github.com/users/aws-aemilia-bah/following{/other_user}\",\"gists_url\":\"https://api.github.com/users/aws-aemilia-bah/gists{/gist_id}\",\"starred_url\":\"https://api.github.com/users/aws-aemilia-bah/starred{/owner}{/repo}\",\"subscriptions_url\":\"https://api.github.com/users/aws-aemilia-bah/subscriptions\",\"organizations_url\":\"https://api.github.com/users/aws-aemilia-bah/orgs\",\"repos_url\":\"https://api.github.com/users/aws-aemilia-bah/repos\",\"events_url\":\"https://api.github.com/users/aws-aemilia-bah/events{/privacy}\",\"received_events_url\":\"https://api.github.com/users/aws-aemilia-bah/received_events\",\"type\":\"User\",\"user_view_type\":\"public\",\"site_admin\":false},\"html_url\":\"https://github.com/aws-aemilia-bah/Github-PR-Commit-Integration-Test-DoNotTouch-GitH-MJCD6L4M-v1-preprod-me-south-1\",\"description\":null,\"fork\":false,\"url\":\"https://api.github.com/repos/aws-aemilia-bah/Github-PR-Commit-Integration-Test-DoNotTouch-GitH-MJCD6L4M-v1-preprod-me-south-1\",\"forks_url\":\"https://api.github.com/repos/aws-aemilia-bah/Github-PR-Commit-Integration-Test-DoNotTouch-GitH-MJCD6L4M-v1-preprod-me-south-1/forks\",\"keys_url\":\"https://api.github.com/repos/aws-aemilia-bah/Github-PR-Commit-Integration-Test-DoNotTouch-GitH-MJCD6L4M-v1-preprod-me-south-1/keys{/key_id}\",\"collaborators_url\":\"https://api.github.com/repos/aws-aemilia-bah/Github-PR-Commit-Integration-Test-DoNotTouch-GitH-MJCD6L4M-v1-preprod-me-south-1/collaborators{/collaborator}\",\"teams_url\":\"https://api.github.com/repos/aws-aemilia-bah/Github-PR-Commit-Integration-Test-DoNotTouch-GitH-MJCD6L4M-v1-preprod-me-south-1/teams\",\"hooks_url\":\"https://api.github.com/repos/aws-aemilia-bah/Github-PR-Commit-Integration-Test-DoNotTouch-GitH-MJCD6L4M-v1-preprod-me-south-1/hooks\",\"issue_events_url\":\"https://api.github.com/repos/aws-aemilia-bah/Github-PR-Commit-Integration-Test-DoNotTouch-GitH-MJCD6L4M-v1-preprod-me-south-1/issues/events{/number}\",\"events_url\":\"https://api.github.com/repos/aws-aemilia-bah/Github-PR-Commit-Integration-Test-DoNotTouch-GitH-MJCD6L4M-v1-preprod-me-south-1/events\",\"assignees_url\":\"https://api.github.com/repos/aws-aemilia-bah/Github-PR-Commit-Integration-Test-DoNotTouch-GitH-MJCD6L4M-v1-preprod-me-south-1/assignees{/user}\",\"branches_url\":\"https://api.github.com/repos/aws-aemilia-bah/Github-PR-Commit-Integration-Test-DoNotTouch-GitH-MJCD6L4M-v1-preprod-me-south-1/branches{/branch}\",\"tags_url\":\"https://api.github.com/repos/aws-aemilia-bah/Github-PR-Commit-Integration-Test-DoNotTouch-GitH-MJCD6L4M-v1-preprod-me-south-1/tags\",\"blobs_url\":\"https://api.github.com/repos/aws-aemilia-bah/Github-PR-Commit-Integration-Test-DoNotTouch-GitH-MJCD6L4M-v1-preprod-me-south-1/git/blobs{/sha}\",\"git_tags_url\":\"https://api.github.com/repos/aws-aemilia-bah/Github-PR-Commit-Integration-Test-DoNotTouch-GitH-MJCD6L4M-v1-preprod-me-south-1/git/tags{/sha}\",\"git_refs_url\":\"https://api.github.com/repos/aws-aemilia-bah/Github-PR-Commit-Integration-Test-DoNotTouch-GitH-MJCD6L4M-v1-preprod-me-south-1/git/refs{/sha}\",\"trees_url\":\"https://api.github.com/repos/aws-aemilia-bah/Github-PR-Commit-Integration-Test-DoNotTouch-GitH-MJCD6L4M-v1-preprod-me-south-1/git/trees{/sha}\",\"statuses_url\":\"https://api.github.com/repos/aws-aemilia-bah/Github-PR-Commit-Integration-Test-DoNotTouch-GitH-MJCD6L4M-v1-preprod-me-south-1/statuses/{sha}\",\"languages_url\":\"https://api.github.com/repos/aws-aemilia-bah/Github-PR-Commit-Integration-Test-DoNotTouch-GitH-MJCD6L4M-v1-preprod-me-south-1/languages\",\"stargazers_url\":\"https://api.github.com/repos/aws-aemilia-bah/Github-PR-Commit-Integration-Test-DoNotTouch-GitH-MJCD6L4M-v1-preprod-me-south-1/stargazers\",\"contributors_url\":\"https://api.github.com/repos/aws-aemilia-bah/Github-PR-Commit-Integration-Test-DoNotTouch-GitH-MJCD6L4M-v1-preprod-me-south-1/contributors\",\"subscribers_url\":\"https://api.github.com/repos/aws-aemilia-bah/Github-PR-Commit-Integration-Test-DoNotTouch-GitH-MJCD6L4M-v1-preprod-me-south-1/subscribers\",\"subscription_url\":\"https://api.github.com/repos/aws-aemilia-bah/Github-PR-Commit-Integration-Test-DoNotTouch-GitH-MJCD6L4M-v1-preprod-me-south-1/subscription\",\"commits_url\":\"https://api.github.com/repos/aws-aemilia-bah/Github-PR-Commit-Integration-Test-DoNotTouch-GitH-MJCD6L4M-v1-preprod-me-south-1/commits{/sha}\",\"git_commits_url\":\"https://api.github.com/repos/aws-aemilia-bah/Github-PR-Commit-Integration-Test-DoNotTouch-GitH-MJCD6L4M-v1-preprod-me-south-1/git/commits{/sha}\",\"comments_url\":\"https://api.github.com/repos/aws-aemilia-bah/Github-PR-Commit-Integration-Test-DoNotTouch-GitH-MJCD6L4M-v1-preprod-me-south-1/comments{/number}\",\"issue_comment_url\":\"https://api.github.com/repos/aws-aemilia-bah/Github-PR-Commit-Integration-Test-DoNotTouch-GitH-MJCD6L4M-v1-preprod-me-south-1/issues/comments{/number}\",\"contents_url\":\"https://api.github.com/repos/aws-aemilia-bah/Github-PR-Commit-Integration-Test-DoNotTouch-GitH-MJCD6L4M-v1-preprod-me-south-1/contents/{+path}\",\"compare_url\":\"https://api.github.com/repos/aws-aemilia-bah/Github-PR-Commit-Integration-Test-DoNotTouch-GitH-MJCD6L4M-v1-preprod-me-south-1/compare/{base}...{head}\",\"merges_url\":\"https://api.github.com/repos/aws-aemilia-bah/Github-PR-Commit-Integration-Test-DoNotTouch-GitH-MJCD6L4M-v1-preprod-me-south-1/merges\",\"archive_url\":\"https://api.github.com/repos/aws-aemilia-bah/Github-PR-Commit-Integration-Test-DoNotTouch-GitH-MJCD6L4M-v1-preprod-me-south-1/{archive_format}{/ref}\",\"downloads_url\":\"https://api.github.com/repos/aws-aemilia-bah/Github-PR-Commit-Integration-Test-DoNotTouch-GitH-MJCD6L4M-v1-preprod-me-south-1/downloads\",\"issues_url\":\"https://api.github.com/repos/aws-aemilia-bah/Github-PR-Commit-Integration-Test-DoNotTouch-GitH-MJCD6L4M-v1-preprod-me-south-1/issues{/number}\",\"pulls_url\":\"https://api.github.com/repos/aws-aemilia-bah/Github-PR-Commit-Integration-Test-DoNotTouch-GitH-MJCD6L4M-v1-preprod-me-south-1/pulls{/number}\",\"milestones_url\":\"https://api.github.com/repos/aws-aemilia-bah/Github-PR-Commit-Integration-Test-DoNotTouch-GitH-MJCD6L4M-v1-preprod-me-south-1/milestones{/number}\",\"notifications_url\":\"https://api.github.com/repos/aws-aemilia-bah/Github-PR-Commit-Integration-Test-DoNotTouch-GitH-MJCD6L4M-v1-preprod-me-south-1/notifications{?since,all,participating}\",\"labels_url\":\"https://api.github.com/repos/aws-aemilia-bah/Github-PR-Commit-Integration-Test-DoNotTouch-GitH-MJCD6L4M-v1-preprod-me-south-1/labels{/name}\",\"releases_url\":\"https://api.github.com/repos/aws-aemilia-bah/Github-PR-Commit-Integration-Test-DoNotTouch-GitH-MJCD6L4M-v1-preprod-me-south-1/releases{/id}\",\"deployments_url\":\"https://api.github.com/repos/aws-aemilia-bah/Github-PR-Commit-Integration-Test-DoNotTouch-GitH-MJCD6L4M-v1-preprod-me-south-1/deployments\",\"created_at\":\"2024-06-04T06:44:00Z\",\"updated_at\":\"2024-06-04T06:44:05Z\",\"pushed_at\":\"2025-03-23T03:14:42Z\",\"git_url\":\"git://github.com/aws-aemilia-bah/Github-PR-Commit-Integration-Test-DoNotTouch-GitH-MJCD6L4M-v1-preprod-me-south-1.git\",\"ssh_url\":\"git@github.com:aws-aemilia-bah/Github-PR-Commit-Integration-Test-DoNotTouch-GitH-MJCD6L4M-v1-preprod-me-south-1.git\",\"clone_url\":\"https://github.com/aws-aemilia-bah/Github-PR-Commit-Integration-Test-DoNotTouch-GitH-MJCD6L4M-v1-preprod-me-south-1.git\",\"svn_url\":\"https://github.com/aws-aemilia-bah/Github-PR-Commit-Integration-Test-DoNotTouch-GitH-MJCD6L4M-v1-preprod-me-south-1\",\"homepage\":null,\"size\":3,\"stargazers_count\":0,\"watchers_count\":0,\"language\":\"HTML\",\"has_issues\":true,\"has_projects\":true,\"has_downloads\":true,\"has_wiki\":true,\"has_pages\":false,\"has_discussions\":false,\"forks_count\":0,\"mirror_url\":null,\"archived\":false,\"disabled\":false,\"open_issues_count\":3,\"license\":null,\"allow_forking\":true,\"is_template\":false,\"web_commit_signoff_required\":false,\"topics\":[],\"visibility\":\"public\",\"forks\":0,\"open_issues\":3,\"watchers\":0,\"default_branch\":\"main\"}},\"base\":{\"label\":\"aws-aemilia-bah:main\",\"ref\":\"main\",\"sha\":\"c19cec372080a13170a10b7a15eb981f835bab9f\",\"user\":{\"login\":\"aws-aemilia-bah\",\"id\":104544900,\"node_id\":\"U_kgDOBjs6hA\",\"avatar_url\":\"https://avatars.githubusercontent.com/u/104544900?v=4\",\"gravatar_id\":\"\",\"url\":\"https://api.github.com/users/aws-aemilia-bah\",\"html_url\":\"https://github.com/aws-aemilia-bah\",\"followers_url\":\"https://api.github.com/users/aws-aemilia-bah/followers\",\"following_url\":\"https://api.github.com/users/aws-aemilia-bah/following{/other_user}\",\"gists_url\":\"https://api.github.com/users/aws-aemilia-bah/gists{/gist_id}\",\"starred_url\":\"https://api.github.com/users/aws-aemilia-bah/starred{/owner}{/repo}\",\"subscriptions_url\":\"https://api.github.com/users/aws-aemilia-bah/subscriptions\",\"organizations_url\":\"https://api.github.com/users/aws-aemilia-bah/orgs\",\"repos_url\":\"https://api.github.com/users/aws-aemilia-bah/repos\",\"events_url\":\"https://api.github.com/users/aws-aemilia-bah/events{/privacy}\",\"received_events_url\":\"https://api.github.com/users/aws-aemilia-bah/received_events\",\"type\":\"User\",\"user_view_type\":\"public\",\"site_admin\":false},\"repo\":{\"id\":810155523,\"node_id\":\"R_kgDOMEn-Aw\",\"name\":\"Github-PR-Commit-Integration-Test-DoNotTouch-GitH-MJCD6L4M-v1-preprod-me-south-1\",\"full_name\":\"aws-aemilia-bah/Github-PR-Commit-Integration-Test-DoNotTouch-GitH-MJCD6L4M-v1-preprod-me-south-1\",\"private\":false,\"owner\":{\"login\":\"aws-aemilia-bah\",\"id\":104544900,\"node_id\":\"U_kgDOBjs6hA\",\"avatar_url\":\"https://avatars.githubusercontent.com/u/104544900?v=4\",\"gravatar_id\":\"\",\"url\":\"https://api.github.com/users/aws-aemilia-bah\",\"html_url\":\"https://github.com/aws-aemilia-bah\",\"followers_url\":\"https://api.github.com/users/aws-aemilia-bah/followers\",\"following_url\":\"https://api.github.com/users/aws-aemilia-bah/following{/other_user}\",\"gists_url\":\"https://api.github.com/users/aws-aemilia-bah/gists{/gist_id}\",\"starred_url\":\"https://api.github.com/users/aws-aemilia-bah/starred{/owner}{/repo}\",\"subscriptions_url\":\"https://api.github.com/users/aws-aemilia-bah/subscriptions\",\"organizations_url\":\"https://api.github.com/users/aws-aemilia-bah/orgs\",\"repos_url\":\"https://api.github.com/users/aws-aemilia-bah/repos\",\"events_url\":\"https://api.github.com/users/aws-aemilia-bah/events{/privacy}\",\"received_events_url\":\"https://api.github.com/users/aws-aemilia-bah/received_events\",\"type\":\"User\",\"user_view_type\":\"public\",\"site_admin\":false},\"html_url\":\"https://github.com/aws-aemilia-bah/Github-PR-Commit-Integration-Test-DoNotTouch-GitH-MJCD6L4M-v1-preprod-me-south-1\",\"description\":null,\"fork\":false,\"url\":\"https://api.github.com/repos/aws-aemilia-bah/Github-PR-Commit-Integration-Test-DoNotTouch-GitH-MJCD6L4M-v1-preprod-me-south-1\",\"forks_url\":\"https://api.github.com/repos/aws-aemilia-bah/Github-PR-Commit-Integration-Test-DoNotTouch-GitH-MJCD6L4M-v1-preprod-me-south-1/forks\",\"keys_url\":\"https://api.github.com/repos/aws-aemilia-bah/Github-PR-Commit-Integration-Test-DoNotTouch-GitH-MJCD6L4M-v1-preprod-me-south-1/keys{/key_id}\",\"collaborators_url\":\"https://api.github.com/repos/aws-aemilia-bah/Github-PR-Commit-Integration-Test-DoNotTouch-GitH-MJCD6L4M-v1-preprod-me-south-1/collaborators{/collaborator}\",\"teams_url\":\"https://api.github.com/repos/aws-aemilia-bah/Github-PR-Commit-Integration-Test-DoNotTouch-GitH-MJCD6L4M-v1-preprod-me-south-1/teams\",\"hooks_url\":\"https://api.github.com/repos/aws-aemilia-bah/Github-PR-Commit-Integration-Test-DoNotTouch-GitH-MJCD6L4M-v1-preprod-me-south-1/hooks\",\"issue_events_url\":\"https://api.github.com/repos/aws-aemilia-bah/Github-PR-Commit-Integration-Test-DoNotTouch-GitH-MJCD6L4M-v1-preprod-me-south-1/issues/events{/number}\",\"events_url\":\"https://api.github.com/repos/aws-aemilia-bah/Github-PR-Commit-Integration-Test-DoNotTouch-GitH-MJCD6L4M-v1-preprod-me-south-1/events\",\"assignees_url\":\"https://api.github.com/repos/aws-aemilia-bah/Github-PR-Commit-Integration-Test-DoNotTouch-GitH-MJCD6L4M-v1-preprod-me-south-1/assignees{/user}\",\"branches_url\":\"https://api.github.com/repos/aws-aemilia-bah/Github-PR-Commit-Integration-Test-DoNotTouch-GitH-MJCD6L4M-v1-preprod-me-south-1/branches{/branch}\",\"tags_url\":\"https://api.github.com/repos/aws-aemilia-bah/Github-PR-Commit-Integration-Test-DoNotTouch-GitH-MJCD6L4M-v1-preprod-me-south-1/tags\",\"blobs_url\":\"https://api.github.com/repos/aws-aemilia-bah/Github-PR-Commit-Integration-Test-DoNotTouch-GitH-MJCD6L4M-v1-preprod-me-south-1/git/blobs{/sha}\",\"git_tags_url\":\"https://api.github.com/repos/aws-aemilia-bah/Github-PR-Commit-Integration-Test-DoNotTouch-GitH-MJCD6L4M-v1-preprod-me-south-1/git/tags{/sha}\",\"git_refs_url\":\"https://api.github.com/repos/aws-aemilia-bah/Github-PR-Commit-Integration-Test-DoNotTouch-GitH-MJCD6L4M-v1-preprod-me-south-1/git/refs{/sha}\",\"trees_url\":\"https://api.github.com/repos/aws-aemilia-bah/Github-PR-Commit-Integration-Test-DoNotTouch-GitH-MJCD6L4M-v1-preprod-me-south-1/git/trees{/sha}\",\"statuses_url\":\"https://api.github.com/repos/aws-aemilia-bah/Github-PR-Commit-Integration-Test-DoNotTouch-GitH-MJCD6L4M-v1-preprod-me-south-1/statuses/{sha}\",\"languages_url\":\"https://api.github.com/repos/aws-aemilia-bah/Github-PR-Commit-Integration-Test-DoNotTouch-GitH-MJCD6L4M-v1-preprod-me-south-1/languages\",\"stargazers_url\":\"https://api.github.com/repos/aws-aemilia-bah/Github-PR-Commit-Integration-Test-DoNotTouch-GitH-MJCD6L4M-v1-preprod-me-south-1/stargazers\",\"contributors_url\":\"https://api.github.com/repos/aws-aemilia-bah/Github-PR-Commit-Integration-Test-DoNotTouch-GitH-MJCD6L4M-v1-preprod-me-south-1/contributors\",\"subscribers_url\":\"https://api.github.com/repos/aws-aemilia-bah/Github-PR-Commit-Integration-Test-DoNotTouch-GitH-MJCD6L4M-v1-preprod-me-south-1/subscribers\",\"subscription_url\":\"https://api.github.com/repos/aws-aemilia-bah/Github-PR-Commit-Integration-Test-DoNotTouch-GitH-MJCD6L4M-v1-preprod-me-south-1/subscription\",\"commits_url\":\"https://api.github.com/repos/aws-aemilia-bah/Github-PR-Commit-Integration-Test-DoNotTouch-GitH-MJCD6L4M-v1-preprod-me-south-1/commits{/sha}\",\"git_commits_url\":\"https://api.github.com/repos/aws-aemilia-bah/Github-PR-Commit-Integration-Test-DoNotTouch-GitH-MJCD6L4M-v1-preprod-me-south-1/git/commits{/sha}\",\"comments_url\":\"https://api.github.com/repos/aws-aemilia-bah/Github-PR-Commit-Integration-Test-DoNotTouch-GitH-MJCD6L4M-v1-preprod-me-south-1/comments{/number}\",\"issue_comment_url\":\"https://api.github.com/repos/aws-aemilia-bah/Github-PR-Commit-Integration-Test-DoNotTouch-GitH-MJCD6L4M-v1-preprod-me-south-1/issues/comments{/number}\",\"contents_url\":\"https://api.github.com/repos/aws-aemilia-bah/Github-PR-Commit-Integration-Test-DoNotTouch-GitH-MJCD6L4M-v1-preprod-me-south-1/contents/{+path}\",\"compare_url\":\"https://api.github.com/repos/aws-aemilia-bah/Github-PR-Commit-Integration-Test-DoNotTouch-GitH-MJCD6L4M-v1-preprod-me-south-1/compare/{base}...{head}\",\"merges_url\":\"https://api.github.com/repos/aws-aemilia-bah/Github-PR-Commit-Integration-Test-DoNotTouch-GitH-MJCD6L4M-v1-preprod-me-south-1/merges\",\"archive_url\":\"https://api.github.com/repos/aws-aemilia-bah/Github-PR-Commit-Integration-Test-DoNotTouch-GitH-MJCD6L4M-v1-preprod-me-south-1/{archive_format}{/ref}\",\"downloads_url\":\"https://api.github.com/repos/aws-aemilia-bah/Github-PR-Commit-Integration-Test-DoNotTouch-GitH-MJCD6L4M-v1-preprod-me-south-1/downloads\",\"issues_url\":\"https://api.github.com/repos/aws-aemilia-bah/Github-PR-Commit-Integration-Test-DoNotTouch-GitH-MJCD6L4M-v1-preprod-me-south-1/issues{/number}\",\"pulls_url\":\"https://api.github.com/repos/aws-aemilia-bah/Github-PR-Commit-Integration-Test-DoNotTouch-GitH-MJCD6L4M-v1-preprod-me-south-1/pulls{/number}\",\"milestones_url\":\"https://api.github.com/repos/aws-aemilia-bah/Github-PR-Commit-Integration-Test-DoNotTouch-GitH-MJCD6L4M-v1-preprod-me-south-1/milestones{/number}\",\"notifications_url\":\"https://api.github.com/repos/aws-aemilia-bah/Github-PR-Commit-Integration-Test-DoNotTouch-GitH-MJCD6L4M-v1-preprod-me-south-1/notifications{?since,all,participating}\",\"labels_url\":\"https://api.github.com/repos/aws-aemilia-bah/Github-PR-Commit-Integration-Test-DoNotTouch-GitH-MJCD6L4M-v1-preprod-me-south-1/labels{/name}\",\"releases_url\":\"https://api.github.com/repos/aws-aemilia-bah/Github-PR-Commit-Integration-Test-DoNotTouch-GitH-MJCD6L4M-v1-preprod-me-south-1/releases{/id}\",\"deployments_url\":\"https://api.github.com/repos/aws-aemilia-bah/Github-PR-Commit-Integration-Test-DoNotTouch-GitH-MJCD6L4M-v1-preprod-me-south-1/deployments\",\"created_at\":\"2024-06-04T06:44:00Z\",\"updated_at\":\"2024-06-04T06:44:05Z\",\"pushed_at\":\"2025-03-23T03:14:42Z\",\"git_url\":\"git://github.com/aws-aemilia-bah/Github-PR-Commit-Integration-Test-DoNotTouch-GitH-MJCD6L4M-v1-preprod-me-south-1.git\",\"ssh_url\":\"git@github.com:aws-aemilia-bah/Github-PR-Commit-Integration-Test-DoNotTouch-GitH-MJCD6L4M-v1-preprod-me-south-1.git\",\"clone_url\":\"https://github.com/aws-aemilia-bah/Github-PR-Commit-Integration-Test-DoNotTouch-GitH-MJCD6L4M-v1-preprod-me-south-1.git\",\"svn_url\":\"https://github.com/aws-aemilia-bah/Github-PR-Commit-Integration-Test-DoNotTouch-GitH-MJCD6L4M-v1-preprod-me-south-1\",\"homepage\":null,\"size\":3,\"stargazers_count\":0,\"watchers_count\":0,\"language\":\"HTML\",\"has_issues\":true,\"has_projects\":true,\"has_downloads\":true,\"has_wiki\":true,\"has_pages\":false,\"has_discussions\":false,\"forks_count\":0,\"mirror_url\":null,\"archived\":false,\"disabled\":false,\"open_issues_count\":3,\"license\":null,\"allow_forking\":true,\"is_template\":false,\"web_commit_signoff_required\":false,\"topics\":[],\"visibility\":\"public\",\"forks\":0,\"open_issues\":3,\"watchers\":0,\"default_branch\":\"main\"}},\"_links\":{\"self\":{\"href\":\"https://api.github.com/repos/aws-aemilia-bah/Github-PR-Commit-Integration-Test-DoNotTouch-GitH-MJCD6L4M-v1-preprod-me-south-1/pulls/27986\"},\"html\":{\"href\":\"https://github.com/aws-aemilia-bah/Github-PR-Commit-Integration-Test-DoNotTouch-GitH-MJCD6L4M-v1-preprod-me-south-1/pull/27986\"},\"issue\":{\"href\":\"https://api.github.com/repos/aws-aemilia-bah/Github-PR-Commit-Integration-Test-DoNotTouch-GitH-MJCD6L4M-v1-preprod-me-south-1/issues/27986\"},\"comments\":{\"href\":\"https://api.github.com/repos/aws-aemilia-bah/Github-PR-Commit-Integration-Test-DoNotTouch-GitH-MJCD6L4M-v1-preprod-me-south-1/issues/27986/comments\"},\"review_comments\":{\"href\":\"https://api.github.com/repos/aws-aemilia-bah/Github-PR-Commit-Integration-Test-DoNotTouch-GitH-MJCD6L4M-v1-preprod-me-south-1/pulls/27986/comments\"},\"review_comment\":{\"href\":\"https://api.github.com/repos/aws-aemilia-bah/Github-PR-Commit-Integration-Test-DoNotTouch-GitH-MJCD6L4M-v1-preprod-me-south-1/pulls/comments{/number}\"},\"commits\":{\"href\":\"https://api.github.com/repos/aws-aemilia-bah/Github-PR-Commit-Integration-Test-DoNotTouch-GitH-MJCD6L4M-v1-preprod-me-south-1/pulls/27986/commits\"},\"statuses\":{\"href\":\"https://api.github.com/repos/aws-aemilia-bah/Github-PR-Commit-Integration-Test-DoNotTouch-GitH-MJCD6L4M-v1-preprod-me-south-1/statuses/3fa52daf6ddd93941dabdfc8223b85feafe8c976\"}},\"author_association\":\"OWNER\",\"auto_merge\":null,\"active_lock_reason\":null,\"merged\":false,\"mergeable\":true,\"rebaseable\":true,\"mergeable_state\":\"clean\",\"merged_by\":null,\"comments\":0,\"review_comments\":0,\"maintainer_can_modify\":false,\"commits\":1,\"additions\":3,\"deletions\":1,\"changed_files\":1}},\"public\":true,\"created_at\":\"2025-03-23T03:14:45Z\"},{\"id\":\"47858636431\",\"type\":\"CreateEvent\",\"actor\":{\"id\":104101892,\"login\":\"pixeebot[bot]\",\"display_login\":\"pixeebot\",\"gravatar_id\":\"\",\"url\":\"https://api.github.com/users/pixeebot[bot]\",\"avatar_url\":\"https://avatars.githubusercontent.com/u/104101892?\"},\"repo\":{\"id\":723615215,\"name\":\"gonzalezmax/opencms-core\",\"url\":\"https://api.github.com/repos/gonzalezmax/opencms-core\"},\"payload\":{\"ref\":\"pixeebot/drip-2025-03-23-pixee-java/upgrade-tempfile-to-nio\",\"ref_type\":\"branch\",\"master_branch\":\"master\",\"description\":null,\"pusher_type\":\"user\"},\"public\":true,\"created_at\":\"2025-03-23T03:14:45Z\"},{\"id\":\"47858636425\",\"type\":\"PushEvent\",\"actor\":{\"id\":62993486,\"login\":\"kyasby\",\"display_login\":\"kyasby\",\"gravatar_id\":\"\",\"url\":\"https://api.github.com/users/kyasby\",\"avatar_url\":\"https://avatars.githubusercontent.com/u/62993486?\"},\"repo\":{\"id\":953301312,\"name\":\"kyasby/astro_tutorial\",\"url\":\"https://api.github.com/repos/kyasby/astro_tutorial\"},\"payload\":{\"repository_id\":953301312,\"push_id\":23326566614,\"size\":1,\"distinct_size\":1,\"ref\":\"refs/heads/main\",\"head\":\"aac52c26b6090761226243be8911f7749495297b\",\"before\":\"7a1f65a9c4825e8e961964f2570f8ed95eb6278f\",\"commits\":[{\"sha\":\"aac52c26b6090761226243be8911f7749495297b\",\"author\":{\"email\":\"horiryou@horiryous-MacBook-Pro.local\",\"name\":\"堀涼\"},\"message\":\"add blog, about\",\"distinct\":true,\"url\":\"https://api.github.com/repos/kyasby/astro_tutorial/commits/aac52c26b6090761226243be8911f7749495297b\"}]},\"public\":true,\"created_at\":\"2025-03-23T03:14:44Z\"},{\"id\":\"47858636424\",\"type\":\"PushEvent\",\"actor\":{\"id\":93382891,\"login\":\"MathiasExorde\",\"display_login\":\"MathiasExorde\",\"gravatar_id\":\"\",\"url\":\"https://api.github.com/users/MathiasExorde\",\"avatar_url\":\"https://avatars.githubusercontent.com/u/93382891?\"},\"repo\":{\"id\":511095846,\"name\":\"exorde-labs/TestnetProtocol\",\"url\":\"https://api.github.com/repos/exorde-labs/TestnetProtocol\"},\"payload\":{\"repository_id\":511095846,\"push_id\":23326566604,\"size\":1,\"distinct_size\":1,\"ref\":\"refs/heads/main\",\"head\":\"02196649fcd0480745f3892bae9334c0ff7a35c2\",\"before\":\"bc1513b9fd11480f6679ae30c1db19e25b5feff6\",\"commits\":[{\"sha\":\"02196649fcd0480745f3892bae9334c0ff7a35c2\",\"author\":{\"email\":\"93382891+MathiasExorde@users.noreply.github.com\",\"name\":\"Mathias Dail\"},\"message\":\"Automated update 2025-03-23-Mar-03\",\"distinct\":true,\"url\":\"https://api.github.com/repos/exorde-labs/TestnetProtocol/commits/02196649fcd0480745f3892bae9334c0ff7a35c2\"}]},\"public\":true,\"created_at\":\"2025-03-23T03:14:44Z\",\"org\":{\"id\":64810085,\"login\":\"exorde-labs\",\"gravatar_id\":\"\",\"url\":\"https://api.github.com/orgs/exorde-labs\",\"avatar_url\":\"https://avatars.githubusercontent.com/u/64810085?\"}},{\"id\":\"47858636427\",\"type\":\"PullRequestEvent\",\"actor\":{\"id\":41898282,\"login\":\"github-actions[bot]\",\"display_login\":\"github-actions\",\"gravatar_id\":\"\",\"url\":\"https://api.github.com/users/github-actions[bot]\",\"avatar_url\":\"https://avatars.githubusercontent.com/u/41898282?\"},\"repo\":{\"id\":391498585,\"name\":\"mamezou-tech/mamezou-tech-site\",\"url\":\"https://api.github.com/repos/mamezou-tech/mamezou-tech-site\"},\"payload\":{\"action\":\"opened\",\"number\":1768,\"pull_request\":{\"url\":\"https://api.github.com/repos/mamezou-tech/mamezou-tech-site/pulls/1768\",\"id\":2411684939,\"node_id\":\"PR_kwDOF1XLWc6Pv2RL\",\"html_url\":\"https://github.com/mamezou-tech/mamezou-tech-site/pull/1768\",\"diff_url\":\"https://github.com/mamezou-tech/mamezou-tech-site/pull/1768.diff\",\"patch_url\":\"https://github.com/mamezou-tech/mamezou-tech-site/pull/1768.patch\",\"issue_url\":\"https://api.github.com/repos/mamezou-tech/mamezou-tech-site/issues/1768\",\"number\":1768,\"state\":\"open\",\"locked\":false,\"title\":\"[auto-review] Automatically update Mameka's column\",\"user\":{\"login\":\"github-actions[bot]\",\"id\":41898282,\"node_id\":\"MDM6Qm90NDE4OTgyODI=\",\"avatar_url\":\"https://avatars.githubusercontent.com/in/15368?v=4\",\"gravatar_id\":\"\",\"url\":\"https://api.github.com/users/github-actions%5Bbot%5D\",\"html_url\":\"https://github.com/apps/github-actions\",\"followers_url\":\"https://api.github.com/users/github-actions%5Bbot%5D/followers\",\"following_url\":\"https://api.github.com/users/github-actions%5Bbot%5D/following{/other_user}\",\"gists_url\":\"https://api.github.com/users/github-actions%5Bbot%5D/gists{/gist_id}\",\"starred_url\":\"https://api.github.com/users/github-actions%5Bbot%5D/starred{/owner}{/repo}\",\"subscriptions_url\":\"https://api.github.com/users/github-actions%5Bbot%5D/subscriptions\",\"organizations_url\":\"https://api.github.com/users/github-actions%5Bbot%5D/orgs\",\"repos_url\":\"https://api.github.com/users/github-actions%5Bbot%5D/repos\",\"events_url\":\"https://api.github.com/users/github-actions%5Bbot%5D/events{/privacy}\",\"received_events_url\":\"https://api.github.com/users/github-actions%5Bbot%5D/received_events\",\"type\":\"Bot\",\"user_view_type\":\"public\",\"site_admin\":false},\"body\":\"review the generated content and verify its accuracy.\",\"created_at\":\"2025-03-23T03:14:42Z\",\"updated_at\":\"2025-03-23T03:14:44Z\",\"closed_at\":null,\"merged_at\":null,\"merge_commit_sha\":\"c5303c9b1370631ff3371656b77b6ae41882c9ef\",\"assignee\":null,\"assignees\":[],\"requested_reviewers\":[{\"login\":\"kudoh\",\"id\":1907821,\"node_id\":\"MDQ6VXNlcjE5MDc4MjE=\",\"avatar_url\":\"https://avatars.githubusercontent.com/u/1907821?v=4\",\"gravatar_id\":\"\",\"url\":\"https://api.github.com/users/kudoh\",\"html_url\":\"https://github.com/kudoh\",\"followers_url\":\"https://api.github.com/users/kudoh/followers\",\"following_url\":\"https://api.github.com/users/kudoh/following{/other_user}\",\"gists_url\":\"https://api.github.com/users/kudoh/gists{/gist_id}\",\"starred_url\":\"https://api.github.com/users/kudoh/starred{/owner}{/repo}\",\"subscriptions_url\":\"https://api.github.com/users/kudoh/subscriptions\",\"organizations_url\":\"https://api.github.com/users/kudoh/orgs\",\"repos_url\":\"https://api.github.com/users/kudoh/repos\",\"events_url\":\"https://api.github.com/users/kudoh/events{/privacy}\",\"received_events_url\":\"https://api.github.com/users/kudoh/received_events\",\"type\":\"User\",\"user_view_type\":\"public\",\"site_admin\":false}],\"requested_teams\":[],\"labels\":[{\"id\":6808763508,\"node_id\":\"LA_kwDOF1XLWc8AAAABldV8dA\",\"url\":\"https://api.github.com/repos/mamezou-tech/mamezou-tech-site/labels/bot\",\"name\":\"bot\",\"color\":\"ededed\",\"default\":false,\"description\":null}],\"milestone\":null,\"draft\":false,\"commits_url\":\"https://api.github.com/repos/mamezou-tech/mamezou-tech-site/pulls/1768/commits\",\"review_comments_url\":\"https://api.github.com/repos/mamezou-tech/mamezou-tech-site/pulls/1768/comments\",\"review_comment_url\":\"https://api.github.com/repos/mamezou-tech/mamezou-tech-site/pulls/comments{/number}\",\"comments_url\":\"https://api.github.com/repos/mamezou-tech/mamezou-tech-site/issues/1768/comments\",\"statuses_url\":\"https://api.github.com/repos/mamezou-tech/mamezou-tech-site/statuses/af2237279813bcfd6124dfc1a7a3ecec9a7d5366\",\"head\":{\"label\":\"mamezou-tech:daily-mameka-column\",\"ref\":\"daily-mameka-column\",\"sha\":\"af2237279813bcfd6124dfc1a7a3ecec9a7d5366\",\"user\":{\"login\":\"mamezou-tech\",\"id\":59987541,\"node_id\":\"MDEyOk9yZ2FuaXphdGlvbjU5OTg3NTQx\",\"avatar_url\":\"https://avatars.githubusercontent.com/u/59987541?v=4\",\"gravatar_id\":\"\",\"url\":\"https://api.github.com/users/mamezou-tech\",\"html_url\":\"https://github.com/mamezou-tech\",\"followers_url\":\"https://api.github.com/users/mamezou-tech/followers\",\"following_url\":\"https://api.github.com/users/mamezou-tech/following{/other_user}\",\"gists_url\":\"https://api.github.com/users/mamezou-tech/gists{/gist_id}\",\"starred_url\":\"https://api.github.com/users/mamezou-tech/starred{/owner}{/repo}\",\"subscriptions_url\":\"https://api.github.com/users/mamezou-tech/subscriptions\",\"organizations_url\":\"https://api.github.com/users/mamezou-tech/orgs\",\"repos_url\":\"https://api.github.com/users/mamezou-tech/repos\",\"events_url\":\"https://api.github.com/users/mamezou-tech/events{/privacy}\",\"received_events_url\":\"https://api.github.com/users/mamezou-tech/received_events\",\"type\":\"Organization\",\"user_view_type\":\"public\",\"site_admin\":false},\"repo\":{\"id\":391498585,\"node_id\":\"MDEwOlJlcG9zaXRvcnkzOTE0OTg1ODU=\",\"name\":\"mamezou-tech-site\",\"full_name\":\"mamezou-tech/mamezou-tech-site\",\"private\":false,\"owner\":{\"login\":\"mamezou-tech\",\"id\":59987541,\"node_id\":\"MDEyOk9yZ2FuaXphdGlvbjU5OTg3NTQx\",\"avatar_url\":\"https://avatars.githubusercontent.com/u/59987541?v=4\",\"gravatar_id\":\"\",\"url\":\"https://api.github.com/users/mamezou-tech\",\"html_url\":\"https://github.com/mamezou-tech\",\"followers_url\":\"https://api.github.com/users/mamezou-tech/followers\",\"following_url\":\"https://api.github.com/users/mamezou-tech/following{/other_user}\",\"gists_url\":\"https://api.github.com/users/mamezou-tech/gists{/gist_id}\",\"starred_url\":\"https://api.github.com/users/mamezou-tech/starred{/owner}{/repo}\",\"subscriptions_url\":\"https://api.github.com/users/mamezou-tech/subscriptions\",\"organizations_url\":\"https://api.github.com/users/mamezou-tech/orgs\",\"repos_url\":\"https://api.github.com/users/mamezou-tech/repos\",\"events_url\":\"https://api.github.com/users/mamezou-tech/events{/privacy}\",\"received_events_url\":\"https://api.github.com/users/mamezou-tech/received_events\",\"type\":\"Organization\",\"user_view_type\":\"public\",\"site_admin\":false},\"html_url\":\"https://github.com/mamezou-tech/mamezou-tech-site\",\"description\":null,\"fork\":false,\"url\":\"https://api.github.com/repos/mamezou-tech/mamezou-tech-site\",\"forks_url\":\"https://api.github.com/repos/mamezou-tech/mamezou-tech-site/forks\",\"keys_url\":\"https://api.github.com/repos/mamezou-tech/mamezou-tech-site/keys{/key_id}\",\"collaborators_url\":\"https://api.github.com/repos/mamezou-tech/mamezou-tech-site/collaborators{/collaborator}\",\"teams_url\":\"https://api.github.com/repos/mamezou-tech/mamezou-tech-site/teams\",\"hooks_url\":\"https://api.github.com/repos/mamezou-tech/mamezou-tech-site/hooks\",\"issue_events_url\":\"https://api.github.com/repos/mamezou-tech/mamezou-tech-site/issues/events{/number}\",\"events_url\":\"https://api.github.com/repos/mamezou-tech/mamezou-tech-site/events\",\"assignees_url\":\"https://api.github.com/repos/mamezou-tech/mamezou-tech-site/assignees{/user}\",\"branches_url\":\"https://api.github.com/repos/mamezou-tech/mamezou-tech-site/branches{/branch}\",\"tags_url\":\"https://api.github.com/repos/mamezou-tech/mamezou-tech-site/tags\",\"blobs_url\":\"https://api.github.com/repos/mamezou-tech/mamezou-tech-site/git/blobs{/sha}\",\"git_tags_url\":\"https://api.github.com/repos/mamezou-tech/mamezou-tech-site/git/tags{/sha}\",\"git_refs_url\":\"https://api.github.com/repos/mamezou-tech/mamezou-tech-site/git/refs{/sha}\",\"trees_url\":\"https://api.github.com/repos/mamezou-tech/mamezou-tech-site/git/trees{/sha}\",\"statuses_url\":\"https://api.github.com/repos/mamezou-tech/mamezou-tech-site/statuses/{sha}\",\"languages_url\":\"https://api.github.com/repos/mamezou-tech/mamezou-tech-site/languages\",\"stargazers_url\":\"https://api.github.com/repos/mamezou-tech/mamezou-tech-site/stargazers\",\"contributors_url\":\"https://api.github.com/repos/mamezou-tech/mamezou-tech-site/contributors\",\"subscribers_url\":\"https://api.github.com/repos/mamezou-tech/mamezou-tech-site/subscribers\",\"subscription_url\":\"https://api.github.com/repos/mamezou-tech/mamezou-tech-site/subscription\",\"commits_url\":\"https://api.github.com/repos/mamezou-tech/mamezou-tech-site/commits{/sha}\",\"git_commits_url\":\"https://api.github.com/repos/mamezou-tech/mamezou-tech-site/git/commits{/sha}\",\"comments_url\":\"https://api.github.com/repos/mamezou-tech/mamezou-tech-site/comments{/number}\",\"issue_comment_url\":\"https://api.github.com/repos/mamezou-tech/mamezou-tech-site/issues/comments{/number}\",\"contents_url\":\"https://api.github.com/repos/mamezou-tech/mamezou-tech-site/contents/{+path}\",\"compare_url\":\"https://api.github.com/repos/mamezou-tech/mamezou-tech-site/compare/{base}...{head}\",\"merges_url\":\"https://api.github.com/repos/mamezou-tech/mamezou-tech-site/merges\",\"archive_url\":\"https://api.github.com/repos/mamezou-tech/mamezou-tech-site/{archive_format}{/ref}\",\"downloads_url\":\"https://api.github.com/repos/mamezou-tech/mamezou-tech-site/downloads\",\"issues_url\":\"https://api.github.com/repos/mamezou-tech/mamezou-tech-site/issues{/number}\",\"pulls_url\":\"https://api.github.com/repos/mamezou-tech/mamezou-tech-site/pulls{/number}\",\"milestones_url\":\"https://api.github.com/repos/mamezou-tech/mamezou-tech-site/milestones{/number}\",\"notifications_url\":\"https://api.github.com/repos/mamezou-tech/mamezou-tech-site/notifications{?since,all,participating}\",\"labels_url\":\"https://api.github.com/repos/mamezou-tech/mamezou-tech-site/labels{/name}\",\"releases_url\":\"https://api.github.com/repos/mamezou-tech/mamezou-tech-site/releases{/id}\",\"deployments_url\":\"https://api.github.com/repos/mamezou-tech/mamezou-tech-site/deployments\",\"created_at\":\"2021-08-01T01:45:19Z\",\"updated_at\":\"2025-03-22T13:59:33Z\",\"pushed_at\":\"2025-03-23T03:14:42Z\",\"git_url\":\"git://github.com/mamezou-tech/mamezou-tech-site.git\",\"ssh_url\":\"git@github.com:mamezou-tech/mamezou-tech-site.git\",\"clone_url\":\"https://github.com/mamezou-tech/mamezou-tech-site.git\",\"svn_url\":\"https://github.com/mamezou-tech/mamezou-tech-site\",\"homepage\":\"\",\"size\":379734,\"stargazers_count\":8,\"watchers_count\":8,\"language\":\"TypeScript\",\"has_issues\":true,\"has_projects\":true,\"has_downloads\":true,\"has_wiki\":true,\"has_pages\":false,\"has_discussions\":true,\"forks_count\":1,\"mirror_url\":null,\"archived\":false,\"disabled\":false,\"open_issues_count\":4,\"license\":{\"key\":\"isc\",\"name\":\"ISC License\",\"spdx_id\":\"ISC\",\"url\":\"https://api.github.com/licenses/isc\",\"node_id\":\"MDc6TGljZW5zZTEw\"},\"allow_forking\":true,\"is_template\":false,\"web_commit_signoff_required\":false,\"topics\":[],\"visibility\":\"public\",\"forks\":1,\"open_issues\":4,\"watchers\":8,\"default_branch\":\"main\"}},\"base\":{\"label\":\"mamezou-tech:main\",\"ref\":\"main\",\"sha\":\"1b081df3915b115c2ce61736c1652aa2256c867d\",\"user\":{\"login\":\"mamezou-tech\",\"id\":59987541,\"node_id\":\"MDEyOk9yZ2FuaXphdGlvbjU5OTg3NTQx\",\"avatar_url\":\"https://avatars.githubusercontent.com/u/59987541?v=4\",\"gravatar_id\":\"\",\"url\":\"https://api.github.com/users/mamezou-tech\",\"html_url\":\"https://github.com/mamezou-tech\",\"followers_url\":\"https://api.github.com/users/mamezou-tech/followers\",\"following_url\":\"https://api.github.com/users/mamezou-tech/following{/other_user}\",\"gists_url\":\"https://api.github.com/users/mamezou-tech/gists{/gist_id}\",\"starred_url\":\"https://api.github.com/users/mamezou-tech/starred{/owner}{/repo}\",\"subscriptions_url\":\"https://api.github.com/users/mamezou-tech/subscriptions\",\"organizations_url\":\"https://api.github.com/users/mamezou-tech/orgs\",\"repos_url\":\"https://api.github.com/users/mamezou-tech/repos\",\"events_url\":\"https://api.github.com/users/mamezou-tech/events{/privacy}\",\"received_events_url\":\"https://api.github.com/users/mamezou-tech/received_events\",\"type\":\"Organization\",\"user_view_type\":\"public\",\"site_admin\":false},\"repo\":{\"id\":391498585,\"node_id\":\"MDEwOlJlcG9zaXRvcnkzOTE0OTg1ODU=\",\"name\":\"mamezou-tech-site\",\"full_name\":\"mamezou-tech/mamezou-tech-site\",\"private\":false,\"owner\":{\"login\":\"mamezou-tech\",\"id\":59987541,\"node_id\":\"MDEyOk9yZ2FuaXphdGlvbjU5OTg3NTQx\",\"avatar_url\":\"https://avatars.githubusercontent.com/u/59987541?v=4\",\"gravatar_id\":\"\",\"url\":\"https://api.github.com/users/mamezou-tech\",\"html_url\":\"https://github.com/mamezou-tech\",\"followers_url\":\"https://api.github.com/users/mamezou-tech/followers\",\"following_url\":\"https://api.github.com/users/mamezou-tech/following{/other_user}\",\"gists_url\":\"https://api.github.com/users/mamezou-tech/gists{/gist_id}\",\"starred_url\":\"https://api.github.com/users/mamezou-tech/starred{/owner}{/repo}\",\"subscriptions_url\":\"https://api.github.com/users/mamezou-tech/subscriptions\",\"organizations_url\":\"https://api.github.com/users/mamezou-tech/orgs\",\"repos_url\":\"https://api.github.com/users/mamezou-tech/repos\",\"events_url\":\"https://api.github.com/users/mamezou-tech/events{/privacy}\",\"received_events_url\":\"https://api.github.com/users/mamezou-tech/received_events\",\"type\":\"Organization\",\"user_view_type\":\"public\",\"site_admin\":false},\"html_url\":\"https://github.com/mamezou-tech/mamezou-tech-site\",\"description\":null,\"fork\":false,\"url\":\"https://api.github.com/repos/mamezou-tech/mamezou-tech-site\",\"forks_url\":\"https://api.github.com/repos/mamezou-tech/mamezou-tech-site/forks\",\"keys_url\":\"https://api.github.com/repos/mamezou-tech/mamezou-tech-site/keys{/key_id}\",\"collaborators_url\":\"https://api.github.com/repos/mamezou-tech/mamezou-tech-site/collaborators{/collaborator}\",\"teams_url\":\"https://api.github.com/repos/mamezou-tech/mamezou-tech-site/teams\",\"hooks_url\":\"https://api.github.com/repos/mamezou-tech/mamezou-tech-site/hooks\",\"issue_events_url\":\"https://api.github.com/repos/mamezou-tech/mamezou-tech-site/issues/events{/number}\",\"events_url\":\"https://api.github.com/repos/mamezou-tech/mamezou-tech-site/events\",\"assignees_url\":\"https://api.github.com/repos/mamezou-tech/mamezou-tech-site/assignees{/user}\",\"branches_url\":\"https://api.github.com/repos/mamezou-tech/mamezou-tech-site/branches{/branch}\",\"tags_url\":\"https://api.github.com/repos/mamezou-tech/mamezou-tech-site/tags\",\"blobs_url\":\"https://api.github.com/repos/mamezou-tech/mamezou-tech-site/git/blobs{/sha}\",\"git_tags_url\":\"https://api.github.com/repos/mamezou-tech/mamezou-tech-site/git/tags{/sha}\",\"git_refs_url\":\"https://api.github.com/repos/mamezou-tech/mamezou-tech-site/git/refs{/sha}\",\"trees_url\":\"https://api.github.com/repos/mamezou-tech/mamezou-tech-site/git/trees{/sha}\",\"statuses_url\":\"https://api.github.com/repos/mamezou-tech/mamezou-tech-site/statuses/{sha}\",\"languages_url\":\"https://api.github.com/repos/mamezou-tech/mamezou-tech-site/languages\",\"stargazers_url\":\"https://api.github.com/repos/mamezou-tech/mamezou-tech-site/stargazers\",\"contributors_url\":\"https://api.github.com/repos/mamezou-tech/mamezou-tech-site/contributors\",\"subscribers_url\":\"https://api.github.com/repos/mamezou-tech/mamezou-tech-site/subscribers\",\"subscription_url\":\"https://api.github.com/repos/mamezou-tech/mamezou-tech-site/subscription\",\"commits_url\":\"https://api.github.com/repos/mamezou-tech/mamezou-tech-site/commits{/sha}\",\"git_commits_url\":\"https://api.github.com/repos/mamezou-tech/mamezou-tech-site/git/commits{/sha}\",\"comments_url\":\"https://api.github.com/repos/mamezou-tech/mamezou-tech-site/comments{/number}\",\"issue_comment_url\":\"https://api.github.com/repos/mamezou-tech/mamezou-tech-site/issues/comments{/number}\",\"contents_url\":\"https://api.github.com/repos/mamezou-tech/mamezou-tech-site/contents/{+path}\",\"compare_url\":\"https://api.github.com/repos/mamezou-tech/mamezou-tech-site/compare/{base}...{head}\",\"merges_url\":\"https://api.github.com/repos/mamezou-tech/mamezou-tech-site/merges\",\"archive_url\":\"https://api.github.com/repos/mamezou-tech/mamezou-tech-site/{archive_format}{/ref}\",\"downloads_url\":\"https://api.github.com/repos/mamezou-tech/mamezou-tech-site/downloads\",\"issues_url\":\"https://api.github.com/repos/mamezou-tech/mamezou-tech-site/issues{/number}\",\"pulls_url\":\"https://api.github.com/repos/mamezou-tech/mamezou-tech-site/pulls{/number}\",\"milestones_url\":\"https://api.github.com/repos/mamezou-tech/mamezou-tech-site/milestones{/number}\",\"notifications_url\":\"https://api.github.com/repos/mamezou-tech/mamezou-tech-site/notifications{?since,all,participating}\",\"labels_url\":\"https://api.github.com/repos/mamezou-tech/mamezou-tech-site/labels{/name}\",\"releases_url\":\"https://api.github.com/repos/mamezou-tech/mamezou-tech-site/releases{/id}\",\"deployments_url\":\"https://api.github.com/repos/mamezou-tech/mamezou-tech-site/deployments\",\"created_at\":\"2021-08-01T01:45:19Z\",\"updated_at\":\"2025-03-22T13:59:33Z\",\"pushed_at\":\"2025-03-23T03:14:42Z\",\"git_url\":\"git://github.com/mamezou-tech/mamezou-tech-site.git\",\"ssh_url\":\"git@github.com:mamezou-tech/mamezou-tech-site.git\",\"clone_url\":\"https://github.com/mamezou-tech/mamezou-tech-site.git\",\"svn_url\":\"https://github.com/mamezou-tech/mamezou-tech-site\",\"homepage\":\"\",\"size\":379734,\"stargazers_count\":8,\"watchers_count\":8,\"language\":\"TypeScript\",\"has_issues\":true,\"has_projects\":true,\"has_downloads\":true,\"has_wiki\":true,\"has_pages\":false,\"has_discussions\":true,\"forks_count\":1,\"mirror_url\":null,\"archived\":false,\"disabled\":false,\"open_issues_count\":4,\"license\":{\"key\":\"isc\",\"name\":\"ISC License\",\"spdx_id\":\"ISC\",\"url\":\"https://api.github.com/licenses/isc\",\"node_id\":\"MDc6TGljZW5zZTEw\"},\"allow_forking\":true,\"is_template\":false,\"web_commit_signoff_required\":false,\"topics\":[],\"visibility\":\"public\",\"forks\":1,\"open_issues\":4,\"watchers\":8,\"default_branch\":\"main\"}},\"_links\":{\"self\":{\"href\":\"https://api.github.com/repos/mamezou-tech/mamezou-tech-site/pulls/1768\"},\"html\":{\"href\":\"https://github.com/mamezou-tech/mamezou-tech-site/pull/1768\"},\"issue\":{\"href\":\"https://api.github.com/repos/mamezou-tech/mamezou-tech-site/issues/1768\"},\"comments\":{\"href\":\"https://api.github.com/repos/mamezou-tech/mamezou-tech-site/issues/1768/comments\"},\"review_comments\":{\"href\":\"https://api.github.com/repos/mamezou-tech/mamezou-tech-site/pulls/1768/comments\"},\"review_comment\":{\"href\":\"https://api.github.com/repos/mamezou-tech/mamezou-tech-site/pulls/comments{/number}\"},\"commits\":{\"href\":\"https://api.github.com/repos/mamezou-tech/mamezou-tech-site/pulls/1768/commits\"},\"statuses\":{\"href\":\"https://api.github.com/repos/mamezou-tech/mamezou-tech-site/statuses/af2237279813bcfd6124dfc1a7a3ecec9a7d5366\"}},\"author_association\":\"CONTRIBUTOR\",\"auto_merge\":null,\"active_lock_reason\":null,\"merged\":false,\"mergeable\":true,\"rebaseable\":true,\"mergeable_state\":\"clean\",\"merged_by\":null,\"comments\":0,\"review_comments\":0,\"maintainer_can_modify\":false,\"commits\":1,\"additions\":6,\"deletions\":6,\"changed_files\":1}},\"public\":true,\"created_at\":\"2025-03-23T03:14:44Z\",\"org\":{\"id\":59987541,\"login\":\"mamezou-tech\",\"gravatar_id\":\"\",\"url\":\"https://api.github.com/orgs/mamezou-tech\",\"avatar_url\":\"https://avatars.githubusercontent.com/u/59987541?\"}},{\"id\":\"47858636417\",\"type\":\"PushEvent\",\"actor\":{\"id\":76443273,\"login\":\"RayhanZuck\",\"display_login\":\"RayhanZuck\",\"gravatar_id\":\"\",\"url\":\"https://api.github.com/users/RayhanZuck\",\"avatar_url\":\"https://avatars.githubusercontent.com/u/76443273?\"},\"repo\":{\"id\":932333029,\"name\":\"RayhanZuck/autogreen\",\"url\":\"https://api.github.com/repos/RayhanZuck/autogreen\"},\"payload\":{\"repository_id\":932333029,\"push_id\":23326566611,\"size\":1,\"distinct_size\":1,\"ref\":\"refs/heads/main\",\"head\":\"dee91dd2e92c15a9ce7040118e5bd3423e69ac7a\",\"before\":\"ec8be64a4ed763838fba4ab6a9874abd45f8c888\",\"commits\":[{\"sha\":\"dee91dd2e92c15a9ce7040118e5bd3423e69ac7a\",\"author\":{\"email\":\"muhammadrayhan2727@gmail.com\",\"name\":\"RayhanZuck\"},\"message\":\"Auto commit 239976\",\"distinct\":true,\"url\":\"https://api.github.com/repos/RayhanZuck/autogreen/commits/dee91dd2e92c15a9ce7040118e5bd3423e69ac7a\"}]},\"public\":true,\"created_at\":\"2025-03-23T03:14:44Z\"},{\"id\":\"47858636421\",\"type\":\"PushEvent\",\"actor\":{\"id\":41898282,\"login\":\"github-actions[bot]\",\"display_login\":\"github-actions\",\"gravatar_id\":\"\",\"url\":\"https://api.github.com/users/github-actions[bot]\",\"avatar_url\":\"https://avatars.githubusercontent.com/u/41898282?\"},\"repo\":{\"id\":306138015,\"name\":\"hu553in/hu553in\",\"url\":\"https://api.github.com/repos/hu553in/hu553in\"},\"payload\":{\"repository_id\":306138015,\"push_id\":23326566599,\"size\":1,\"distinct_size\":1,\"ref\":\"refs/heads/output\",\"head\":\"623ecbce55cad32a75af8b271ba8df910994982e\",\"before\":\"c3e3e101c8537c90b0c66b7b156ee02aad521661\",\"commits\":[{\"sha\":\"623ecbce55cad32a75af8b271ba8df910994982e\",\"author\":{\"email\":\"41898282+github-actions[bot]@users.noreply.github.com\",\"name\":\"github-actions[bot]\"},\"message\":\"Deploy to GitHub pages\",\"distinct\":true,\"url\":\"https://api.github.com/repos/hu553in/hu553in/commits/623ecbce55cad32a75af8b271ba8df910994982e\"}]},\"public\":true,\"created_at\":\"2025-03-23T03:14:44Z\"},{\"id\":\"47858636420\",\"type\":\"PushEvent\",\"actor\":{\"id\":41898282,\"login\":\"github-actions[bot]\",\"display_login\":\"github-actions\",\"gravatar_id\":\"\",\"url\":\"https://api.github.com/users/github-actions[bot]\",\"avatar_url\":\"https://avatars.githubusercontent.com/u/41898282?\"},\"repo\":{\"id\":284116918,\"name\":\"weilueluo/weilueluo\",\"url\":\"https://api.github.com/repos/weilueluo/weilueluo\"},\"payload\":{\"repository_id\":284116918,\"push_id\":23326566581,\"size\":1,\"distinct_size\":1,\"ref\":\"refs/heads/master\",\"head\":\"2a5c76b06cd231d593f5bd6b8a43755e1395d35e\",\"before\":\"6929f109d79e183e69c8a95914a627cbb9ebb37f\",\"commits\":[{\"sha\":\"2a5c76b06cd231d593f5bd6b8a43755e1395d35e\",\"author\":{\"email\":\"41898282+github-actions[bot]@users.noreply.github.com\",\"name\":\"github-actions[bot]\"},\"message\":\"Update github-metrics.svg - [Skip GitHub Action]\",\"distinct\":true,\"url\":\"https://api.github.com/repos/weilueluo/weilueluo/commits/2a5c76b06cd231d593f5bd6b8a43755e1395d35e\"}]},\"public\":true,\"created_at\":\"2025-03-23T03:14:44Z\"},{\"id\":\"47858636426\",\"type\":\"CreateEvent\",\"actor\":{\"id\":41898282,\"login\":\"github-actions[bot]\",\"display_login\":\"github-actions\",\"gravatar_id\":\"\",\"url\":\"https://api.github.com/users/github-actions[bot]\",\"avatar_url\":\"https://avatars.githubusercontent.com/u/41898282?\"},\"repo\":{\"id\":369450645,\"name\":\"ramasofficial/lang\",\"url\":\"https://api.github.com/repos/ramasofficial/lang\"},\"payload\":{\"ref\":\"projects/translate-mfnyrwy\",\"ref_type\":\"branch\",\"master_branch\":\"master\",\"description\":\"List of 77 languages for Laravel Framework 4, 5, 6, 7 and 8,  Laravel Jetstream , Laravel Fortify, Laravel Cashier, Laravel Nova and Laravel Spark.\",\"pusher_type\":\"user\"},\"public\":true,\"created_at\":\"2025-03-23T03:14:44Z\"},{\"id\":\"47858636410\",\"type\":\"PushEvent\",\"actor\":{\"id\":180065393,\"login\":\"WarrenAndTheTwins\",\"display_login\":\"WarrenAndTheTwins\",\"gravatar_id\":\"\",\"url\":\"https://api.github.com/users/WarrenAndTheTwins\",\"avatar_url\":\"https://avatars.githubusercontent.com/u/180065393?\"},\"repo\":{\"id\":915514176,\"name\":\"WarrenAndTheTwins/Warren-CT07-Sunday-11-am\",\"url\":\"https://api.github.com/repos/WarrenAndTheTwins/Warren-CT07-Sunday-11-am\"},\"payload\":{\"repository_id\":915514176,\"push_id\":23326566597,\"size\":1,\"distinct_size\":1,\"ref\":\"refs/heads/main\",\"head\":\"dd9f101375f1b632bedb942cf7ea3487f390c821\",\"before\":\"30425adbfb2cd9bc9e7b5b677fd0ce23ba76a09d\",\"commits\":[{\"sha\":\"dd9f101375f1b632bedb942cf7ea3487f390c821\",\"author\":{\"email\":\"warrenasks@gmail.com\",\"name\":\"WarrenAndTheTwins\"},\"message\":\"Mar 23, 2025, 3:14 AM\",\"distinct\":true,\"url\":\"https://api.github.com/repos/WarrenAndTheTwins/Warren-CT07-Sunday-11-am/commits/dd9f101375f1b632bedb942cf7ea3487f390c821\"}]},\"public\":true,\"created_at\":\"2025-03-23T03:14:44Z\"},{\"id\":\"47858636405\",\"type\":\"PushEvent\",\"actor\":{\"id\":142493812,\"login\":\"shanabbasi916\",\"display_login\":\"shanabbasi916\",\"gravatar_id\":\"\",\"url\":\"https://api.github.com/users/shanabbasi916\",\"avatar_url\":\"https://avatars.githubusercontent.com/u/142493812?\"},\"repo\":{\"id\":929657434,\"name\":\"shanabbasi916/About-Miguel\",\"url\":\"https://api.github.com/repos/shanabbasi916/About-Miguel\"},\"payload\":{\"repository_id\":929657434,\"push_id\":23326566610,\"size\":1,\"distinct_size\":1,\"ref\":\"refs/heads/main\",\"head\":\"9fe4b1097882d8e79a000ba80b747be99cb02816\",\"before\":\"c7b24a23b7c52e495dfccaa719c222b54aa39d1e\",\"commits\":[{\"sha\":\"9fe4b1097882d8e79a000ba80b747be99cb02816\",\"author\":{\"email\":\"142493812+shanabbasi916@users.noreply.github.com\",\"name\":\"shanabbasi916\"},\"message\":\"Commit\",\"distinct\":true,\"url\":\"https://api.github.com/repos/shanabbasi916/About-Miguel/commits/9fe4b1097882d8e79a000ba80b747be99cb02816\"}]},\"public\":true,\"created_at\":\"2025-03-23T03:14:44Z\"},{\"id\":\"47858636408\",\"type\":\"PushEvent\",\"actor\":{\"id\":145606345,\"login\":\"kayoudan\",\"display_login\":\"kayoudan\",\"gravatar_id\":\"\",\"url\":\"https://api.github.com/users/kayoudan\",\"avatar_url\":\"https://avatars.githubusercontent.com/u/145606345?\"},\"repo\":{\"id\":929711039,\"name\":\"kayoudan/Exploring-Flipkart-Categories-Data\",\"url\":\"https://api.github.com/repos/kayoudan/Exploring-Flipkart-Categories-Data\"},\"payload\":{\"repository_id\":929711039,\"push_id\":23326566606,\"size\":1,\"distinct_size\":1,\"ref\":\"refs/heads/main\",\"head\":\"3b21c69ad1396e4038943cc109ff5d3e9c4c2df3\",\"before\":\"295e253607e6056e07f149a65ac6b67fc6c68b47\",\"commits\":[{\"sha\":\"3b21c69ad1396e4038943cc109ff5d3e9c4c2df3\",\"author\":{\"email\":\"145606345+kayoudan@users.noreply.github.com\",\"name\":\"kayoudan\"},\"message\":\"Commit\",\"distinct\":true,\"url\":\"https://api.github.com/repos/kayoudan/Exploring-Flipkart-Categories-Data/commits/3b21c69ad1396e4038943cc109ff5d3e9c4c2df3\"}]},\"public\":true,\"created_at\":\"2025-03-23T03:14:44Z\"},{\"id\":\"47858636413\",\"type\":\"CreateEvent\",\"actor\":{\"id\":41898282,\"login\":\"github-actions[bot]\",\"display_login\":\"github-actions\",\"gravatar_id\":\"\",\"url\":\"https://api.github.com/users/github-actions[bot]\",\"avatar_url\":\"https://avatars.githubusercontent.com/u/41898282?\"},\"repo\":{\"id\":689628609,\"name\":\"mumei-xxxx/bun\",\"url\":\"https://api.github.com/repos/mumei-xxxx/bun\"},\"payload\":{\"ref\":\"deps/update-libarchive-11\",\"ref_type\":\"branch\",\"master_branch\":\"main\",\"description\":\"Incredibly fast JavaScript runtime, bundler, test runner, and package manager – all in one\",\"pusher_type\":\"user\"},\"public\":true,\"created_at\":\"2025-03-23T03:14:44Z\"},{\"id\":\"47858636400\",\"type\":\"PushEvent\",\"actor\":{\"id\":150993376,\"login\":\"loganivetha\",\"display_login\":\"loganivetha\",\"gravatar_id\":\"\",\"url\":\"https://api.github.com/users/loganivetha\",\"avatar_url\":\"https://avatars.githubusercontent.com/u/150993376?\"},\"repo\":{\"id\":929706327,\"name\":\"loganivetha/Virtual-DJ-Pro-Free\",\"url\":\"https://api.github.com/repos/loganivetha/Virtual-DJ-Pro-Free\"},\"payload\":{\"repository_id\":929706327,\"push_id\":23326566612,\"size\":1,\"distinct_size\":1,\"ref\":\"refs/heads/main\",\"head\":\"13cf6008c7ea00931fe840e39ed2fb2ba8bf48b0\",\"before\":\"65fb4c2d0a03e7e51b1a2a90f205c660d4ec8e5f\",\"commits\":[{\"sha\":\"13cf6008c7ea00931fe840e39ed2fb2ba8bf48b0\",\"author\":{\"email\":\"150993376+loganivetha@users.noreply.github.com\",\"name\":\"loganivetha\"},\"message\":\"Commit\",\"distinct\":true,\"url\":\"https://api.github.com/repos/loganivetha/Virtual-DJ-Pro-Free/commits/13cf6008c7ea00931fe840e39ed2fb2ba8bf48b0\"}]},\"public\":true,\"created_at\":\"2025-03-23T03:14:44Z\"}]\n",
      " </body>\n",
      "</html>\n",
      "\n"
     ]
    }
   ],
   "source": [
    "# Embelezando um retorno com bs4\n",
    "response = re.get('https://api.github.com/events')\n",
    "soup = bs4(response.text, 'lxml')\n",
    "print(f\"{'-' * 20} Html bonitinho {'-' * 20}\\n\")\n",
    "print(soup.prettify())"
   ]
  },
  {
   "cell_type": "code",
   "execution_count": 55,
   "metadata": {},
   "outputs": [
    {
     "name": "stdout",
     "output_type": "stream",
     "text": [
      "-------------------- url e encoding utf-8 --------------------\n",
      "\n",
      "https://httpbin.org/get?key01=value01&key02=value02&key03=value03&key03=value04\n",
      "utf-8\n"
     ]
    },
    {
     "name": "stderr",
     "output_type": "stream",
     "text": [
      "c:\\Users\\carle\\AppData\\Local\\Programs\\Python\\Python313\\Lib\\site-packages\\urllib3\\connectionpool.py:1097: InsecureRequestWarning: Unverified HTTPS request is being made to host 'httpbin.org'. Adding certificate verification is strongly advised. See: https://urllib3.readthedocs.io/en/latest/advanced-usage.html#tls-warnings\n",
      "  warnings.warn(\n"
     ]
    }
   ],
   "source": [
    "# Passando os keys e values na url, pra filtrar ou coisa parecida\n",
    "dados01 = {\"key01\": \"value01\", \"key02\": \"value02\", \"key03\": [\"value03\", \"value04\"]}\n",
    "r = re.get('https://httpbin.org/get', verify=False, params=dados01)\n",
    "print(f\"{'-' * 20} url e encoding utf-8 {'-' * 20}\\n\")\n",
    "print(r.url)\n",
    "print(r.encoding)"
   ]
  },
  {
   "cell_type": "code",
   "execution_count": 56,
   "metadata": {},
   "outputs": [
    {
     "name": "stdout",
     "output_type": "stream",
     "text": [
      "-------------------- Dados do metodo post --------------------\n",
      "\n",
      "{\n",
      "  \"args\": {}, \n",
      "  \"data\": \"\", \n",
      "  \"files\": {}, \n",
      "  \"form\": {\n",
      "    \"key01\": \"value01\", \n",
      "    \"key02\": \"value02\", \n",
      "    \"key03\": \"value03\"\n",
      "  }, \n",
      "  \"headers\": {\n",
      "    \"Accept\": \"*/*\", \n",
      "    \"Accept-Encoding\": \"gzip, deflate\", \n",
      "    \"Content-Length\": \"41\", \n",
      "    \"Content-Type\": \"application/x-www-form-urlencoded\", \n",
      "    \"Host\": \"httpbin.org\", \n",
      "    \"User-Agent\": \"python-requests/2.32.3\", \n",
      "    \"X-Amzn-Trace-Id\": \"Root=1-67df7dd3-2d8eaea74d0406f21e262075\"\n",
      "  }, \n",
      "  \"json\": null, \n",
      "  \"origin\": \"179.130.32.0\", \n",
      "  \"url\": \"https://httpbin.org/post\"\n",
      "}\n",
      "\n"
     ]
    },
    {
     "name": "stderr",
     "output_type": "stream",
     "text": [
      "c:\\Users\\carle\\AppData\\Local\\Programs\\Python\\Python313\\Lib\\site-packages\\urllib3\\connectionpool.py:1097: InsecureRequestWarning: Unverified HTTPS request is being made to host 'httpbin.org'. Adding certificate verification is strongly advised. See: https://urllib3.readthedocs.io/en/latest/advanced-usage.html#tls-warnings\n",
      "  warnings.warn(\n"
     ]
    }
   ],
   "source": [
    "# brincando com os dicionários e as tuplas que serão enviadas como dados no metodo post\n",
    "# Normalzão\n",
    "dict_normais = {\"Key01\":\"Value01\", \"Key02\":\"Value02\"}\n",
    "dict_and_list = {\"key01\": ['value01', 'value02']}\n",
    "tuples = [(\"key01\", \"value01\"), (\"key02\", \"value02\"), (\"key03\", \"value03\")]\n",
    "r = re.post('https://httpbin.org/post', verify=False, data=tuples)\n",
    "print(f\"{'-' * 20} Dados do metodo post {'-' * 20}\\n\")\n",
    "print(r.text)"
   ]
  },
  {
   "cell_type": "code",
   "execution_count": 57,
   "metadata": {},
   "outputs": [
    {
     "name": "stderr",
     "output_type": "stream",
     "text": [
      "c:\\Users\\carle\\AppData\\Local\\Programs\\Python\\Python313\\Lib\\site-packages\\urllib3\\connectionpool.py:1097: InsecureRequestWarning: Unverified HTTPS request is being made to host 'httpbin.org'. Adding certificate verification is strongly advised. See: https://urllib3.readthedocs.io/en/latest/advanced-usage.html#tls-warnings\n",
      "  warnings.warn(\n"
     ]
    },
    {
     "name": "stdout",
     "output_type": "stream",
     "text": [
      "JSON salvo com sucesso!\n"
     ]
    },
    {
     "name": "stderr",
     "output_type": "stream",
     "text": [
      "c:\\Users\\carle\\AppData\\Local\\Programs\\Python\\Python313\\Lib\\site-packages\\urllib3\\connectionpool.py:1097: InsecureRequestWarning: Unverified HTTPS request is being made to host 'httpbin.org'. Adding certificate verification is strongly advised. See: https://urllib3.readthedocs.io/en/latest/advanced-usage.html#tls-warnings\n",
      "  warnings.warn(\n"
     ]
    },
    {
     "name": "stdout",
     "output_type": "stream",
     "text": [
      "Texto salvo com sucesso!\n",
      "HTML salvo com sucesso!\n"
     ]
    },
    {
     "name": "stderr",
     "output_type": "stream",
     "text": [
      "c:\\Users\\carle\\AppData\\Local\\Programs\\Python\\Python313\\Lib\\site-packages\\urllib3\\connectionpool.py:1097: InsecureRequestWarning: Unverified HTTPS request is being made to host 'httpbin.org'. Adding certificate verification is strongly advised. See: https://urllib3.readthedocs.io/en/latest/advanced-usage.html#tls-warnings\n",
      "  warnings.warn(\n"
     ]
    },
    {
     "name": "stdout",
     "output_type": "stream",
     "text": [
      "Gzip salvo com sucesso!\n"
     ]
    },
    {
     "name": "stderr",
     "output_type": "stream",
     "text": [
      "c:\\Users\\carle\\AppData\\Local\\Programs\\Python\\Python313\\Lib\\site-packages\\urllib3\\connectionpool.py:1097: InsecureRequestWarning: Unverified HTTPS request is being made to host 'httpbin.org'. Adding certificate verification is strongly advised. See: https://urllib3.readthedocs.io/en/latest/advanced-usage.html#tls-warnings\n",
      "  warnings.warn(\n"
     ]
    },
    {
     "name": "stdout",
     "output_type": "stream",
     "text": [
      "Xml salvo com sucesso!\n"
     ]
    },
    {
     "name": "stderr",
     "output_type": "stream",
     "text": [
      "c:\\Users\\carle\\AppData\\Local\\Programs\\Python\\Python313\\Lib\\site-packages\\urllib3\\connectionpool.py:1097: InsecureRequestWarning: Unverified HTTPS request is being made to host 'httpbin.org'. Adding certificate verification is strongly advised. See: https://urllib3.readthedocs.io/en/latest/advanced-usage.html#tls-warnings\n",
      "  warnings.warn(\n"
     ]
    },
    {
     "name": "stdout",
     "output_type": "stream",
     "text": [
      "Deflate salvo com sucesso!\n"
     ]
    },
    {
     "name": "stderr",
     "output_type": "stream",
     "text": [
      "c:\\Users\\carle\\AppData\\Local\\Programs\\Python\\Python313\\Lib\\site-packages\\urllib3\\connectionpool.py:1097: InsecureRequestWarning: Unverified HTTPS request is being made to host 'httpbin.org'. Adding certificate verification is strongly advised. See: https://urllib3.readthedocs.io/en/latest/advanced-usage.html#tls-warnings\n",
      "  warnings.warn(\n"
     ]
    },
    {
     "name": "stdout",
     "output_type": "stream",
     "text": [
      "Deny salvo com sucesso!\n"
     ]
    },
    {
     "name": "stderr",
     "output_type": "stream",
     "text": [
      "c:\\Users\\carle\\AppData\\Local\\Programs\\Python\\Python313\\Lib\\site-packages\\urllib3\\connectionpool.py:1097: InsecureRequestWarning: Unverified HTTPS request is being made to host 'httpbin.org'. Adding certificate verification is strongly advised. See: https://urllib3.readthedocs.io/en/latest/advanced-usage.html#tls-warnings\n",
      "  warnings.warn(\n"
     ]
    },
    {
     "name": "stdout",
     "output_type": "stream",
     "text": [
      "Encode salvo com sucesso!\n"
     ]
    }
   ],
   "source": [
    "# Baixando retornos\n",
    "\n",
    "# # *JSON\n",
    "url_json = 'https://httpbin.org/json'  \n",
    "response_json = re.get(url_json, verify=False)\n",
    "# Salvar o JSON em um arquivo\n",
    "with open(\"dados.json\", \"w\", encoding=\"utf-8\") as file:\n",
    "    json.dump(response_json.json(), file, indent=4, ensure_ascii=False)\n",
    "print(\"JSON salvo com sucesso!\")\n",
    "\n",
    "# # *TEXT\n",
    "txt = 'https://httpbin.org/robots.txt'\n",
    "response_txt = re.get(txt, verify=False)\n",
    "with open(\"dados_de_texto.txt\", \"w\", encoding=\"utf-8\") as file:\n",
    "    file.write(response_txt.text)\n",
    "print(\"Texto salvo com sucesso!\")\n",
    "\n",
    "# *HTML\n",
    "html = 'https://httpbin.org/html'\n",
    "response_html = re.get(html)\n",
    "with open(\"dados_html.html\", \"w\", encoding=\"utf-8\") as file:\n",
    "    file.write(response_html.text)\n",
    "print(\"HTML salvo com sucesso!\")\n",
    "\n",
    "# # *GZIP\n",
    "gzip = 'https://httpbin.org/gzip'\n",
    "response_gzip = re.get(gzip, verify=False)\n",
    "with open(\"dados_gzip.gz\", \"w\", encoding=\"utf-8\") as file:\n",
    "    file.write(response_gzip.text)\n",
    "print(\"Gzip salvo com sucesso!\")\n",
    "\n",
    "# # *XML\n",
    "xml = 'https://httpbin.org/xml'\n",
    "response_xml = re.get(xml, verify=False)\n",
    "with open(\"dados_xml.xml\", \"w\", encoding=\"utf-8\") as file:\n",
    "    file.write(response_xml.text)\n",
    "print(\"Xml salvo com sucesso!\")\n",
    "\n",
    "# # *BROTLI\n",
    "# brotli = 'https://httpbin.org/brotli'\n",
    "# response_brotli = re.get(brotli, verify=False)\n",
    "# with open(\"dados_brotli.txt\", \"w\", encoding=\"utf-8\") as file:\n",
    "#     file.write(response_brotli.text)\n",
    "# print(\"Brotli salvo com sucesso!\")\n",
    "\n",
    "# # *DEFLATE\n",
    "deflate = 'https://httpbin.org/deflate'\n",
    "response_deflate = re.get(deflate, verify=False)\n",
    "with open(\"dados_deflate.txt\", \"w\", encoding=\"utf-8\") as file:\n",
    "    file.write(response_deflate.text)\n",
    "print(\"Deflate salvo com sucesso!\")\n",
    "\n",
    "# # *DENY\n",
    "deny = 'https://httpbin.org/deny'\n",
    "response_deny = re.get(deny, verify=False)\n",
    "with open(\"dados_deny.txt\", \"w\", encoding=\"utf-8\") as file:\n",
    "    file.write(response_deny.text)\n",
    "print(\"Deny salvo com sucesso!\")\n",
    "\n",
    "# *ENCODE\n",
    "encode = 'https://httpbin.org/encoding/utf8'\n",
    "response_encode = re.get(encode, verify=False)\n",
    "with open(\"dados_encode.txt\", \"w\", encoding=\"utf-8\") as file:\n",
    "    file.write(response_encode.text)\n",
    "print(\"Encode salvo com sucesso!\")\n"
   ]
  },
  {
   "cell_type": "markdown",
   "metadata": {},
   "source": [
    "# **Advantage part**"
   ]
  },
  {
   "cell_type": "code",
   "execution_count": 58,
   "metadata": {},
   "outputs": [
    {
     "name": "stderr",
     "output_type": "stream",
     "text": [
      "c:\\Users\\carle\\AppData\\Local\\Programs\\Python\\Python313\\Lib\\site-packages\\urllib3\\connectionpool.py:1097: InsecureRequestWarning: Unverified HTTPS request is being made to host 'httpbin.org'. Adding certificate verification is strongly advised. See: https://urllib3.readthedocs.io/en/latest/advanced-usage.html#tls-warnings\n",
      "  warnings.warn(\n",
      "c:\\Users\\carle\\AppData\\Local\\Programs\\Python\\Python313\\Lib\\site-packages\\urllib3\\connectionpool.py:1097: InsecureRequestWarning: Unverified HTTPS request is being made to host 'httpbin.org'. Adding certificate verification is strongly advised. See: https://urllib3.readthedocs.io/en/latest/advanced-usage.html#tls-warnings\n",
      "  warnings.warn(\n",
      "c:\\Users\\carle\\AppData\\Local\\Programs\\Python\\Python313\\Lib\\site-packages\\urllib3\\connectionpool.py:1097: InsecureRequestWarning: Unverified HTTPS request is being made to host 'httpbin.org'. Adding certificate verification is strongly advised. See: https://urllib3.readthedocs.io/en/latest/advanced-usage.html#tls-warnings\n",
      "  warnings.warn(\n"
     ]
    },
    {
     "name": "stdout",
     "output_type": "stream",
     "text": [
      "{\n",
      "  \"cookies\": {\n",
      "    \"sessioncookie\": \"123456789\"\n",
      "  }\n",
      "}\n",
      "\n"
     ]
    }
   ],
   "source": [
    "# cookies\n",
    "s = re.Session()\n",
    "s.get('https://httpbin.org/cookies/set/sessioncookie/123456789', verify=False)\n",
    "r = s.get('https://httpbin.org/cookies', verify=False)\n",
    "print(r.text)\n"
   ]
  }
 ],
 "metadata": {
  "kernelspec": {
   "display_name": "Python 3",
   "language": "python",
   "name": "python3"
  },
  "language_info": {
   "codemirror_mode": {
    "name": "ipython",
    "version": 3
   },
   "file_extension": ".py",
   "mimetype": "text/x-python",
   "name": "python",
   "nbconvert_exporter": "python",
   "pygments_lexer": "ipython3",
   "version": "3.13.2"
  }
 },
 "nbformat": 4,
 "nbformat_minor": 2
}
