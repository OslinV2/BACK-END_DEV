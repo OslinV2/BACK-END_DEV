{
 "cells": [
  {
   "cell_type": "markdown",
   "metadata": {},
   "source": [
    "1. **Selenium Web Form** → [https://www.selenium.dev/selenium/web/web-form.html](https://www.selenium.dev/selenium/web/web-form.html)  \n",
    "2. **The Internet (Elementos dinâmicos, login, dropdowns, pop-ups, etc.)** → [https://the-internet.herokuapp.com/](https://the-internet.herokuapp.com/)  \n",
    "3. **UI Playground (Testes de interface, login, botões, etc.)** → [https://www.saucedemo.com/](https://www.saucedemo.com/)  \n",
    "4. **Test Pages (Alerta, botões, modais, iframes, formulários)** → [https://testpages.herokuapp.com/](https://testpages.herokuapp.com/)  \n",
    "5. **Automation Practice (E-commerce fictício para testes)** → [http://automationpractice.com/](http://automationpractice.com/)  \n",
    "\n",
    "### 🎯 **Formulários e Inputs**  \n",
    "6. **DemoQA (Botões, forms, caixas de seleção, interações)** → [https://demoqa.com/](https://demoqa.com/)  \n",
    "7. **UI Testing Playground (Inputs, botões, eventos dinâmicos)** → [https://www.uitestingplayground.com/](https://www.uitestingplayground.com/)  \n",
    "8. **Web Automation PlayGround** → [https://www.webdriveruniversity.com/](https://www.webdriveruniversity.com/)  \n",
    "\n",
    "### 🛒 **Testes em E-commerce**  \n",
    "9. **OpenCart Demo (Adicionar/remover itens do carrinho, login, checkout)** → [https://demo.opencart.com/](https://demo.opencart.com/)  \n",
    "10. **Magento Test Site** → [https://magento.softwaretestingboard.com/](https://magento.softwaretestingboard.com/)  \n",
    "\n",
    "### 🔍 **Sites para Testar Web Scraping e Paginação**  \n",
    "11. **Books to Scrape (Loja fictícia de livros, ótimo para scrapers)** → [http://books.toscrape.com/](http://books.toscrape.com/)  \n",
    "12. **Quotes to Scrape (Paginação e capturas de texto)** → [http://quotes.toscrape.com/](http://quotes.toscrape.com/)  \n",
    "\n",
    "### 💬 **Sites para Testar Captchas, Login e Segurança**  \n",
    "13. **Fake Online Login (Formulários de login fake)** → [https://the-internet.herokuapp.com/login](https://the-internet.herokuapp.com/login)  \n",
    "14. **ReCaptcha Demo (Testar bypass de CAPTCHA com automação)** → [https://www.google.com/recaptcha/api2/demo](https://www.google.com/recaptcha/api2/demo)  "
   ]
  },
  {
   "cell_type": "code",
   "execution_count": 18,
   "metadata": {},
   "outputs": [
    {
     "name": "stdout",
     "output_type": "stream",
     "text": [
      "<selenium.webdriver.remote.webelement.WebElement (session=\"dbf7a2c1f55be28de6a529afc70a6d65\", element=\"f.12FC0A8E1C13DCC866D5A1FADF826083.d.ECB0F71F0D072EDFCBDFEE75BE140003.e.9\")> \n",
      " <selenium.webdriver.remote.webelement.WebElement (session=\"dbf7a2c1f55be28de6a529afc70a6d65\", element=\"f.12FC0A8E1C13DCC866D5A1FADF826083.d.ECB0F71F0D072EDFCBDFEE75BE140003.e.21\")>\n"
     ]
    }
   ],
   "source": [
    "from selenium import webdriver\n",
    "from selenium.webdriver.common.by import By\n",
    "\n",
    "driver = webdriver.Edge()\n",
    "driver.get('https://www.selenium.dev/selenium/web/web-form.html')\n",
    "\n",
    "driver.implicitly_wait(0.5)\n",
    "text_box = driver.find_element(by=By.NAME, value='my-text')\n",
    "subm_btn = driver.find_element(by=By.CSS_SELECTOR, value='button')\n",
    "# driver.close()\n",
    "text_box.send_keys(\"Hello, World!!\")\n",
    "subm_btn.click()\n",
    "print(text_box, '\\n',subm_btn)"
   ]
  },
  {
   "cell_type": "code",
   "execution_count": null,
   "metadata": {},
   "outputs": [],
   "source": []
  }
 ],
 "metadata": {
  "kernelspec": {
   "display_name": "Python 3",
   "language": "python",
   "name": "python3"
  },
  "language_info": {
   "codemirror_mode": {
    "name": "ipython",
    "version": 3
   },
   "file_extension": ".py",
   "mimetype": "text/x-python",
   "name": "python",
   "nbconvert_exporter": "python",
   "pygments_lexer": "ipython3",
   "version": "3.13.2"
  }
 },
 "nbformat": 4,
 "nbformat_minor": 2
}
