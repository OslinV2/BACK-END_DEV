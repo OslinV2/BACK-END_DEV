{
 "cells": [
  {
   "cell_type": "markdown",
   "metadata": {},
   "source": [
    "\n",
    "#### [Exercicio 001](exercicios/001.py)\n",
    "\n",
    "Faça um Programa que printa um \"Alo, Mundo!\", na tela.\n"
   ]
  },
  {
   "cell_type": "code",
   "execution_count": 24,
   "metadata": {},
   "outputs": [
    {
     "name": "stdout",
     "output_type": "stream",
     "text": [
      "Alo, Mundo!\n"
     ]
    }
   ],
   "source": [
    "print('Alo, Mundo!')"
   ]
  },
  {
   "cell_type": "markdown",
   "metadata": {
    "notebookRunGroups": {
     "groupValue": "1"
    }
   },
   "source": [
    "#### [Exercicio 002](exercicios/002.py)\n",
    "\n",
    "Faça um Programa que peça um número e então mostre a mensagem O número\n",
    "informado foi [número]."
   ]
  },
  {
   "cell_type": "code",
   "execution_count": 23,
   "metadata": {},
   "outputs": [
    {
     "name": "stdout",
     "output_type": "stream",
     "text": [
      "O informado foi 22\n"
     ]
    }
   ],
   "source": [
    "\n",
    "n = input('Digite um valor: ')\n",
    "print(f'O informado foi {n}')"
   ]
  },
  {
   "cell_type": "markdown",
   "metadata": {},
   "source": [
    "\n",
    "#### [Exercicio 003](exercicios/003.py)\n",
    "\n",
    "Faça um Programa que peça dois números e imprima a soma.\n"
   ]
  },
  {
   "cell_type": "code",
   "execution_count": 22,
   "metadata": {},
   "outputs": [
    {
     "name": "stdout",
     "output_type": "stream",
     "text": [
      "A soma entre 22.0 e 45.0 é 67\n"
     ]
    }
   ],
   "source": [
    "n1 = float(input('Digite o 1° valor: '))\n",
    "n2 = float(input('Digite o 2° valor: '))\n",
    "print(f\"A soma entre {n1} e {n2} é {round(n1 + n2)}\")"
   ]
  },
  {
   "cell_type": "markdown",
   "metadata": {},
   "source": [
    "#### [Exercicio 004](exercicios/004.py)\n",
    "\n",
    "Faça um Programa que peça as 4 notas bimestrais e mostre a média.\n"
   ]
  },
  {
   "cell_type": "code",
   "execution_count": null,
   "metadata": {},
   "outputs": [
    {
     "name": "stdout",
     "output_type": "stream",
     "text": [
      "A média entre as 3 notas é 6.5\n"
     ]
    }
   ],
   "source": [
    "n1 = float(input('Digite o 1° nota: '))\n",
    "n2 = float(input('Digite o 2° nota: '))\n",
    "n3 = float(input('Digite o 3° nota: '))\n",
    "n4 = float(input('Digite o 4° nota: '))\n",
    "media = (n1 + n2 + n3 + n4) / 4\n",
    "print(f'A média entre as 4 notas é {media}')"
   ]
  },
  {
   "cell_type": "markdown",
   "id": "e1768420",
   "metadata": {},
   "source": [
    "#### [Exercicio 005](exercicios/005.py)\n",
    "\n",
    "Faça um Programa que converta metros para centímetros.\n",
    "\n"
   ]
  },
  {
   "cell_type": "code",
   "execution_count": 2,
   "metadata": {},
   "outputs": [
    {
     "name": "stdout",
     "output_type": "stream",
     "text": [
      "200.0 equivale a 20000\n"
     ]
    }
   ],
   "source": [
    "metros = float(input('Digite o valor em metros: '))\n",
    "centimetros = round(metros * 100)\n",
    "print(f\"{metros} equivale a {centimetros}\")"
   ]
  },
  {
   "cell_type": "markdown",
   "id": "4af6620a",
   "metadata": {},
   "source": [
    "#### [Exercicio 006](exercicios/006.py)\n",
    "\n",
    "Faça um Programa que peça o raio de um círculo, calcule e mostre sua área.\n",
    "\n"
   ]
  },
  {
   "cell_type": "code",
   "execution_count": null,
   "metadata": {},
   "outputs": [
    {
     "name": "stdout",
     "output_type": "stream",
     "text": [
      "A área é 28.27 unidades².\n"
     ]
    }
   ],
   "source": [
    "import math\n",
    "raio = float(input('Digite o raio do circulo: '))\n",
    "area = math.pi * raio ** 2\n",
    "print(f'A área de {raio} raios do circulo é {area:.2f} unidades².')"
   ]
  },
  {
   "cell_type": "markdown",
   "id": "4a0c6a3e",
   "metadata": {},
   "source": [
    "#### [Exercicio 007](exercicios/007.py)\n",
    "\n",
    "Faça um Programa que calcule a área de um quadrado, em seguida mostre o dobro\n",
    "desta área para o usuário.\n",
    "\n"
   ]
  },
  {
   "cell_type": "code",
   "execution_count": 21,
   "metadata": {},
   "outputs": [
    {
     "name": "stdout",
     "output_type": "stream",
     "text": [
      "O dobro da area do quadrado equivale a 968.0\n"
     ]
    }
   ],
   "source": [
    "lado = float(input('Digite o lado do quadrado: '))\n",
    "area = lado ** 2\n",
    "dobro = area * 2\n",
    "print(f'O dobro da area do quadrado equivale a {dobro}')"
   ]
  },
  {
   "cell_type": "markdown",
   "id": "9c53904f",
   "metadata": {},
   "source": [
    "#### [Exercicio 008](exercicios/008.py)\n",
    "\n",
    "Faça um Programa que pergunte quanto você ganha por hora e o número de horas\n",
    "trabalhadas no mês. Calcule e mostre o total do seu salário no referido mês.\n",
    "\n"
   ]
  },
  {
   "cell_type": "code",
   "execution_count": 33,
   "metadata": {},
   "outputs": [
    {
     "name": "stdout",
     "output_type": "stream",
     "text": [
      "O total do seu salário é 800.0\n"
     ]
    }
   ],
   "source": [
    "ganho_por_hora = float(input(\"Digite o seu ganho por hora: \"))\n",
    "numero_de_hora =  float(input(\"Digite o numero de hora trabalhadas no mês: \"))\n",
    "total = ganho_por_hora * numero_de_hora\n",
    "print(f'O total do seu salário é {total}')\n",
    "# Controle de ganho\n",
    "# 4 horas * 5 dias da semana = 20hrs trabalhadas por semana\n",
    "# 20 horas do semana * 4 semanas do mês = 80hrs trabalhadas por mês\n",
    "# ganho 10R$ hora, 40R$ por dia, 200R$ por semana e 800 por mês."
   ]
  },
  {
   "cell_type": "markdown",
   "id": "49feb439",
   "metadata": {},
   "source": [
    "#### [Exercicio 009](exercicios/009.py)\n",
    "\n",
    "Faça um Programa que peça a temperatura em graus Farenheit, transforme e mostre\n",
    "a temperatura em graus Celsius.\n",
    "C = (5 * (F-32) / 9).\n",
    "\n"
   ]
  },
  {
   "cell_type": "code",
   "execution_count": 38,
   "metadata": {},
   "outputs": [
    {
     "name": "stdout",
     "output_type": "stream",
     "text": [
      "90.0°F equivale a 32.2°C\n"
     ]
    }
   ],
   "source": [
    "temp = float(input('Digite a sua temperatura em graus Fahrenheit: '))\n",
    "celsiu = (5 * (temp - 32) / 9)\n",
    "print(f'{temp}°F equivale a {round(celsiu, 1)}°C')"
   ]
  },
  {
   "cell_type": "markdown",
   "id": "1d5a5d7d",
   "metadata": {},
   "source": [
    "#### [Exercicio 010](exercicios/010.py)\n",
    "\n",
    "Faça um Programa que peça a temperatura em graus Celsius, transforme e mostre\n",
    "em graus Farenheit.\n",
    "\n"
   ]
  },
  {
   "cell_type": "code",
   "execution_count": 39,
   "metadata": {},
   "outputs": [
    {
     "name": "stdout",
     "output_type": "stream",
     "text": [
      "32.0°C equivale a 89.6°F\n"
     ]
    }
   ],
   "source": [
    "temp = float(input('Digite a sua temperatura em graus Celsius: '))\n",
    "fahrenheit = (9 * temp) / 5 + 32\n",
    "print(f'{temp}°C equivale a {round(fahrenheit, 1)}°F')"
   ]
  },
  {
   "cell_type": "markdown",
   "id": "aa683f4a",
   "metadata": {},
   "source": [
    "#### [Exercicio 011](exercicios/011.py)\n",
    "\n",
    "Faça um Programa que peça 2 números inteiros e um número real.\n",
    "Calcule e mostre:\n",
    "    o produto do dobro do primeiro com metade do segundo.\n",
    "    a soma do triplo do primeiro com o terceiro.\n",
    "    o terceiro elevado ao cubo.\n",
    "\n"
   ]
  },
  {
   "cell_type": "code",
   "execution_count": 41,
   "metadata": {},
   "outputs": [
    {
     "name": "stdout",
     "output_type": "stream",
     "text": [
      "o produto do dobro do primeiro valor com metade do segundo valor: 748.0\n",
      "a soma do triplo do primeiro com o terceiro: 122.0\n",
      "o terceiro elevado ao cubo: 175616.0\n"
     ]
    }
   ],
   "source": [
    "primeiro = float(input('Digite o 1° valor: '))\n",
    "segundo = float(input('Digite o 2° valor: '))\n",
    "terceiro = float(input('Digite o 3° valor: '))\n",
    "print(f'o produto do dobro do primeiro valor com metade do segundo valor: {(2 * primeiro) * (segundo / 2)}')\n",
    "print(f'a soma do triplo do primeiro com o terceiro: {(3 * primeiro) + terceiro}')\n",
    "print(f'o terceiro elevado ao cubo: {terceiro ** 3}')"
   ]
  },
  {
   "cell_type": "markdown",
   "id": "dc9b5b1d",
   "metadata": {},
   "source": [
    "#### [Exercicio 012](exercicios/012.py)\n",
    "\n",
    "Tendo como dados de entrada a altura de uma pessoa,\n",
    "construa um algoritmo que calcule seu peso ideal,\n",
    "usando a seguinte fórmula: (72.7*altura) - 58\n",
    "\n"
   ]
  },
  {
   "cell_type": "code",
   "execution_count": 42,
   "metadata": {},
   "outputs": [
    {
     "name": "stdout",
     "output_type": "stream",
     "text": [
      "O seu peso ideal seria 741.7Kls\n"
     ]
    }
   ],
   "source": [
    "altura = float(input('Digite a sua altura: '))\n",
    "peso = (72.7 * altura) - 58\n",
    "print(f'O seu peso ideal seria {round(peso, 2)}Kls')"
   ]
  },
  {
   "cell_type": "markdown",
   "id": "ec662ea9",
   "metadata": {},
   "source": [
    "#### [Exercicio 013](exercicios/013.py)\n",
    "\n",
    "Tendo como dado de entrada a altura (h) de uma pessoa,\n",
    "construa um algoritmo que calcule seu peso ideal,\n",
    "utilizando as seguintes fórmulas:\n",
    "    Para homens: (72.7*h) - 58\n",
    "    Para mulheres: (62.1*h) - 44.7\n",
    "\n"
   ]
  },
  {
   "cell_type": "code",
   "execution_count": 43,
   "metadata": {},
   "outputs": [
    {
     "name": "stdout",
     "output_type": "stream",
     "text": [
      "O seu peso ideal sendo um homem seria 1541.4Kls\n"
     ]
    }
   ],
   "source": [
    "genero = (input('Digite o seu genero (M/F): ')).strip().upper()\n",
    "altura = float(input('Digite a sua altura: '))\n",
    "if genero == 'M':\n",
    "    peso = (72.7 * altura) - 58\n",
    "    print(f'O seu peso ideal sendo um homem seria {round(peso, 2)}Kls')\n",
    "elif genero == 'F':\n",
    "    peso = (72.7 * altura) - 58\n",
    "    print(f'O seu peso ideal sendo do uma mulher seria {round(peso, 2)}Kls')\n",
    "else:\n",
    "    print('O genero e peso está indisponivel')"
   ]
  },
  {
   "cell_type": "markdown",
   "id": "d7354c24",
   "metadata": {},
   "source": [
    "#### [Exercicio 014](exercicios/014.py)\n",
    "\n",
    "João Papo-de-Pescador, homem de bem, comprou um microcomputador para controlar\n",
    "o rendimento diário de seu trabalho.\n",
    "\n",
    "Toda vez que ele traz um peso de peixes maior que o estabelecido pelo\n",
    "regulamento de pesca do estado de São Paulo (50 quilos) deve pagar uma multa\n",
    "de R$ 4,00 por quilo excedente.\n",
    "\n",
    "João precisa que você faça um programa que leia a variável peso\n",
    "(peso de peixes) e calcule o excesso.\n",
    "\n",
    "Gravar na variável excesso a quantidade de quilos além do limite\n",
    "e na variável multa o valor da multa que João deverá pagar.\n",
    "Imprima os dados do programa com as mensagens adequadas.\n",
    "\n"
   ]
  },
  {
   "cell_type": "code",
   "execution_count": null,
   "metadata": {},
   "outputs": [
    {
     "name": "stdout",
     "output_type": "stream",
     "text": [
      "A sua carga de 70.0kg exedeu o limite estabelecido pela estado, será aplicado uma multa de R$ 80.0,00 por quilo excedido\n"
     ]
    }
   ],
   "source": [
    "peso = float(input('Digite o peso total da sua carga: '))\n",
    "limite_peso = 50\n",
    "multa_por_kg = 4\n",
    "excesso = max(0, peso - limite_peso)\n",
    "multa = excesso * multa_por_kg\n",
    "\n",
    "if peso > limite_peso:\n",
    "    print(f'A sua carga de {peso}kg exedeu o limite estabelecido pela estado, será aplicado uma multa de R$ {multa},00 por quilo excedido')\n",
    "else:\n",
    "    print('O peso da sua carga está aceita!!')    "
   ]
  },
  {
   "cell_type": "markdown",
   "id": "976ea100",
   "metadata": {},
   "source": [
    "#### [Exercicio 015](exercicios/015.py)\n",
    "\n",
    "Faça um Programa que pergunte quanto você ganha por hora e o número de horas\n",
    "trabalhadas no mês.\n",
    "\n",
    "Calcule e mostre o total do seu salário no referido mês,\n",
    "sabendo-se que são descontados 11% para o Imposto de Renda,\n",
    "8% para o INSS e 5% para o sindicato, faça um programa que nos dê:\n",
    "    salário bruto.\n",
    "    quanto pagou ao INSS.\n",
    "    quanto pagou ao sindicato.\n",
    "    o salário líquido.\n",
    "calcule os descontos e o salário líquido, conforme a tabela abaixo:\n",
    "\n",
    "    + Salário Bruto : R$\n",
    "    - IR (11%) : R$\n",
    "    - INSS (8%) : R$\n",
    "    - Sindicato ( 5%) : R$\n",
    "    = Salário Liquido : R$\n",
    "\n",
    "Obs.: Salário Bruto - Descontos = Salário Líquido.\n",
    "\n"
   ]
  },
  {
   "cell_type": "code",
   "execution_count": null,
   "metadata": {},
   "outputs": [
    {
     "name": "stdout",
     "output_type": "stream",
     "text": [
      "---- descontos aplicados no total ----\n",
      "Salário Bruto : 112000.0R$\n",
      "IR (11%) : 12320.00R$\n",
      "INSS (8%) : 8960.00R$\n",
      "Sindicato (5%) : 5600.00R$\n",
      "Salário Liquido : 85120.00R$\n"
     ]
    }
   ],
   "source": [
    "ganho = float(input('Digite o total do seu salário no mês: '))\n",
    "hora = float(input('Digite a quantidade de horas trabalhadas no mês: '))\n",
    "salario_bruto = ganho * hora\n",
    "imposto_renda = salario_bruto * (11 / 100)\n",
    "inss = salario_bruto * (8 / 100)\n",
    "sindicato = salario_bruto * (5 / 100)\n",
    "salario_liquido = salario_bruto - (imposto_renda + inss + sindicato)\n",
    "print('---- descontos aplicados no total ----')\n",
    "print(f'Salário Bruto : {salario_bruto}R$')\n",
    "print(f'IR (11%) : {imposto_renda}R$')\n",
    "print(f'INSS (8%) : {inss}R$')\n",
    "print(f'Sindicato (5%) : {sindicato}R$')\n",
    "print(f'Salário Liquido : {salario_liquido}R$')\n"
   ]
  },
  {
   "cell_type": "markdown",
   "id": "8dabba16",
   "metadata": {},
   "source": [
    "#### [Exercicio 016](exercicios/016.py)\n",
    "\n",
    "Faça um programa para uma loja de tintas.\n",
    "O programa deverá pedir o tamanho em metros quadrados da área a ser pintada.\n",
    "\n",
    "Considere que a cobertura da tinta é de 1 litro para cada 3 metros\n",
    "quadrados e que a tinta é vendida em latas de 18 litros, que custam R$ 80,00.\n",
    "\n",
    "Informe ao usuário a quantidades de latas de tinta\n",
    "a serem compradas e o preço total.\n",
    "\n"
   ]
  },
  {
   "cell_type": "code",
   "execution_count": 67,
   "metadata": {},
   "outputs": [
    {
     "name": "stdout",
     "output_type": "stream",
     "text": [
      "------- loja de tintas -------\n",
      "A quantidade de latas de tintas a serem comprados é 19 por 1520R$\n"
     ]
    }
   ],
   "source": [
    "import math\n",
    "print('------- loja de tintas -------')\n",
    "area = float(input('Digite o tamanho em m² da área'))\n",
    "cobertura_litros = 3\n",
    "litros_lata = 18\n",
    "preco_lata = 80\n",
    "\n",
    "litros = area / cobertura_litros\n",
    "latas = math.ceil(litros / litros_lata)\n",
    "preco = latas * preco_lata\n",
    "print(f'A quantidade de latas de tintas a serem comprados é {latas} por {preco}R$')"
   ]
  },
  {
   "cell_type": "markdown",
   "id": "c90bdbe0",
   "metadata": {},
   "source": [
    "#### [Exercicio 017](exercicios/017.py)\n",
    "\n",
    "Faça um Programa para uma loja de tintas.\n",
    "\n",
    "O programa deverá pedir o tamanho em metros quadrados da área a ser pintada.\n",
    "\n",
    "Considere que a cobertura da tinta é de 1 litro para cada 6 metros quadrados\n",
    "e que a tinta é vendida em latas de 18 litros, que custam R$ 80,00\n",
    "ou em galões de 3,6 litros, que custam R$ 25,00.\n",
    "\n",
    "Informe ao usuário as quantidades de tinta a serem compradas\n",
    "e os respectivos preços em 3 situações:\n",
    "\n",
    "    comprar apenas latas de 18 litros;\n",
    "    comprar apenas galões de 3,6 litros;\n",
    "    misturar latas e galões, de forma que o preço seja o menor.\n",
    "        Acrescente 10% de folga e sempre arredonde os valores para cima,\n",
    "        isto é, considere latas cheias.\n",
    "\n"
   ]
  },
  {
   "cell_type": "code",
   "execution_count": null,
   "metadata": {},
   "outputs": [],
   "source": []
  },
  {
   "cell_type": "markdown",
   "id": "ac671fa0",
   "metadata": {},
   "source": [
    "#### [Exercicio 018](exercicios/018.py)\n",
    "\n",
    "Faça um programa que peça o tamanho de um arquivo para download (em MB) e a\n",
    "velocidade de um link de Internet (em Mbps), calcule e informe o tempo\n",
    "aproximado de download do arquivo usando este link (em minutos).\n",
    "\n",
    "### Estruturas de decisão\n"
   ]
  },
  {
   "cell_type": "markdown",
   "id": "dd812b43",
   "metadata": {},
   "source": [
    "#### [Exercicio 019](exercicios/019.py)\n",
    "\n",
    "Faça um Programa que peça dois números e imprima o maior deles.\n",
    "\n"
   ]
  },
  {
   "cell_type": "markdown",
   "id": "5af3b73d",
   "metadata": {},
   "source": [
    "#### [Exercicio 020](exercicios/020.py)\n",
    "\n",
    "Faça um Programa que peça um valor e mostre na tela se o valor é\n",
    "positivo ou negativo.\n",
    "\n"
   ]
  },
  {
   "cell_type": "markdown",
   "id": "b094b2dd",
   "metadata": {},
   "source": [
    "#### [Exercicio 021](exercicios/021.py)\n",
    "\n",
    "Faça um Programa que verifique se uma letra digitada é \"F\" ou \"M\".\n",
    "Conforme a letra escrever: F - Feminino, M - Masculino, Sexo Inválido.\n",
    "\n"
   ]
  },
  {
   "cell_type": "markdown",
   "id": "395890b1",
   "metadata": {},
   "source": [
    "#### [Exercicio 022](exercicios/022.py)\n",
    "\n",
    "Faça um Programa que verifique se uma letra digitada é vogal ou consoante.\n",
    "\n"
   ]
  },
  {
   "cell_type": "markdown",
   "id": "ddca4a54",
   "metadata": {},
   "source": [
    "#### [Exercicio 023](exercicios/023.py)\n",
    "\n",
    "Faça um programa para a leitura de duas notas parciais de um aluno.\n",
    "O programa deve calcular a média alcançada por aluno e apresentar:\n",
    "    A mensagem \"Aprovado\", se a média alcançada for maior ou igual a sete;\n",
    "    A mensagem \"Reprovado\", se a média for menor do que sete;\n",
    "    A mensagem \"Aprovado com Distinção\", se a média for igual a dez.\n",
    "\n"
   ]
  },
  {
   "cell_type": "markdown",
   "id": "4830d7d1",
   "metadata": {},
   "source": [
    "#### [Exercicio 024](exercicios/024.py)\n",
    "\n",
    "Faça um Programa que leia três números e mostre o maior deles.\n",
    "\n"
   ]
  },
  {
   "cell_type": "markdown",
   "id": "82bd8b79",
   "metadata": {},
   "source": [
    "#### [Exercicio 025](exercicios/025.py)\n",
    "\n",
    "Faça um Programa que leia três números e mostre o maior e o menor deles.\n",
    "\n"
   ]
  },
  {
   "cell_type": "markdown",
   "id": "9dac3539",
   "metadata": {},
   "source": [
    "#### [Exercicio 026](exercicios/026.py)\n",
    "\n",
    "Faça um programa que pergunte o preço de três produtos e informe qual produto\n",
    "você deve comprar, sabendo que a decisão é sempre pelo mais barato.\n",
    "\n"
   ]
  },
  {
   "cell_type": "markdown",
   "id": "232b12e0",
   "metadata": {},
   "source": [
    "#### [Exercicio 027](exercicios/027.py)\n",
    "\n",
    "Faça um Programa que leia três números e mostre-os em ordem decrescente.\n",
    "\n"
   ]
  },
  {
   "cell_type": "markdown",
   "id": "bf74ae6f",
   "metadata": {},
   "source": [
    "#### [Exercicio 028](exercicios/028.py)\n",
    "\n",
    "Faça um Programa que pergunte em que turno você estuda.\n",
    "Peça para digitar M-matutino ou V-Vespertino ou N- Noturno.\n",
    "\n",
    "Imprima a mensagem \"Bom Dia!\", \"Boa Tarde!\" ou \"Boa Noite!\" ou\n",
    "\"Valor Inválido!\", conforme o caso.\n",
    "\n"
   ]
  },
  {
   "cell_type": "markdown",
   "id": "ff6ebb83",
   "metadata": {},
   "source": [
    "#### [Exercicio 029](exercicios/029.py)\n",
    "\n",
    "As Organizações Tabajara resolveram dar um aumento de salário aos seus\n",
    "colaboradores e lhe contrataram para desenvolver o programa que calculará os\n",
    "reajustes.\n",
    "\n",
    "Faça um programa que recebe o salário de um colaborador e o reajuste segundo o\n",
    "seguinte critério, baseado no salário atual:\n",
    "\n",
    "    salários até R$ 280,00 (incluindo) : aumento de 20%\n",
    "    salários entre R$ 280,00 e R$ 700,00 : aumento de 15%\n",
    "    salários entre R$ 700,00 e R$ 1500,00 : aumento de 10%\n",
    "    salários de R$ 1500,00 em diante :\n",
    "        aumento de 5% Após o aumento ser realizado,\n",
    "    informe na tela:\n",
    "        o salário antes do reajuste;\n",
    "        o percentual de aumento aplicado;\n",
    "        o valor do aumento;\n",
    "        o novo salário, após o aumento.\n",
    "\n"
   ]
  },
  {
   "cell_type": "markdown",
   "id": "2213f750",
   "metadata": {},
   "source": [
    "#### [Exercicio 030](exercicios/030.py)\n",
    "\n",
    "Faça um programa para o cálculo de uma folha de pagamento, sabendo que os\n",
    "descontos são do Imposto de Renda, que depende do salário bruto\n",
    "(conforme tabela abaixo) e 10% para o INSS e que o FGTS corresponde a 11% do\n",
    "Salário Bruto, mas não é descontado (é a empresa que deposita).\n",
    "\n",
    "O Salário Líquido corresponde ao Salário Bruto menos os descontos.\n",
    "O programa deverá pedir ao usuário o valor da sua hora e a quantidade de horas\n",
    "trabalhadas no mês.\n",
    "\n",
    "Desconto do IR:\n",
    "    Salário Bruto até 900 (inclusive) - isento\n",
    "    Salário Bruto até 1500 (inclusive) - desconto de 5%\n",
    "    Salário Bruto até 2500 (inclusive) - desconto de 10%\n",
    "    Salário Bruto acima de 2500 - desconto de 20%\n",
    "\n",
    "Imprima na tela as informações, dispostas conforme o exemplo abaixo.\n",
    "No exemplo o valor da hora é 5 e a quantidade de hora é 220.\n",
    "\n",
    "        Salário Bruto: (5 * 220)        : R$ 1100,00\n",
    "        (-) IR (5%)                     : R$   55,00\n",
    "        (-) INSS ( 10%)                 : R$  110,00\n",
    "        FGTS (11%)                      : R$  121,00\n",
    "        Total de descontos              : R$  165,00\n",
    "        Salário Liquido                 : R$  935,00\n",
    "\n"
   ]
  },
  {
   "cell_type": "markdown",
   "id": "9bde4b72",
   "metadata": {},
   "source": [
    "#### [Exercicio 031](exercicios/031.py)\n",
    "\n",
    "Faça um Programa que leia um número e exiba o dia correspondente da semana.\n",
    "(1-Domingo, 2- Segunda, etc.),\n",
    "se digitar outro valor deve aparecer valor inválido.\n",
    "\n"
   ]
  },
  {
   "cell_type": "markdown",
   "id": "20289527",
   "metadata": {},
   "source": [
    "#### [Exercicio 032](exercicios/032.py)\n",
    "\n",
    "Faça um programa que lê as duas notas parciais obtidas por um aluno numa\n",
    "disciplina ao longo de um semestre, e calcule a sua média.\n",
    "\n",
    "A atribuição de conceitos obedece à tabela abaixo:\n",
    "    Média de Aproveitamento  Conceito\n",
    "    Entre 9.0 e 10.0         A\n",
    "    Entre 7.5 e 9.0          B\n",
    "    Entre 6.0 e 7.5          C\n",
    "    Entre 4.0 e 6.0          D\n",
    "    Entre 4.0 e zero         E\n",
    "\n",
    "O algoritmo deve mostrar na tela as notas, a média,\n",
    "o conceito correspondente e a mensagem “APROVADO” se o conceito for A, B ou C\n",
    "ou “REPROVADO” se o conceito for D ou E.\n",
    "\n"
   ]
  },
  {
   "cell_type": "markdown",
   "id": "4f1683cd",
   "metadata": {},
   "source": [
    "#### [Exercicio 033](exercicios/033.py)\n",
    "\n",
    "Faça um Programa que peça os 3 lados de um triângulo.\n",
    "O programa deverá informar se os valores podem ser um triângulo.\n",
    "Indique, caso os lados formem um triângulo, se o mesmo é:\n",
    "    equilátero, isósceles ou escaleno.\n",
    "\n",
    "Dicas:\n",
    "    Três lados formam um triângulo quando a soma de\n",
    "        quaisquer dois lados for maior que o terceiro;\n",
    "    Triângulo Equilátero: três lados iguais;\n",
    "    Triângulo Isósceles: quaisquer dois lados iguais;\n",
    "    Triângulo Escaleno: três lados diferentes;\n",
    "\n"
   ]
  },
  {
   "cell_type": "markdown",
   "id": "6c1a4324",
   "metadata": {},
   "source": [
    "#### [Exercicio 034](exercicios/034.py)\n",
    "\n",
    "Faça um programa que calcule as raízes de uma equação do segundo grau,\n",
    "na forma ax² + bx + c.\n",
    "\n",
    "O programa deverá pedir os valores de a, b e c e fazer as consistências,\n",
    "informando ao usuário nas seguintes situações:\n",
    "\n",
    "    Se o usuário informar o valor de A igual a zero, a equação não é do segundo\n",
    "        grau e o programa não deve fazer pedir os demais valores,\n",
    "        sendo encerrado;\n",
    "    Se o delta calculado for negativo, a equação não possui raízes reais.\n",
    "        Informe ao usuário e encerre o programa;\n",
    "    Se o delta calculado for igual a zero a equação possui apenas uma raiz\n",
    "        real; informe-a ao usuário;\n",
    "    Se o delta for positivo, a equação possui duas raiz reais;\n",
    "        informe-as ao usuário;\n",
    "\n"
   ]
  },
  {
   "cell_type": "markdown",
   "id": "58668618",
   "metadata": {},
   "source": [
    "#### [Exercicio 035](exercicios/035.py)\n",
    "\n",
    "Faça um Programa que peça um número correspondente a um determinado ano e em\n",
    "seguida informe se este ano é ou não bissexto.\n",
    "\n"
   ]
  },
  {
   "cell_type": "markdown",
   "id": "4501ef0b",
   "metadata": {},
   "source": [
    "#### [Exercicio 036](exercicios/036.py)\n",
    "\n",
    "Faça um Programa que peça uma data no formato dd/mm/aaaa e determine se a mesma\n",
    "é uma data válida.\n",
    "\n"
   ]
  },
  {
   "cell_type": "markdown",
   "id": "0cbdb8e8",
   "metadata": {},
   "source": [
    "#### [Exercicio 037](exercicios/037.py)\n",
    "\n",
    "Faça um Programa que leia um número inteiro maior que 0 e menor que 1000 e\n",
    "imprima a quantidade de centenas, dezenas e unidades do mesmo.\n",
    "\n",
    "Observando os termos no plural a colocação do \"e\", da vírgula entre outros.\n",
    "\n",
    "Exemplo:\n",
    "326 = 3 centenas, 2 dezenas e 6 unidades\n",
    "12 = 1 dezena e 2 unidades\n",
    "\n",
    "Testar com:\n",
    "326, 300, 100, 320, 310,305, 301, 101, 311, 111, 25, 20, 10, 21, 11, 1, 7 e 16\n",
    "\n"
   ]
  },
  {
   "cell_type": "markdown",
   "id": "c4086a67",
   "metadata": {},
   "source": [
    "#### [Exercicio 038](exercicios/038.py)\n",
    "\n",
    "Faça um Programa para um caixa eletrônico.\n",
    "\n",
    "O programa deverá perguntar ao usuário a valor do saque e depois informar\n",
    "quantas notas de cada valor serão fornecidas.\n",
    "\n",
    "As notas disponíveis serão as de 1, 5, 10, 50 e 100 reais.\n",
    "O valor mínimo é de 10 reais e o máximo de 600 reais.\n",
    "\n",
    "O programa não deve se preocupar com a quantidade de notas existentes na\n",
    "máquina.\n",
    "\n",
    "Exemplo 1:\n",
    "Para sacar a quantia de 256 reais, o programa fornece duas notas de 100,\n",
    "uma nota de 50, uma nota de 5 e uma nota de 1;\n",
    "\n",
    "Exemplo 2:\n",
    "Para sacar a quantia de 399 reais, o programa fornece três notas de 100,\n",
    "uma nota de 50, quatro notas de 10, uma nota de 5 e quatro notas de 1.\n",
    "\n"
   ]
  },
  {
   "cell_type": "markdown",
   "id": "5474d643",
   "metadata": {},
   "source": [
    "#### [Exercicio 039](exercicios/039.py)\n",
    "\n",
    "Faça um Programa que peça um número inteiro e determine se ele é par ou impar.\n",
    "Dica: utilize o operador módulo (resto da divisão).\n",
    "\n"
   ]
  },
  {
   "cell_type": "markdown",
   "id": "3000a060",
   "metadata": {},
   "source": [
    "#### [Exercicio 040](exercicios/040.py)\n",
    "\n",
    "Faça um Programa que peça um número e informe se o número é inteiro ou decimal.\n",
    "Dica: utilize uma função de arredondamento.\n",
    "\n"
   ]
  },
  {
   "cell_type": "markdown",
   "id": "2da5f527",
   "metadata": {},
   "source": [
    "#### [Exercicio 041](exercicios/041.py)\n",
    "\n",
    "Faça um Programa que leia 2 números e em seguida pergunte ao usuário qual\n",
    "operação ele deseja realizar.\n",
    "\n",
    "O resultado da operação deve ser acompanhado de uma\n",
    "frase que diga se o número é:\n",
    "    par ou ímpar;\n",
    "    positivo ou negativo;\n",
    "    inteiro ou decimal.\n",
    "\n"
   ]
  },
  {
   "cell_type": "markdown",
   "id": "581fdbbe",
   "metadata": {},
   "source": [
    "#### [Exercicio 042](exercicios/042.py)\n",
    "\n",
    "Faça um programa que faça 5 perguntas para uma pessoa sobre um crime.\n",
    "As perguntas são:\n",
    "    \"Telefonou para a vítima?\"\n",
    "    \"Esteve no local do crime?\"\n",
    "    \"Mora perto da vítima?\"\n",
    "    \"Devia para a vítima?\"\n",
    "    \"Já trabalhou com a vítima?\"\n",
    "\n",
    "O programa deve no final emitir uma classificação sobre a participação\n",
    "da pessoa no crime.\n",
    "\n",
    "Se a pessoa responder positivamente a 2 questões ela deve ser classificada\n",
    "como \"Suspeita\", entre 3 e 4 como \"Cúmplice\" e 5 como \"Assassino\".\n",
    "Caso contrário, ele será classificado como \"Inocente\".\n",
    "\n"
   ]
  },
  {
   "cell_type": "markdown",
   "id": "9248e7ae",
   "metadata": {},
   "source": [
    "#### [Exercicio 043](exercicios/043.py)\n",
    "\n",
    "Um posto está vendendo combustíveis com a seguinte tabela de descontos:\n",
    "    Álcool:\n",
    "        até 20 litros, desconto de 3% por litro\n",
    "        acima de 20 litros, desconto de 5% por litro\n",
    "    Gasolina:\n",
    "        até 20 litros, desconto de 4% por litro\n",
    "        acima de 20 litros, desconto de 6% por litro\n",
    "\n",
    "Escreva um algoritmo que leia o número de litros vendidos,\n",
    "o tipo de combustível (codificado da seguinte forma: A-álcool, G-gasolina),\n",
    "calcule e imprima o valor a ser pago pelo cliente sabendo-se que o preço do\n",
    "litro da gasolina é R$ 2,50 o preço do litro do álcool é R$ 1,90.\n",
    "\n"
   ]
  },
  {
   "cell_type": "markdown",
   "id": "0d097c89",
   "metadata": {},
   "source": [
    "#### [Exercicio 044](exercicios/044.py)\n",
    "\n",
    "Uma fruteira está vendendo frutas com a seguinte tabela de preços:\n",
    "\n",
    "                      Até 5 Kg           Acima de 5 Kg\n",
    "Morango         R$ 2,50 por Kg          R$ 2,20 por Kg\n",
    "Maçã            R$ 1,80 por Kg          R$ 1,50 por Kg\n",
    "\n",
    "Se o cliente comprar mais de 8 Kg em frutas ou o valor total da compra\n",
    "ultrapassar R$ 25,00, receberá ainda um desconto de 10% sobre este total.\n",
    "\n",
    "Escreva um algoritmo para ler a quantidade (em Kg) de morangos e a quantidade\n",
    "(em Kg) de maças adquiridas e escreva o valor a ser pago pelo cliente.\n",
    "\n"
   ]
  },
  {
   "cell_type": "markdown",
   "id": "12e03e2c",
   "metadata": {},
   "source": [
    "#### [Exercicio 045](exercicios/045.py)\n",
    "\n",
    "O Hipermercado Tabajara está com uma promoção de carnes que é imperdível.\n",
    "Confira:\n",
    "\n",
    "                      Até 5 Kg           Acima de 5 Kg\n",
    "File Duplo      R$ 4,90 por Kg          R$ 5,80 por Kg\n",
    "Alcatra         R$ 5,90 por Kg          R$ 6,80 por Kg\n",
    "Picanha         R$ 6,90 por Kg          R$ 7,80 por Kg\n",
    "\n",
    "Para atender a todos os clientes, cada cliente poderá levar apenas um dos tipos\n",
    "de carne da promoção, porém não há limites para a quantidade de carne\n",
    "por cliente.\n",
    "\n",
    "Se compra for feita no cartão Tabajara o cliente receberá ainda um desconto de\n",
    "5% sobre o total da compra.\n",
    "\n",
    "Escreva um programa que peça o tipo e a quantidade de carne comprada pelo\n",
    "usuário e gere um cupom fiscal, contendo as informações da compra:\n",
    "    tipo de carne\n",
    "    quantidade de carne\n",
    "    preço total\n",
    "    tipo de pagamento\n",
    "    valor do desconto\n",
    "    valor a pagar.\n",
    "\n",
    "### Estruturas de repetição\n"
   ]
  },
  {
   "cell_type": "markdown",
   "id": "116ab4b9",
   "metadata": {},
   "source": [
    "#### [Exercicio 046](exercicios/046.py)\n",
    "\n",
    "Faça um programa que peça uma nota, entre zero e dez.\n",
    "Mostre uma mensagem caso o valor seja inválido e continue pedindo até que o\n",
    "usuário informe um valor válido.\n",
    "\n"
   ]
  },
  {
   "cell_type": "markdown",
   "id": "f4913fb1",
   "metadata": {},
   "source": [
    "#### [Exercicio 047](exercicios/047.py)\n",
    "\n",
    "Faça um programa que leia um nome de usuário e a sua senha e não aceite a senha\n",
    "igual ao nome do usuário, mostrando uma mensagem de erro e voltando a\n",
    "pedir as informações.\n",
    "\n"
   ]
  },
  {
   "cell_type": "markdown",
   "id": "44f4f0f7",
   "metadata": {},
   "source": [
    "#### [Exercicio 048](exercicios/048.py)\n",
    "\n",
    "Faça um programa que leia e valide as seguintes informações:\n",
    "    Nome: maior que 3 caracteres;\n",
    "    Idade: entre 0 e 150;\n",
    "    Salário: maior que zero;\n",
    "    Sexo: 'f' ou 'm';\n",
    "    Estado Civil: 's', 'c', 'v', 'd';\n",
    "\n"
   ]
  },
  {
   "cell_type": "markdown",
   "id": "ee2c5218",
   "metadata": {},
   "source": [
    "#### [Exercicio 049](exercicios/049.py)\n",
    "\n",
    "Supondo que a população de um país A seja da ordem de 80000 habitantes com uma\n",
    "taxa anual de crescimento de 3% e que a população de B seja 200000 habitantes\n",
    "com uma taxa de crescimento de 1.5%.\n",
    "\n",
    "Faça um programa que calcule e escreva o número de anos necessários para que a\n",
    "população do país A ultrapasse ou iguale a população do país B, mantidas as\n",
    "taxas de crescimento.\n",
    "\n"
   ]
  },
  {
   "cell_type": "markdown",
   "id": "8d5a25b0",
   "metadata": {},
   "source": [
    "#### [Exercicio 050](exercicios/050.py)\n",
    "\n",
    "Altere o programa anterior permitindo ao usuário informar as populações e as\n",
    "taxas de crescimento iniciais. Valide a entrada e permita repetir a operação.\n",
    "\n"
   ]
  },
  {
   "cell_type": "markdown",
   "id": "b49b327b",
   "metadata": {},
   "source": [
    "#### [Exercicio 051](exercicios/051.py)\n",
    "\n",
    "Faça um programa que imprima na tela os números de 1 a 20, um abaixo do outro.\n",
    "Depois modifique o programa para que ele mostre os números um ao lado do outro.\n",
    "\n"
   ]
  },
  {
   "cell_type": "markdown",
   "id": "e9f2db47",
   "metadata": {},
   "source": [
    "#### [Exercicio 052](exercicios/052.py)\n",
    "\n",
    "Faça um programa que leia 5 números e informe o maior número.\n",
    "\n"
   ]
  },
  {
   "cell_type": "markdown",
   "id": "6346865d",
   "metadata": {},
   "source": [
    "#### [Exercicio 053](exercicios/053.py)\n",
    "\n",
    "Faça um programa que leia 5 números e informe a soma e a média dos números.\n",
    "\n"
   ]
  },
  {
   "cell_type": "markdown",
   "id": "241c4ee0",
   "metadata": {},
   "source": [
    "#### [Exercicio 054](exercicios/054.py)\n",
    "\n",
    "Faça um programa que imprima na tela apenas os números ímpares entre 1 e 50.\n",
    "\n"
   ]
  },
  {
   "cell_type": "markdown",
   "id": "6c32a16b",
   "metadata": {},
   "source": [
    "#### [Exercicio 055](exercicios/055.py)\n",
    "\n",
    "Faça um programa que receba dois números inteiros e gere os números inteiros\n",
    "que estão no intervalo compreendido por eles.\n",
    "\n"
   ]
  },
  {
   "cell_type": "markdown",
   "id": "b193f463",
   "metadata": {},
   "source": [
    "#### [Exercicio 056](exercicios/056.py)\n",
    "\n",
    "Altere o programa anterior para mostrar no final a soma dos números.\n",
    "\n"
   ]
  },
  {
   "cell_type": "markdown",
   "id": "7f7939f0",
   "metadata": {},
   "source": [
    "#### [Exercicio 057](exercicios/057.py)\n",
    "\n",
    "Desenvolva um gerador de tabuada, capaz de gerar a tabuada de qualquer número\n",
    "inteiro entre 1 a 10.\n",
    "O usuário deve informar de qual numero ele deseja ver a tabuada.\n",
    "A saída deve ser conforme o exemplo abaixo:\n",
    "    Tabuada de 5:\n",
    "    5 X 1 = 5\n",
    "    5 X 2 = 10\n",
    "    ...\n",
    "    5 X 10 = 50\n",
    "\n"
   ]
  },
  {
   "cell_type": "markdown",
   "id": "0a8c99b9",
   "metadata": {},
   "source": [
    "#### [Exercicio 058](exercicios/058.py)\n",
    "\n",
    "Faça um programa que peça dois números, base e expoente,\n",
    "calcule e mostre o primeiro número elevado ao segundo número.\n",
    "Não utilize a função de potência da linguagem.\n",
    "\n"
   ]
  },
  {
   "cell_type": "markdown",
   "id": "28176474",
   "metadata": {},
   "source": [
    "#### [Exercicio 059](exercicios/059.py)\n",
    "\n",
    "Faça um programa que peça 10 números inteiros, calcule e mostre a quantidade de\n",
    "números pares e a quantidade de números impares.\n",
    "\n"
   ]
  },
  {
   "cell_type": "markdown",
   "id": "0ee7af9a",
   "metadata": {},
   "source": [
    "#### [Exercicio 060](exercicios/060.py)\n",
    "\n",
    "A série de Fibonacci é formada pela seqüência 1,1,2,3,5,8,13,21,34,55,...\n",
    "Faça um programa capaz de gerar a série até o n−ésimo termo.\n",
    "\n"
   ]
  },
  {
   "cell_type": "markdown",
   "id": "2ca39ae1",
   "metadata": {},
   "source": [
    "#### [Exercicio 061](exercicios/061.py)\n",
    "\n",
    "Faça um programa que calcule o fatorial de um número inteiro fornecido pelo\n",
    "usuário. Ex.: 5!=5.4.3.2.1=120\n",
    "\n"
   ]
  },
  {
   "cell_type": "markdown",
   "id": "8c19e16c",
   "metadata": {},
   "source": [
    "#### [Exercicio 062](exercicios/062.py)\n",
    "\n",
    "Faça um programa que, dado um conjunto de N números, determine o menor valor,\n",
    "o maior valor e a soma dos valores.\n",
    "\n"
   ]
  },
  {
   "cell_type": "markdown",
   "id": "811d4996",
   "metadata": {},
   "source": [
    "#### [Exercicio 063](exercicios/063.py)\n",
    "\n",
    "Altere o programa anterior para que ele aceite apenas números entre 0 e 1000.\n",
    "\n"
   ]
  },
  {
   "cell_type": "markdown",
   "id": "acb600c6",
   "metadata": {},
   "source": [
    "#### [Exercicio 064](exercicios/064.py)\n",
    "\n",
    "Altere o programa de cálculo do fatorial, permitindo ao usuário calcular o\n",
    "fatorial várias vezes e limitando o fatorial a números inteiros positivos e\n",
    "menores que 16.\n",
    "\n"
   ]
  },
  {
   "cell_type": "markdown",
   "id": "aa31f2ff",
   "metadata": {},
   "source": [
    "#### [Exercicio 065](exercicios/065.py)\n",
    "\n",
    "Faça um programa que peça um número inteiro e determine se ele é ou não um\n",
    "número primo. Um número primo é aquele que é divisível somente por ele mesmo\n",
    "e por 1.\n",
    "\n"
   ]
  },
  {
   "cell_type": "markdown",
   "id": "350c897d",
   "metadata": {},
   "source": [
    "#### [Exercicio 066](exercicios/066.py)\n",
    "\n",
    "Altere o programa de cálculo dos números primos, informando, caso o número não\n",
    "seja primo, por quais número ele é divisível.\n",
    "\n"
   ]
  },
  {
   "cell_type": "markdown",
   "id": "82f40d2e",
   "metadata": {},
   "source": [
    "#### [Exercicio 067](exercicios/067.py)\n",
    "\n",
    "Faça um programa que mostre todos os primos entre 1 e N sendo N um número\n",
    "inteiro fornecido pelo usuário.\n",
    "\n",
    "O programa deverá mostrar também o número de divisões que ele executou para\n",
    "encontrar os números primos.\n",
    "\n",
    "Serão avaliados o funcionamento, o estilo e o número de testes (divisões)\n",
    "executados.\n",
    "\n"
   ]
  },
  {
   "cell_type": "markdown",
   "id": "d909efa4",
   "metadata": {},
   "source": [
    "#### [Exercicio 068](exercicios/068.py)\n",
    "\n",
    "Faça um programa que calcule o mostre a média aritmética de N notas.\n",
    "\n"
   ]
  },
  {
   "cell_type": "markdown",
   "id": "ff440fb9",
   "metadata": {},
   "source": [
    "#### [Exercicio 069](exercicios/069.py)\n",
    "\n",
    "Faça um programa que peça para n pessoas a sua idade, ao final o programa\n",
    "deverá verificar se a média de idade da turma varia entre 0 e 25,26 e 60 e\n",
    "maior que 60; e então, dizer se a turma é jovem, adulta ou idosa, conforme a\n",
    "média calculada.\n",
    "\n"
   ]
  },
  {
   "cell_type": "markdown",
   "id": "d87d4d92",
   "metadata": {},
   "source": [
    "#### [Exercicio 070](exercicios/070.py)\n",
    "\n",
    "Numa eleição existem três candidatos.\n",
    "Faça um programa que peça o número total de eleitores.\n",
    "Peça para cada eleitor votar e ao final mostrar o número de votos\n",
    "de cada candidato.\n",
    "\n"
   ]
  },
  {
   "cell_type": "markdown",
   "id": "38e9acf2",
   "metadata": {},
   "source": [
    "#### [Exercicio 071](exercicios/071.py)\n",
    "\n",
    "Faça um programa que calcule o número médio de alunos por turma.\n",
    "Para isto, peça a quantidade de turmas e a quantidade de\n",
    "alunos para cada turma.\n",
    "As turmas não podem ter mais de 40 alunos.\n",
    "\n"
   ]
  },
  {
   "cell_type": "markdown",
   "id": "461658be",
   "metadata": {},
   "source": [
    "#### [Exercicio 072](exercicios/072.py)\n",
    "\n",
    "Faça um programa que calcule o valor total investido por um colecionador em sua\n",
    "coleção de CDs e o valor médio gasto em cada um deles.\n",
    "O usuário deverá informar a quantidade de CDs e o valor para em cada um.\n",
    "\n"
   ]
  },
  {
   "cell_type": "markdown",
   "id": "72cf9d08",
   "metadata": {},
   "source": [
    "#### [Exercicio 073](exercicios/073.py)\n",
    "\n",
    "O Sr. Manoel Joaquim possui uma grande loja de artigos de R$ 1,99,\n",
    "com cerca de 10 caixas.\n",
    "\n",
    "Para agilizar o cálculo de quanto cada cliente deve pagar ele desenvolveu uma\n",
    "tabela que contém o número de itens que o cliente comprou e ao lado\n",
    "o valor da conta.\n",
    "\n",
    "Desta forma a atendente do caixa precisa apenas contar quantos itens o cliente\n",
    "está levando e olhar na tabela de preços.\n",
    "\n",
    "Você foi contratado para desenvolver o programa que monta esta\n",
    "tabela de preços, que conterá os preços de 1 até 50 produtos,\n",
    "conforme o exemplo abaixo:\n",
    "\n",
    "    Lojas Quase Dois - Tabela de preços\n",
    "    1 - R$ 1.99\n",
    "    2 - R$ 3.98\n",
    "    ...\n",
    "    50 - R$ 99.50\n",
    "\n"
   ]
  },
  {
   "cell_type": "markdown",
   "id": "4d7c7ccb",
   "metadata": {},
   "source": [
    "#### [Exercicio 074](exercicios/074.py)\n",
    "\n",
    "O Sr. Manoel Joaquim acaba de adquirir uma panificadora e pretende implantar a\n",
    "metodologia da tabelinha, que já é um sucesso na sua loja de 1,99.\n",
    "\n",
    "Você foi contratado para desenvolver o programa que monta a tabela de preços de\n",
    "pães, de 1 até 50 pães, a partir do preço do pão informado pelo usuário,\n",
    "conforme o exemplo abaixo:\n",
    "\n",
    "    Preço do pão: R$ 0.18\n",
    "    Panificadora Pão de Ontem - Tabela de preços\n",
    "    1 - R$ 0.18\n",
    "    2 - R$ 0.36\n",
    "    ...\n",
    "    50 - R$ 9.00\n",
    "\n"
   ]
  },
  {
   "cell_type": "markdown",
   "id": "6e5a2bfe",
   "metadata": {},
   "source": [
    "#### [Exercicio 075](exercicios/075.py)\n",
    "\n",
    "O Sr. Manoel Joaquim expandiu seus negócios para além dos negócios de 1,99 e\n",
    "agora possui uma loja de conveniências.\n",
    "\n",
    "Faça um programa que implemente uma caixa registradora rudimentar.\n",
    "\n",
    "O programa deverá receber um número desconhecido de valores referentes aos\n",
    "preços das mercadorias.\n",
    "\n",
    "Um valor zero deve ser informado pelo operador para indicar o final da compra.\n",
    "\n",
    "O programa deve então mostrar o total da compra e perguntar o valor em dinheiro\n",
    "que o cliente forneceu, para então calcular e mostrar o valor do troco.\n",
    "\n",
    "Após esta operação, o programa deverá voltar ao ponto inicial, para registrar a\n",
    "próxima compra.\n",
    "\n",
    "A saída deve ser conforme o exemplo abaixo:\n",
    "    Lojas Tabajara\n",
    "    Produto 1: R$ 2.20\n",
    "    Produto 2: R$ 5.80\n",
    "    Produto 3: R$ 0\n",
    "    Total: R$ 9.00\n",
    "    Dinheiro: R$ 20.00\n",
    "    Troco: R$ 11.00\n",
    "\n"
   ]
  },
  {
   "cell_type": "markdown",
   "id": "651665ca",
   "metadata": {},
   "source": [
    "#### [Exercicio 076](exercicios/076.py)\n",
    "\n",
    "O Departamento Estadual de Meteorologia lhe contratou para desenvolver um\n",
    "programa que leia as um conjunto indeterminado de temperaturas,\n",
    "e informe ao final a menor e a maior temperaturas informadas,\n",
    "bem como a média das temperaturas.\n",
    "\n"
   ]
  },
  {
   "cell_type": "markdown",
   "id": "ef3badf0",
   "metadata": {},
   "source": [
    "#### [Exercicio 077](exercicios/077.py)\n",
    "\n",
    "Desenvolva um programa que faça a tabuada de um número qualquer inteiro que\n",
    "será digitado pelo usuário, mas a tabuada não deve necessariamente iniciar em 1\n",
    "e terminar em 10, o valor inicial e final devem ser informados também pelo\n",
    "usuário, conforme exemplo abaixo:\n",
    "\n",
    "    Montar a tabuada de: 5\n",
    "    Começar por: 4\n",
    "    Terminar em: 7\n",
    "\n",
    "    Vou montar a tabuada de 5 começando em 4 e terminando em 7:\n",
    "    5 X 4 = 20\n",
    "    5 X 5 = 25\n",
    "    5 X 6 = 30\n",
    "    5 X 7 = 35\n",
    "\n",
    "Obs: Você deve verificar se o usuário não digitou o final menor que o inicial.\n",
    "\n"
   ]
  },
  {
   "cell_type": "markdown",
   "id": "45052d67",
   "metadata": {},
   "source": [
    "#### [Exercicio 078](exercicios/078.py)\n",
    "\n",
    "Uma academia deseja fazer um senso entre seus clientes para descobrir o mais\n",
    "alto, o mais baixo, a mais gordo e o mais magro, para isto você deve fazer um\n",
    "programa que pergunte a cada um dos clientes da academia seu código,\n",
    "sua altura e seu peso.\n",
    "\n",
    "O final da digitação de dados deve ser dada quando o usuário digitar 0 (zero)\n",
    "no campo código.\n",
    "\n",
    "Ao encerrar o programa também deve ser informados os códigos e valores do\n",
    "clente mais alto, do mais baixo, do mais gordo e do mais magro, além da média\n",
    "das alturas e dos pesos dos clientes.\n",
    "\n"
   ]
  },
  {
   "cell_type": "markdown",
   "id": "e5016db6",
   "metadata": {},
   "source": [
    "#### [Exercicio 079](exercicios/079.py)\n",
    "\n",
    "Um funcionário de uma empresa recebe aumento salarial anualmente.\n",
    "\n",
    "Sabe-se que:\n",
    "Esse funcionário foi contratado em 1995, com salário inicial de R$ 1.000,00;\n",
    "Em 1996 recebeu aumento de 1,5% sobre seu salário inicial;\n",
    "A partir de 1997 (inclusive), os aumentos salariais sempre correspondem ao\n",
    "dobro do percentual do ano anterior.\n",
    "\n",
    "Faça um programa que determine o salário atual desse funcionário.\n",
    "Após concluir isto, altere o programa permitindo que o usuário digite o salário\n",
    "inicial do funcionário.\n",
    "\n"
   ]
  },
  {
   "cell_type": "markdown",
   "id": "249b5c28",
   "metadata": {},
   "source": [
    "#### [Exercicio 080](exercicios/080.py)\n",
    "\n",
    "Faça um programa que leia dez conjuntos de dois valores,\n",
    "o primeiro representando o número do aluno e o segundo representando\n",
    "a sua altura em centímetros.\n",
    "\n",
    "Encontre o aluno mais alto e o mais baixo.\n",
    "\n",
    "Mostre o número do aluno mais alto e o número do aluno mais baixo,\n",
    "junto com suas alturas.\n",
    "\n"
   ]
  },
  {
   "cell_type": "markdown",
   "id": "b130dd8b",
   "metadata": {},
   "source": [
    "#### [Exercicio 081](exercicios/081.py)\n",
    "\n",
    "Foi feita uma estatística em cinco cidades brasileiras para coletar dados sobre\n",
    "acidentes de trânsito.\n",
    "\n",
    "Foram obtidos os seguintes dados:\n",
    "    Código da cidade;\n",
    "    Número de veículos de passeio (em 1999);\n",
    "    Número de acidentes de trânsito com vítimas (em 1999).\n",
    "\n",
    "Deseja-se saber:\n",
    "    Qual o maior e menor índice de acidentes de transito\n",
    "        e a que cidade pertence;\n",
    "    Qual a média de veículos nas cinco cidades juntas;\n",
    "    Qual a média de acidentes de trânsito nas cidades com menos de\n",
    "        2.000 veículos de passeio.\n",
    "\n"
   ]
  },
  {
   "cell_type": "markdown",
   "id": "4885ff4d",
   "metadata": {},
   "source": [
    "#### [Exercicio 082](exercicios/082.py)\n",
    "\n",
    "Faça um programa que receba o valor de uma dívida e mostre uma tabela com os\n",
    "seguintes dados: valor da dívida, valor dos juros, quantidade de parcelas e\n",
    "valor da parcela.\n",
    "\n",
    "Os juros e a quantidade de parcelas seguem a tabela abaixo:\n",
    "    Quantidade de Parcelas  % de Juros sobre o valor inicial da dívida\n",
    "    1       0\n",
    "    3       10\n",
    "    6       15\n",
    "    9       20\n",
    "    12      25\n",
    "\n",
    "Exemplo de saída do programa:\n",
    "    Valor da Dívida Valor dos Juros Quantidade de Parcelas  Valor da Parcela\n",
    "    R$ 1.000,00     0               1                       R$  1.000,00\n",
    "    R$ 1.100,00     100             3                       R$    366,00\n",
    "    R$ 1.150,00     150             6                       R$    191,67\n",
    "\n"
   ]
  },
  {
   "cell_type": "markdown",
   "id": "b3336818",
   "metadata": {},
   "source": [
    "#### [Exercicio 083](exercicios/083.py)\n",
    "\n",
    "Faça um programa que leia uma quantidade indeterminada de números positivos e\n",
    "conte quantos deles estão nos seguintes intervalos:\n",
    "[0-25], [26-50], [51-75] e [76-100].\n",
    "\n",
    "A entrada de dados deverá terminar quando for lido um número negativo.\n",
    "\n"
   ]
  },
  {
   "cell_type": "markdown",
   "id": "7be8edf0",
   "metadata": {},
   "source": [
    "#### [Exercicio 084](exercicios/084.py)\n",
    "\n",
    "O cardápio de uma lanchonete é o seguinte:\n",
    "    Especificação   Código  Preço\n",
    "    Cachorro Quente 100     R$ 1,20\n",
    "    Bauru Simples   101     R$ 1,30\n",
    "    Bauru com ovo   102     R$ 1,50\n",
    "    Hambúrguer      103     R$ 1,20\n",
    "    Cheeseburguer   104     R$ 1,30\n",
    "    Refrigerante    105     R$ 1,00\n",
    "Faça um programa que leia o código dos itens pedidos e as quantidades\n",
    "desejadas.\n",
    "\n",
    "Calcule e mostre o valor a ser pago por item (preço * quantidade) e o total\n",
    "geral do pedido.\n",
    "\n",
    "Considere que o cliente deve informar quando o pedido deve ser encerrado.\n",
    "\n"
   ]
  },
  {
   "cell_type": "markdown",
   "id": "451e7800",
   "metadata": {},
   "source": [
    "#### [Exercicio 085](exercicios/085.py)\n",
    "\n",
    "Em uma eleição presidencial existem quatro candidatos.\n",
    "Os votos são informados por meio de código.\n",
    "Os códigos utilizados são:\n",
    "    1, 2, 3, 4  - Votos para os respectivos candidatos\n",
    "    (você deve montar a tabela ex: 1 - Jose/ 2- João/etc)\n",
    "    5 - Voto Nulo\n",
    "    6 - Voto em Branco\n",
    "\n",
    "Faça um programa que calcule e mostre:\n",
    "    O total de votos para cada candidato;\n",
    "    O total de votos nulos;\n",
    "    O total de votos em branco;\n",
    "    A percentagem de votos nulos sobre o total de votos;\n",
    "    A percentagem de votos em branco sobre o total de votos.\n",
    "\n",
    "Para finalizar o conjunto de votos tem-se o valor zero.\n",
    "\n"
   ]
  },
  {
   "cell_type": "markdown",
   "id": "a0e7eb3b",
   "metadata": {},
   "source": [
    "#### [Exercicio 086](exercicios/086.py)\n",
    "\n",
    "Desenvolver um programa para verificar a nota do aluno em uma prova com 10\n",
    "questões, o programa deve perguntar ao aluno a resposta de cada questão e ao\n",
    "final comparar com o gabarito da prova e assim calcular o total de acertos e a\n",
    "nota (atribuir 1 ponto por resposta certa).\n",
    "\n",
    "Após cada aluno utilizar o sistema deve ser feita uma pergunta se outro aluno\n",
    "vai utilizar o sistema.\n",
    "\n",
    "Após todos os alunos terem respondido informar:\n",
    "    Maior e Menor Acerto;\n",
    "    Total de Alunos que utilizaram o sistema;\n",
    "    A Média das Notas da Turma.\n",
    "    Gabarito da Prova:\n",
    "        01 - A\n",
    "        02 - B\n",
    "        03 - C\n",
    "        04 - D\n",
    "        05 - E\n",
    "        06 - E\n",
    "        07 - D\n",
    "        08 - C\n",
    "        09 - B\n",
    "        10 - A\n",
    "\n",
    "Após concluir isto você poderia incrementar o programa permitindo que o\n",
    "professor digite o gabarito da prova antes dos alunos usarem o programa.\n",
    "\n"
   ]
  },
  {
   "cell_type": "markdown",
   "id": "82bcb719",
   "metadata": {},
   "source": [
    "#### [Exercicio 087](exercicios/087.py)\n",
    "\n",
    "Em uma competição de salto em distância cada atleta tem direito a cinco saltos.\n",
    "No final da série de saltos de cada atleta, o melhor e o pior resultados são\n",
    "eliminados.\n",
    "\n",
    "O seu resultado fica sendo a média dos três valores restantes.\n",
    "Você deve fazer um programa que receba o nome e as cinco distâncias alcançadas\n",
    "pelo atleta em seus saltos e depois informe a média dos saltos conforme a\n",
    "descrição acima informada (retirar o melhor e o pior salto e depois\n",
    "calcular a média).\n",
    "\n",
    "Faça uso de uma lista para armazenar os saltos.\n",
    "Os saltos são informados na ordem da execução, portanto não são ordenados.\n",
    "O programa deve ser encerrado quando não for informado o nome do atleta.\n",
    "A saída do programa deve ser conforme o exemplo abaixo:\n",
    "    Atleta: Rodrigo Curvêllo\n",
    "\n",
    "    Primeiro Salto: 6.5 m\n",
    "    Segundo Salto: 6.1 m\n",
    "    Terceiro Salto: 6.2 m\n",
    "    Quarto Salto: 5.4 m\n",
    "    Quinto Salto: 5.3 m\n",
    "\n",
    "    Melhor salto:  6.5 m\n",
    "    Pior salto: 5.3 m\n",
    "    Média dos demais saltos: 5.9 m\n",
    "\n",
    "    Resultado final:\n",
    "    Rodrigo Curvêllo: 5.9 m\n",
    "\n"
   ]
  },
  {
   "cell_type": "markdown",
   "id": "bcfd1356",
   "metadata": {},
   "source": [
    "#### [Exercicio 088](exercicios/088.py)\n",
    "\n",
    "Em uma competição de ginástica, cada atleta recebe votos de sete jurados.\n",
    "A melhor e a pior nota são eliminadas.\n",
    "A sua nota fica sendo a média dos votos restantes.\n",
    "\n",
    "Você deve fazer um programa que receba o nome do ginasta e as notas dos sete\n",
    "jurados alcançadas pelo atleta em sua apresentação e depois informe a sua\n",
    "média, conforme a descrição acima informada (retirar o melhor e o pior salto e\n",
    "depois calcular a média com as notas restantes).\n",
    "\n",
    "As notas não são informados ordenadas.\n",
    "Um exemplo de saída do programa deve ser conforme o exemplo abaixo:\n",
    "    Atleta: Aparecido Parente\n",
    "    Nota: 9.9\n",
    "    Nota: 7.5\n",
    "    Nota: 9.5\n",
    "    Nota: 8.5\n",
    "    Nota: 9.0\n",
    "    Nota: 8.5\n",
    "    Nota: 9.7\n",
    "\n",
    "    Resultado final:\n",
    "    Atleta: Aparecido Parente\n",
    "    Melhor nota: 9.9\n",
    "    Pior nota: 7.5\n",
    "    Média: 9,04\n",
    "\n"
   ]
  },
  {
   "cell_type": "markdown",
   "id": "d36a3d7b",
   "metadata": {},
   "source": [
    "#### [Exercicio 089](exercicios/089.py)\n",
    "\n",
    "Faça um programa que peça um numero inteiro positivo e em seguida mostre este\n",
    "numero invertido.\n",
    "Exemplo:\n",
    "  12376489\n",
    "  => 98467321\n",
    "\n"
   ]
  },
  {
   "cell_type": "markdown",
   "id": "8f26506b",
   "metadata": {},
   "source": [
    "#### [Exercicio 090](exercicios/090.py)\n",
    "\n",
    "Faça um programa que mostre os n termos da Série a seguir:\n",
    "  S = 1/1 + 2/3 + 3/5 + 4/7 + 5/9 + ... + n/m.\n",
    "Imprima no final a soma da série.\n",
    "\n"
   ]
  },
  {
   "cell_type": "markdown",
   "id": "2b5f8a12",
   "metadata": {},
   "source": [
    "#### [Exercicio 091](exercicios/091.py)\n",
    "\n",
    "Sendo H= 1 + 1/2 + 1/3 + 1/4 + ... + 1/N,\n",
    "Faça um programa que calcule o valor de H com N termos.\n",
    "\n",
    "### Listas\n",
    "\n"
   ]
  },
  {
   "cell_type": "markdown",
   "id": "03bb0d65",
   "metadata": {},
   "source": [
    "#### [Exercicio 092](exercicios/092.py)\n",
    "\n",
    "Faça um Programa que leia um vetor de 5 números inteiros e mostre-os.\n",
    "\n"
   ]
  },
  {
   "cell_type": "markdown",
   "id": "6bbe0b60",
   "metadata": {},
   "source": [
    "#### [Exercicio 093](exercicios/093.py)\n",
    "\n",
    "Faça um Programa que leia um vetor de 10 números reais e mostre-os na ordem\n",
    "inversa.\n",
    "\n"
   ]
  },
  {
   "cell_type": "markdown",
   "id": "f908c03e",
   "metadata": {},
   "source": [
    "#### [Exercicio 094](exercicios/094.py)\n",
    "\n",
    "Faça um Programa que leia 4 notas, mostre as notas e a média na tela.\n",
    "\n"
   ]
  },
  {
   "cell_type": "markdown",
   "id": "f470c1d6",
   "metadata": {},
   "source": [
    "#### [Exercicio 095](exercicios/095.py)\n",
    "\n",
    "Faça um Programa que leia um vetor de 10 caracteres, e diga quantas consoantes\n",
    "foram lidas. Imprima as consoantes.\n",
    "\n"
   ]
  },
  {
   "cell_type": "markdown",
   "id": "fb63526f",
   "metadata": {},
   "source": [
    "#### [Exercicio 096](exercicios/096.py)\n",
    "\n",
    "Faça um Programa que leia 20 números inteiros e armazene-os num vetor.\n",
    "Armazene os números pares no vetor PAR e os números IMPARES no vetor impar.\n",
    "Imprima os três vetores.\n",
    "\n"
   ]
  },
  {
   "cell_type": "markdown",
   "id": "1852f87e",
   "metadata": {},
   "source": [
    "#### [Exercicio 097](exercicios/097.py)\n",
    "\n",
    "Faça um Programa que peça as quatro notas de 10 alunos, calcule e armazene num\n",
    "vetor a média de cada aluno, imprima o número de alunos com média maior ou\n",
    "igual a 7.0.\n",
    "\n"
   ]
  },
  {
   "cell_type": "markdown",
   "id": "8f96fbb1",
   "metadata": {},
   "source": [
    "#### [Exercicio 098](exercicios/098.py)\n",
    "\n",
    "Faça um Programa que leia um vetor de 5 números inteiros, mostre a soma, a\n",
    "multiplicação e os números.\n",
    "\n"
   ]
  },
  {
   "cell_type": "markdown",
   "id": "e688c74a",
   "metadata": {},
   "source": [
    "#### [Exercicio 099](exercicios/099.py)\n",
    "\n",
    "Faça um Programa que peça a idade e a altura de 5 pessoas, armazene cada\n",
    "informação no seu respectivo vetor. Imprima a idade e a altura na ordem\n",
    "inversa a ordem lida.\n",
    "\n"
   ]
  },
  {
   "cell_type": "markdown",
   "id": "9f3481b7",
   "metadata": {},
   "source": [
    "#### [Exercicio 100](exercicios/100.py)\n",
    "\n",
    "Faça um Programa que leia um vetor A com 10 números inteiros, calcule e mostre\n",
    "a soma dos quadrados dos elementos do vetor.\n",
    "\n"
   ]
  },
  {
   "cell_type": "markdown",
   "id": "b6667742",
   "metadata": {},
   "source": [
    "#### [Exercicio 101](exercicios/101.py)\n",
    "\n",
    "Faça um Programa que leia dois vetores com 10 elementos cada.\n",
    "Gere um terceiro vetor de 20 elementos, cujos valores deverão ser compostos\n",
    "pelos elementos intercalados dos dois outros vetores.\n",
    "\n"
   ]
  },
  {
   "cell_type": "markdown",
   "id": "702e4877",
   "metadata": {},
   "source": [
    "#### [Exercicio 102](exercicios/102.py)\n",
    "\n",
    "Altere o programa anterior, intercalando 3 vetores de 10 elementos cada.\n",
    "\n"
   ]
  },
  {
   "cell_type": "markdown",
   "id": "92923804",
   "metadata": {},
   "source": [
    "#### [Exercicio 103](exercicios/103.py)\n",
    "\n",
    "Foram anotadas as idades e alturas de 30 alunos.\n",
    "Faça um Programa que determine quantos alunos com mais de 13 anos possuem\n",
    "altura inferior à média de altura desses alunos.\n",
    "\n"
   ]
  },
  {
   "cell_type": "markdown",
   "id": "b12e26df",
   "metadata": {},
   "source": [
    "#### [Exercicio 104](exercicios/104.py)\n",
    "\n",
    "Faça um programa que receba a temperatura média de cada mês do ano e\n",
    "armazene-as em uma lista.\n",
    "Após isto, calcule a média anual das temperaturas e mostre todas as\n",
    "temperaturas acima da média anual, e em que mês elas ocorreram\n",
    "(mostrar o mês por extenso: 1 – Janeiro, 2 – Fevereiro, . . . ).\n",
    "\n"
   ]
  },
  {
   "cell_type": "markdown",
   "id": "622e0e55",
   "metadata": {},
   "source": [
    "#### [Exercicio 105](exercicios/105.py)\n",
    "\n",
    "Faça um programa que leia um número indeterminado de valores, correspondentes a\n",
    "notas, encerrando a entrada de dados quando for informado um valor igual a -1\n",
    "(que não deve ser armazenado).\n",
    "\n",
    "Após esta entrada de dados, faça:\n",
    "    Mostre a quantidade de valores que foram lidos;\n",
    "    Exiba todos os valores na ordem em que foram informados,\n",
    "        um ao lado do outro;\n",
    "    Exiba todos os valores na ordem inversa à que foram informados,\n",
    "        um abaixo do outro;\n",
    "    Calcule e mostre a soma dos valores;\n",
    "    Calcule e mostre a média dos valores;\n",
    "    Calcule e mostre a quantidade de valores acima da média calculada;\n",
    "    Calcule e mostre a quantidade de valores abaixo de sete;\n",
    "    Encerre o programa com uma mensagem;\n",
    "\n"
   ]
  },
  {
   "cell_type": "markdown",
   "id": "f8068749",
   "metadata": {},
   "source": [
    "#### [Exercicio 106](exercicios/106.py)\n",
    "\n",
    "Utilize uma lista para resolver o problema a seguir.\n",
    "Uma empresa paga seus vendedores com base em comissões.\n",
    "O vendedor recebe $200 por semana mais 9 por cento de suas vendas brutas\n",
    "daquela semana.\n",
    "Por exemplo, um vendedor que teve vendas brutas de $3000 em uma semana recebe\n",
    "$200 mais 9 por cento de $3000, ou seja, um total de $470.\n",
    "Escreva um programa (usando um array de contadores) que determine quantos\n",
    "vendedores receberam salários nos seguintes intervalos de valores:\n",
    "    $200 - $299\n",
    "    $300 - $399\n",
    "    $400 - $499\n",
    "    $500 - $599\n",
    "    $600 - $699\n",
    "    $700 - $799\n",
    "    $800 - $899\n",
    "    $900 - $999\n",
    "    $1000 em diante\n",
    "Desafio:\n",
    "    Crie ma fórmula para chegar na posição da lista a partir do salário,\n",
    "    sem fazer vários ifs aninhados.\n",
    "\n"
   ]
  },
  {
   "cell_type": "markdown",
   "id": "c51136ff",
   "metadata": {},
   "source": [
    "#### [Exercicio 107](exercicios/107.py)\n",
    "\n",
    "Uma grande emissora de televisão quer fazer uma enquete entre os seus\n",
    "telespectadores para saber qual o melhor jogador após cada jogo.\n",
    "Para isto, faz-se necessário o desenvolvimento de um programa, que será\n",
    "utilizado pelas telefonistas, para a computação dos votos.\n",
    "Sua equipe foi contratada para desenvolver este programa.\n",
    "Para computar cada voto, a telefonista digitará um número, entre 1 e 23,\n",
    "correspondente ao número da camisa do jogador.\n",
    "Um número de jogador igual zero, indica que a votação foi encerrada.\n",
    "Se um número inválido for digitado, o programa deve ignorá-lo, mostrando uma\n",
    "breve mensagem de aviso, e voltando a pedir outro número.\n",
    "Após o final da votação, o programa deverá exibir:\n",
    "    O total de votos computados;\n",
    "    Os númeos e respectivos votos de todos os jogadores que receberam votos;\n",
    "    O percentual de votos de cada um destes jogadores;\n",
    "    O número do jogador escolhido como o melhor jogador da partida,\n",
    "        juntamente com o número de votos e o percentual de votos dados a ele.\n",
    "    Observe que os votos inválidos e o zero final não devem ser computados\n",
    "        como votos.\n",
    "    O resultado aparece ordenado pelo número do jogador.\n",
    "    O programa deve fazer uso de arrays.\n",
    "    O programa deverá executar o cálculo do percentual de cada jogador\n",
    "        através de uma função. Esta função receberá dois parâmetros:\n",
    "            o número de votos de um jogador e o total de votos.\n",
    "    A função calculará o percentual e retornará o valor calculado.\n",
    "\n",
    "Exemplo:\n",
    "Enquete: Quem foi o melhor jogador?\n",
    "\n",
    "Número do jogador (0=fim): 9\n",
    "Número do jogador (0=fim): 10\n",
    "Número do jogador (0=fim): 9\n",
    "Número do jogador (0=fim): 10\n",
    "Número do jogador (0=fim): 11\n",
    "Número do jogador (0=fim): 10\n",
    "Número do jogador (0=fim): 50\n",
    "Informe um valor entre 1 e 23 ou 0 para sair!\n",
    "Número do jogador (0=fim): 9\n",
    "Número do jogador (0=fim): 9\n",
    "Número do jogador (0=fim): 0\n",
    "\n",
    "Resultado da votação:\n",
    "\n",
    "Foram computados 8 votos.\n",
    "\n",
    "Jogador Votos           %\n",
    "9       4               50,0%\n",
    "10      3               37,5%\n",
    "11      1               12,5%\n",
    "O melhor jogador foi o número 9, com 4 votos,\n",
    "correspondendo a 50% do total de votos.\n",
    "\n"
   ]
  },
  {
   "cell_type": "markdown",
   "id": "63d6ab31",
   "metadata": {},
   "source": [
    "#### [Exercicio 108](exercicios/108.py)\n",
    "\n",
    "Uma empresa de pesquisas precisa tabular os resultados da seguinte enquete\n",
    "feita a um grande quantidade de organizações:\n",
    "\"Qual o melhor Sistema Operacional para uso em servidores?\"\n",
    "\n",
    "As possíveis respostas são:\n",
    "\n",
    "1- Windows Server\n",
    "2- Unix\n",
    "3- Linux\n",
    "4- Netware\n",
    "5- Mac OS\n",
    "6- Outro\n",
    "\n",
    "Você foi contratado para desenvolver um programa que leia o resultado da\n",
    "enquete e informe ao final o resultado da mesma.\n",
    "O programa deverá ler os valores até ser informado o valor 0, que encerra a\n",
    "entrada dos dados.\n",
    "Não deverão ser aceitos valores além dos válidos para o programa (0 a 6).\n",
    "Os valores referentes a cada uma das opções devem ser armazenados num vetor.\n",
    "Após os dados terem sido completamente informados, o programa deverá calcular a\n",
    "percentual de cada um dos concorrentes e informar o vencedor da enquete.\n",
    "O formato da saída foi dado pela empresa, e é o seguinte:\n",
    "\n",
    "Sistema Operacional     Votos   %\n",
    "-------------------     -----   ---\n",
    "Windows Server           1500   17%\n",
    "Unix                     3500   40%\n",
    "Linux                    3000   34%\n",
    "Netware                   500    5%\n",
    "Mac OS                    150    2%\n",
    "Outro                     150    2%\n",
    "-------------------     -----\n",
    "Total                    8800\n",
    "\n",
    "O Sistema Operacional mais votado foi o Unix, com 3500 votos,\n",
    "correspondendo a 40% dos votos.\n",
    "\n"
   ]
  },
  {
   "cell_type": "markdown",
   "id": "901055a4",
   "metadata": {},
   "source": [
    "#### [Exercicio 109](exercicios/109.py)\n",
    "\n",
    "As Organizações Tabajara resolveram dar um abono aos seus colaboradores em\n",
    "reconhecimento ao bom resultado alcançado durante o ano que passou.\n",
    "Para isto contratou você para desenvolver a aplicação que servirá como uma\n",
    "projeção de quanto será gasto com o pagamento deste abono.\n",
    "Após reuniões envolvendo a diretoria executiva, a diretoria financeira e os\n",
    "representantes do sindicato laboral, chegou-se a seguinte forma de cálculo:\n",
    "\n",
    "    Cada funcionário receberá o equivalente a 20% do seu salário bruto de\n",
    "    dezembro;\n",
    "    O piso do abono será de 100 reais, isto é, aqueles funcionários cujo\n",
    "    salário for muito baixo recebem este valor mínimo;\n",
    "    Neste momento, não se deve ter nenhuma preocupação com colaboradores com\n",
    "    tempo menor de casa, descontos, impostos ou outras particularidades.\n",
    "\n",
    "Seu programa deverá permitir a digitação do salário de um número indefinido\n",
    "(desconhecido) de salários.\n",
    "Um valor de salário igual a 0 (zero) encerra a digitação.\n",
    "Após a entrada de todos os dados o programa deverá calcular o valor do abono\n",
    "concedido a cada colaborador, de acordo com a regra definida acima.\n",
    "Ao final, o programa deverá apresentar:\n",
    "    O salário de cada funcionário, juntamente com o valor do abono;\n",
    "    O número total de funcionários processados;\n",
    "    O valor total a ser gasto com o pagamento do abono;\n",
    "    O número de funcionários que receberão o valor mínimo de 100 reais;\n",
    "    O maior valor pago como abono;\n",
    "\n",
    "Exemplo:\n",
    "Projeção de Gastos com Abono\n",
    "============================\n",
    "\n",
    "Salário: 1000\n",
    "Salário: 300\n",
    "Salário: 500\n",
    "Salário: 100\n",
    "Salário: 4500\n",
    "Salário: 0\n",
    "\n",
    "Salário    - Abono\n",
    "R$ 1000.00 - R$  200.00\n",
    "R$  300.00 - R$  100.00\n",
    "R$  500.00 - R$  100.00\n",
    "R$  100.00 - R$  100.00\n",
    "R$ 4500.00 - R$  900.00\n",
    "\n",
    "Foram processados 5 colaboradores\n",
    "Total gasto com abonos: R$ 1400.00\n",
    "Valor mínimo foi pago a 3 colaboradores\n",
    "Maior valor de abono pago: R$ 900.00\n",
    "\n"
   ]
  }
 ],
 "metadata": {
  "kernelspec": {
   "display_name": "Python 3",
   "language": "python",
   "name": "python3"
  },
  "language_info": {
   "codemirror_mode": {
    "name": "ipython",
    "version": 3
   },
   "file_extension": ".py",
   "mimetype": "text/x-python",
   "name": "python",
   "nbconvert_exporter": "python",
   "pygments_lexer": "ipython3",
   "version": "3.13.2"
  }
 },
 "nbformat": 4,
 "nbformat_minor": 2
}
