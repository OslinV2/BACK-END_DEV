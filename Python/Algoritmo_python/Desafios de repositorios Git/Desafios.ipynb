{
 "cells": [
  {
   "cell_type": "code",
   "execution_count": null,
   "metadata": {},
   "outputs": [],
   "source": [
    "#### [Exercicio 001]\n",
    "# Faça um Programa que mostre a mensagem \"Alo mundo\" na tela.\n",
    "\n",
    "print('Alo, Mundo!')"
   ]
  },
  {
   "cell_type": "code",
   "execution_count": null,
   "metadata": {},
   "outputs": [],
   "source": [
    "\n",
    "n = input('Digite um valor: ')\n",
    "print(f'O informado foi {n}')"
   ]
  },
  {
   "cell_type": "code",
   "execution_count": null,
   "metadata": {},
   "outputs": [],
   "source": [
    "n1 = float(input('Digite o 1° valor: '))\n",
    "n2 = float(input('Digite o 2° valor: '))\n",
    "print(f\"A soma entre {n1} e {n2} é {round(n1 + n2)}\")"
   ]
  },
  {
   "cell_type": "code",
   "execution_count": null,
   "metadata": {},
   "outputs": [],
   "source": [
    "n1 = float(input('Digite o 1° nota: '))\n",
    "n2 = float(input('Digite o 2° nota: '))\n",
    "n3 = float(input('Digite o 3° nota: '))\n",
    "n4 = float(input('Digite o 4° nota: '))\n",
    "media = (n1 + n2 + n3 + n4) / 4\n",
    "print(f'A média entre as 3 notas é {media}')"
   ]
  },
  {
   "cell_type": "code",
   "execution_count": null,
   "metadata": {},
   "outputs": [],
   "source": [
    "metros = float(input('Digite o valor em metros: '))\n",
    "centimetros = round(metros * 100)\n",
    "print(f\"{metros} equivale a {centimetros}\")"
   ]
  },
  {
   "cell_type": "code",
   "execution_count": null,
   "metadata": {},
   "outputs": [],
   "source": [
    "raio = input('Digite o raio do circulo: ')\n",
    "area = 3.14 * raio ** 2\n",
    "print(f'A área é {area} unidades².')"
   ]
  },
  {
   "cell_type": "code",
   "execution_count": null,
   "metadata": {},
   "outputs": [],
   "source": [
    "lado = float(input('Digite o lado do quadrado: '))\n",
    "area = lado ** 2\n",
    "dobro = area * 2\n",
    "print(f'O dobro da area do quadrado equivale a {dobro}')"
   ]
  },
  {
   "cell_type": "code",
   "execution_count": null,
   "metadata": {},
   "outputs": [],
   "source": [
    "ganho_por_hora = float(input(\"Digite o seu gano por hora: \"))\n",
    "numero_de_hora =  float(input(\"Digite o numero de hora: \"))\n",
    "total = ganho_por_hora * numero_de_hora\n",
    "print(f'O total do seu salário é {total}')"
   ]
  },
  {
   "cell_type": "code",
   "execution_count": null,
   "metadata": {},
   "outputs": [],
   "source": [
    "temp = float(input('Digite a sua temperatura em graus Fahrenheit: '))\n",
    "celsiu = (5 * (temp - 32) / 9)\n",
    "print(f'{temp}°F equivale a {round(celsiu, 1)}°C')"
   ]
  },
  {
   "cell_type": "code",
   "execution_count": null,
   "metadata": {},
   "outputs": [],
   "source": [
    "temp = float(input('Digite a sua temperatura em graus Celsius: '))\n",
    "fahrenheit = (9 * temp) / 5 + 32\n",
    "print(f'{temp}°C equivale a {round(fahrenheit, 1)}°F')"
   ]
  },
  {
   "cell_type": "code",
   "execution_count": null,
   "metadata": {},
   "outputs": [],
   "source": [
    "primeiro = float(input('Digite o 1° valor: '))\n",
    "segundo = float(input('Digite o 2° valor: '))\n",
    "terceiro = float(input('Digite o 3° valor: '))\n",
    "print((2 * primeiro) * (segundo / 2))\n",
    "print((3 * primeiro) + terceiro)\n",
    "print(terceiro ** 3)"
   ]
  },
  {
   "cell_type": "code",
   "execution_count": null,
   "metadata": {},
   "outputs": [],
   "source": [
    "altura = float(input('Digite a sua altura: '))\n",
    "peso = (72.7 * altura) - 58\n",
    "print(f'O seu peso ideal seria {round(peso, 2)}Kls')"
   ]
  },
  {
   "cell_type": "code",
   "execution_count": null,
   "metadata": {},
   "outputs": [],
   "source": [
    "genero = (input('Digite o seu genero (M/F): ')).strip().upper()\n",
    "altura = float(input('Digite a sua altura: '))\n",
    "if genero == 'M':\n",
    "    peso = (72.7 * altura) - 58\n",
    "    print(f'O seu peso ideal sendo um homem seria {round(peso, 2)}Kls')\n",
    "elif genero == 'F':\n",
    "    peso = (72.7 * altura) - 58\n",
    "    print(f'O seu peso ideal sendo do uma mulher seria {round(peso, 2)}Kls')\n",
    "else:\n",
    "    print('O genero e peso está indisponivel')"
   ]
  },
  {
   "cell_type": "code",
   "execution_count": null,
   "metadata": {},
   "outputs": [],
   "source": [
    "peso = float(input('Digite o peso total da sua carga: '))\n",
    "execesso = 50\n",
    "multa = 4\n",
    "if peso >= execesso:\n",
    "    print(f'A sua carga de {peso}kg exedeu o limite estabelecido pela estado, será aplicado uma multa de R$ {multa},00 por quilo excedido')\n",
    "else:\n",
    "    print('O peso da sua carga está aceita!!')    "
   ]
  },
  {
   "cell_type": "code",
   "execution_count": null,
   "metadata": {},
   "outputs": [],
   "source": [
    "ganho = float(input('Digite o total do seu salário no mês: '))\n",
    "hora = float(input('Digite a quantidade de horas trabalhadas no mês: '))\n",
    "salario_bruto = ganho * hora\n",
    "imposto_renda = salario_bruto * (11 / 100)\n",
    "inss = salario_bruto * (8 / 100)\n",
    "sindicato = salario_bruto * (5 / 100)\n",
    "salario_liquido = salario_bruto - (imposto_renda + inss + sindicato)\n",
    "print('---- descontos aplicados no total ----')\n",
    "print(f'Salário Bruto : {salario_bruto}R$')\n",
    "print(f'IR (11%) : {imposto_renda}R$')\n",
    "print(f'INSS (8%) : {inss}R$')\n",
    "print(f'Sindicato (5%) : {sindicato}R$')\n",
    "print(f'Salário Liquido : {salario_liquido}R$')\n"
   ]
  },
  {
   "cell_type": "code",
   "execution_count": null,
   "metadata": {},
   "outputs": [],
   "source": [
    "print('------- loja de tintas -------')\n",
    "area = float(input('Digite o tamanho em m² da área'))\n",
    "lata = 18\n",
    "galao = \n",
    "print(f'A quantidade de latas de tintas a serem comprados é {compra} por {total}R$')"
   ]
  },
  {
   "cell_type": "code",
   "execution_count": null,
   "metadata": {},
   "outputs": [],
   "source": []
  },
  {
   "cell_type": "code",
   "execution_count": null,
   "metadata": {},
   "outputs": [],
   "source": []
  },
  {
   "cell_type": "code",
   "execution_count": null,
   "metadata": {},
   "outputs": [],
   "source": []
  }
 ],
 "metadata": {
  "language_info": {
   "name": "python"
  }
 },
 "nbformat": 4,
 "nbformat_minor": 2
}
