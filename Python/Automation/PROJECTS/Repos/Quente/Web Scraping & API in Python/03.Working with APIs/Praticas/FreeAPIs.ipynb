{
 "cells": [
  {
   "cell_type": "markdown",
   "metadata": {},
   "source": [
    "### **1. APIs de Dados Abertos e Utilitários**  \n",
    "- **[Public APIs](https://github.com/public-apis/public-apis)** – Lista com centenas de APIs gratuitas.  \n",
    "- **[JSONPlaceholder](https://jsonplaceholder.typicode.com/)** – API fake para testes com CRUD.  \n",
    "- **[RandomUser](https://randomuser.me/)** – Gera usuários aleatórios com fotos e dados.  \n",
    "- **[Dicebear Avatars](https://www.dicebear.com/)** – Gera avatares aleatórios como SVG.  \n",
    "- **[Agify](https://agify.io/)** – Estima a idade com base no nome.  \n",
    "- **[Genderize](https://genderize.io/)** – Prediz o gênero com base no nome.  \n",
    "- **[Nationalize](https://nationalize.io/)** – Prediz a nacionalidade com base no nome.  \n",
    "\n",
    "### **2. APIs de Programação e DevOps**  \n",
    "- **[GitHub REST API](https://docs.github.com/en/rest)** – Interage com repositórios e usuários.  \n",
    "- **[GitLab API](https://docs.gitlab.com/ee/api/)** – Consulta projetos, commits, branches etc.  \n",
    "- **[ReqRes](https://reqres.in/)** – API para testar requisições HTTP (CRUD).  \n",
    "\n",
    "### **3. APIs de Finanças e Moedas**  \n",
    "- **[Exchangerate API](https://exchangerate.host/)** – Conversão de moedas em tempo real.  \n",
    "- **[CryptoCompare](https://min-api.cryptocompare.com/)** – Dados de criptomoedas.  \n",
    "\n",
    "### **4. APIs de Notícias e Cultura**  \n",
    "- **[News API (Grátis para devs)](https://newsapi.org/)** – Consulta notícias globais.  \n",
    "- **[Open Library](https://openlibrary.org/developers/api)** – Banco de dados de livros e autores.  \n",
    "- **[TVMaze](https://www.tvmaze.com/api)** – Informações sobre séries e TV.  \n",
    "\n",
    "### **5. APIs de Geolocalização e Clima**  \n",
    "- **[OpenWeatherMap](https://openweathermap.org/api)** – Dados meteorológicos gratuitos.  \n",
    "- **[Geocoding API (OpenStreetMap)](https://nominatim.org/release-docs/latest/api/Overview/)** – Converte endereços em coordenadas.  \n",
    "- **[IP-API](https://ip-api.com/)** – Localização de IPs.  \n",
    "\n",
    "### **6. APIs de Entretenimento e Jogos**  \n",
    "- **[PokéAPI](https://pokeapi.co/)** – Dados de todos os Pokémon.  \n",
    "- **[The Rick and Morty API](https://rickandmortyapi.com/)** – Personagens, episódios e locais do desenho.  \n",
    "- **[Star Wars API](https://swapi.dev/)** – Informações sobre o universo Star Wars.  \n",
    "\n",
    "### **7. APIs de Inteligência Artificial e Texto**  \n",
    "- **[OpenAI API (GPT-3)](https://openai.com/blog/openai-api)** – Tem um plano gratuito limitado.  \n",
    "- **[IBM Watson NLP](https://www.ibm.com/watson/products-services/)** – Serviços gratuitos de IA e NLP.  "
   ]
  }
 ],
 "metadata": {
  "language_info": {
   "name": "python"
  }
 },
 "nbformat": 4,
 "nbformat_minor": 2
}
