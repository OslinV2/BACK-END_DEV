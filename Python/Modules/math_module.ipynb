{
 "cells": [
  {
   "cell_type": "code",
   "execution_count": null,
   "id": "be19f206",
   "metadata": {},
   "outputs": [],
   "source": [
    "# Módulo os - Interação com o Sistema Operacional\n",
    "import os"
   ]
  },
  {
   "cell_type": "code",
   "execution_count": null,
   "id": "30a400c3",
   "metadata": {},
   "outputs": [],
   "source": [
    "# 1. Gerenciamento de Diretórios\n",
    "\n",
    "# Obter o diretório atual\n",
    "print(os.getcwd())  \n",
    "\n",
    "# Mudar para outro diretório\n",
    "# os.chdir(\"C:/Users/SeuUsuario/Desktop\")  \n",
    "\n",
    "# Listar arquivos e diretórios\n",
    "print(os.listdir(\".\"))  \n"
   ]
  },
  {
   "cell_type": "code",
   "execution_count": null,
   "id": "e8fb38e7",
   "metadata": {},
   "outputs": [],
   "source": [
    "# Criar diretórios\n",
    "os.mkdir(\"nova_pasta\")  \n",
    "os.makedirs(\"pasta1/pasta2\")  \n"
   ]
  },
  {
   "cell_type": "code",
   "execution_count": null,
   "id": "08e513c4",
   "metadata": {},
   "outputs": [],
   "source": [
    "# Remover diretórios\n",
    "os.rmdir(\"nova_pasta\")  \n",
    "os.removedirs(\"pasta1/pasta2\")  \n"
   ]
  },
  {
   "cell_type": "code",
   "execution_count": null,
   "id": "3da8fa9b",
   "metadata": {},
   "outputs": [],
   "source": [
    "# 2. Gerenciamento de Arquivos\n",
    "\n",
    "# Renomear arquivo\n",
    "# os.rename(\"arquivo_antigo.txt\", \"arquivo_novo.txt\")  \n",
    "\n",
    "# Remover arquivo\n",
    "# os.remove(\"arquivo.txt\")  \n"
   ]
  },
  {
   "cell_type": "code",
   "execution_count": null,
   "id": "e09d691e",
   "metadata": {},
   "outputs": [],
   "source": [
    "# Verificar se arquivos e diretórios existem\n",
    "print(os.path.exists(\"arquivo.txt\"))  \n",
    "print(os.path.isfile(\"arquivo.txt\"))  \n",
    "print(os.path.isdir(\"pasta\"))  \n"
   ]
  },
  {
   "cell_type": "code",
   "execution_count": null,
   "id": "90560160",
   "metadata": {},
   "outputs": [],
   "source": [
    "# 3. Manipulação de Caminhos\n",
    "\n",
    "# Juntar e separar caminhos\n",
    "caminho = os.path.join(\"pasta\", \"arquivo.txt\")  \n",
    "print(caminho)\n"
   ]
  },
  {
   "cell_type": "code",
   "execution_count": null,
   "id": "6e48812f",
   "metadata": {},
   "outputs": [],
   "source": [
    "# Obter nome do arquivo e diretório\n",
    "print(os.path.basename(\"caminho/arquivo.txt\"))  \n",
    "print(os.path.dirname(\"caminho/arquivo.txt\"))  \n"
   ]
  },
  {
   "cell_type": "code",
   "execution_count": null,
   "id": "65196bcd",
   "metadata": {},
   "outputs": [],
   "source": [
    "# Obter tamanho do arquivo\n",
    "# print(os.path.getsize(\"arquivo.txt\"))  \n"
   ]
  },
  {
   "cell_type": "code",
   "execution_count": null,
   "id": "c5bacd78",
   "metadata": {},
   "outputs": [],
   "source": [
    "# 4. Variáveis de Ambiente\n",
    "\n",
    "# Obter variáveis de ambiente\n",
    "print(os.environ.get(\"USER\"))  \n"
   ]
  },
  {
   "cell_type": "code",
   "execution_count": null,
   "id": "a12007b1",
   "metadata": {},
   "outputs": [],
   "source": [
    "# Definir variáveis de ambiente\n",
    "os.environ[\"MINHA_VARIAVEL\"] = \"valor\"\n"
   ]
  },
  {
   "cell_type": "code",
   "execution_count": null,
   "id": "a6cebb04",
   "metadata": {},
   "outputs": [],
   "source": [
    "# 5. Executar Comandos do Sistema\n",
    "\n",
    "# Executar comando no terminal\n",
    "# os.system(\"dir\")  # Windows\n",
    "# os.system(\"ls\")   # Linux/macOS\n"
   ]
  },
  {
   "cell_type": "code",
   "execution_count": null,
   "id": "5949ba1c",
   "metadata": {},
   "outputs": [],
   "source": [
    "# Abrir programa\n",
    "# os.startfile(\"notepad.exe\")  # Windows\n",
    "# os.system(\"open /Applications/Calculator.app\")  # macOS\n"
   ]
  },
  {
   "cell_type": "code",
   "execution_count": null,
   "id": "583829cc",
   "metadata": {},
   "outputs": [],
   "source": [
    "# 6. Obter Informações do Sistema\n",
    "\n",
    "import platform\n",
    "print(platform.system())  \n",
    "print(platform.release())  \n"
   ]
  }
 ],
 "metadata": {},
 "nbformat": 4,
 "nbformat_minor": 5
}
